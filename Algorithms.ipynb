{
 "cells": [
  {
   "cell_type": "code",
   "execution_count": 1,
   "metadata": {},
   "outputs": [],
   "source": [
    "from itertools import permutations\n",
    "import math\n",
    "from segment_tree import *"
   ]
  },
  {
   "cell_type": "markdown",
   "metadata": {},
   "source": [
    "## kth permutation of n distinct numbers"
   ]
  },
  {
   "cell_type": "code",
   "execution_count": 2,
   "metadata": {},
   "outputs": [
    {
     "data": {
      "text/plain": [
       "('2', '3', '1', '5', '4', '0')"
      ]
     },
     "execution_count": 2,
     "metadata": {},
     "output_type": "execute_result"
    }
   ],
   "source": [
    "x = permutations('012345')\n",
    "l = []\n",
    "for i in range(300):\n",
    "    l.append(next(x))\n",
    "l[-1]"
   ]
  },
  {
   "cell_type": "code",
   "execution_count": 3,
   "metadata": {},
   "outputs": [],
   "source": [
    "fact = lambda num : (lambda func : func(func, num))(lambda rec_func, n : n * rec_func(rec_func, n-1) if n > 1 else 1)\n",
    "\n",
    "def k_perm(n, k):\n",
    "    arr = [i for i in range(n)]\n",
    "    perm = []\n",
    "    for num in range(n-1,-1,-1):\n",
    "        f = fact(num)\n",
    "        q = k//f\n",
    "        r = k - q*f\n",
    "        if not r:\n",
    "            r = f\n",
    "            q -= 1\n",
    "        k = r\n",
    "        #print(q,r)\n",
    "        perm.append(arr[q])\n",
    "        arr.remove(arr[q])\n",
    "    return perm"
   ]
  },
  {
   "cell_type": "code",
   "execution_count": 4,
   "metadata": {},
   "outputs": [
    {
     "data": {
      "text/plain": [
       "[0, 1, 2, 7, 16, 11, 4, 3, 13, 18, 8, 9, 6, 10, 19, 12, 15, 14, 17, 5]"
      ]
     },
     "execution_count": 4,
     "metadata": {},
     "output_type": "execute_result"
    }
   ],
   "source": [
    "k_perm(20, 100000000000000)"
   ]
  },
  {
   "cell_type": "markdown",
   "metadata": {},
   "source": [
    "## Efficient Fibonacci (in linear time)"
   ]
  },
  {
   "cell_type": "code",
   "execution_count": 5,
   "metadata": {},
   "outputs": [
    {
     "data": {
      "text/plain": [
       "[0, 0, 1, 1, 2]"
      ]
     },
     "execution_count": 5,
     "metadata": {},
     "output_type": "execute_result"
    }
   ],
   "source": [
    "def good_fibonacci(n):    #(n+1, nth) fibonacci term\n",
    "    if n <= 1:\n",
    "        return (n,0)\n",
    "    else:\n",
    "        (a, b) = good_fibonacci(n-1)\n",
    "    return (a+b, a)\n",
    "\n",
    "[good_fibonacci(i)[1] for i in range(5)]"
   ]
  },
  {
   "cell_type": "markdown",
   "metadata": {},
   "source": [
    "## computing powers with recursion (O(log n))"
   ]
  },
  {
   "cell_type": "code",
   "execution_count": 6,
   "metadata": {},
   "outputs": [
    {
     "data": {
      "text/plain": [
       "1024"
      ]
     },
     "execution_count": 6,
     "metadata": {},
     "output_type": "execute_result"
    }
   ],
   "source": [
    "def power(x, n):\n",
    "    if n == 0:\n",
    "        return 1\n",
    "    else: \n",
    "        partial = power(x, n//2)\n",
    "        #print(partial,n)\n",
    "        result = partial*partial\n",
    "        if n%2 == 1:\n",
    "            result *= x\n",
    "        return result\n",
    "    \n",
    "power(2,10)"
   ]
  },
  {
   "cell_type": "markdown",
   "metadata": {},
   "source": [
    "## Binary Search : (O(log n))"
   ]
  },
  {
   "cell_type": "code",
   "execution_count": 1,
   "metadata": {},
   "outputs": [
    {
     "data": {
      "text/plain": [
       "2"
      ]
     },
     "execution_count": 1,
     "metadata": {},
     "output_type": "execute_result"
    }
   ],
   "source": [
    "# requries the array input to be sorted\n",
    "def bin_search(data, target, low, high):\n",
    "    if low > high: #empty interval: no match\n",
    "        return False\n",
    "    else:\n",
    "        mid = (low + high) // 2\n",
    "        if target == data[mid]:\n",
    "            return mid\n",
    "        elif target < data[mid]:   #left portion\n",
    "            return bin_search(data, target, low, mid - 1)\n",
    "        else:        #right portion\n",
    "            return bin_search(data, target, mid + 1, high)\n",
    "        \n",
    "bin_search([1,2,3,4,5,6],3,0,5)"
   ]
  }
 ],
 "metadata": {
  "kernelspec": {
   "display_name": "Python 3",
   "language": "python",
   "name": "python3"
  },
  "language_info": {
   "codemirror_mode": {
    "name": "ipython",
    "version": 3
   },
   "file_extension": ".py",
   "mimetype": "text/x-python",
   "name": "python",
   "nbconvert_exporter": "python",
   "pygments_lexer": "ipython3",
   "version": "3.8.2"
  }
 },
 "nbformat": 4,
 "nbformat_minor": 4
}
