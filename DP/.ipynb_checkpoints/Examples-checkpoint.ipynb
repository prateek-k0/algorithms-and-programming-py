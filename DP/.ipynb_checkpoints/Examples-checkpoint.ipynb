{
 "cells": [
  {
   "cell_type": "markdown",
   "metadata": {},
   "source": [
    "## 1. Coin Change Problem:\n",
    "#### We can divide the solution similar to the problem of arriving at a sum with different numbers"
   ]
  },
  {
   "cell_type": "code",
   "execution_count": 4,
   "metadata": {},
   "outputs": [
    {
     "name": "stdout",
     "output_type": "stream",
     "text": [
      "10 4\n",
      "2 5 3 6\n",
      "5\n"
     ]
    }
   ],
   "source": [
    "\n",
    "n, m = [int(x) for x in input().split()]\n",
    "coins = [int(x) for x in input().split()]\n",
    "\n",
    "nways = [1] + [0] * n  #nways[0] = 0\n",
    "\n",
    "for i in range(m):\n",
    "    for j in range(coins[i], n+1):\n",
    "        nways[j] += nways[j - coins[i]]  #much like the sum problem\n",
    "\n",
    "print(nways[-1])"
   ]
  },
  {
   "cell_type": "markdown",
   "metadata": {},
   "source": [
    "## 2. Hackerrank Challenge - EQUAL\n"
   ]
  },
  {
   "cell_type": "code",
   "execution_count": null,
   "metadata": {},
   "outputs": [],
   "source": [
    "'''\n",
    "now, to change a sequence such that all the elements are equal, we can do either of the things: \n",
    "1. add each by some amount\n",
    "2. substract each by some amount\n",
    "\n",
    "note, these essentially are the same operations. Now, we are allowed to perform operations on atmost 2 of the sequence\n",
    "hence, adding some k to the two is equivalent (in terms of difference) to removing some k from the remaining one\n",
    "(or the chosen one).\n",
    "\n",
    "Now, we can consider, the min of the sequence to be the point where we have to get, that is, all three of them should be equal\n",
    "to this min.\n",
    "\n",
    "we denote the number of operations it takes for a sequence to get to its min as f(min)\n",
    "\n",
    "now, it might be possible that f(min-1) < f(min), since its by no means a greedy solution.\n",
    "also, f(min-2) > f(min-3) > f(min-4)\n",
    "\n",
    "but at the same time, f(min-5) > f(min), since that just adds another operation to every element, that is, n more operations, \n",
    "hence, we may conclude that the limit is upto the max amount of the operation available, ie, max(1, 2, 5) - 1.\n",
    "\n",
    "hence, answer = minimum(f(min), f(min-1), f(min-2), f(min-3), f(min-4)) , minimum(f(min - 0)...f(min - max(ops)-1))\n",
    "\n",
    "'''"
   ]
  },
  {
   "cell_type": "code",
   "execution_count": 12,
   "metadata": {},
   "outputs": [
    {
     "name": "stdout",
     "output_type": "stream",
     "text": [
      "1\n",
      "3\n",
      "10 7 12\n",
      "3\n"
     ]
    }
   ],
   "source": [
    "for _ in range(int(input())):\n",
    "    n = int(input())\n",
    "    candies = sorted([int(x) for x in input().split()])\n",
    "    target = candies[0] #minimum to be approached to\n",
    "    min_list = []\n",
    "    t = 0\n",
    "    while target > 0 and t <= 4:\n",
    "        curr = 0\n",
    "        for i in range(1, n):\n",
    "            diff = candies[i] - target\n",
    "            curr += (diff // 5) + ((diff%5)//2) + (((diff%5)%2)//1)\n",
    "        min_list.append(curr)\n",
    "        target -= 1\n",
    "        t += 1\n",
    "    print(min(min_list))"
   ]
  },
  {
   "cell_type": "markdown",
   "metadata": {},
   "source": [
    "## 3. Hackerrank Challenge - Sherlock and cost"
   ]
  },
  {
   "cell_type": "code",
   "execution_count": null,
   "metadata": {},
   "outputs": [],
   "source": [
    "''' \n",
    "The logic's as follows:\n",
    "\n",
    "starting from the B[1...n](0 - indexed), we, see that every element in A can either be 1 or B[i] only.\n",
    "at every element have to options:\n",
    "1. change previous element to 1, calculate its difference with the current element(next_max_previous, or nmp)\n",
    "2. change current element to 1, calculate its difference with the previous element(next_max_current, or nmc)\n",
    "\n",
    "Now, \n",
    "\n",
    "we can only use nmp iff the previous element has not been converted to 1, and\n",
    "nmc can be used iff the previous element has been converted to 1(to maximize the difference)\n",
    "\n",
    "hence, we add nmc to maxp and nmp to maxc and see if it is greater than its opposite max\n",
    "'''"
   ]
  },
  {
   "cell_type": "code",
   "execution_count": 4,
   "metadata": {},
   "outputs": [
    {
     "name": "stdout",
     "output_type": "stream",
     "text": [
      "1\n",
      "4\n",
      "3 4 7 3\n",
      "14\n"
     ]
    }
   ],
   "source": [
    "for _ in range(int(input())):\n",
    "    n = int(input())\n",
    "    b = [int(x) for x in input().split()]\n",
    "    maxc, maxp = 0, 0\n",
    "    for i in range(1, n):\n",
    "        nmc = b[i-1] - 1\n",
    "        nmp = b[i] - 1\n",
    "        next_maxc = max(maxc, maxp+nmc)\n",
    "        next_maxp = max(maxp, maxc+nmp)\n",
    "        maxc = next_maxc\n",
    "        maxp = next_maxp\n",
    "    print(max(maxc, maxp))"
   ]
  },
  {
   "cell_type": "markdown",
   "metadata": {},
   "source": [
    "## 4. Construct the array"
   ]
  },
  {
   "cell_type": "code",
   "execution_count": 1,
   "metadata": {},
   "outputs": [
    {
     "data": {
      "text/plain": [
       "' Now, we identify 2 cases such as:\\n1. x == 1\\n2. not(x == 1)\\n\\nlet fj(i) denote the array with ending j at length i\\n\\nalso, consider fz(i) be array ending with any element other than 1\\nfor arrays ending with 1, we have f1(i)\\n\\ntherefore, by definition, fz(i) = f1(i-1) + f2(i-1) + ... fk(i-1) for all k != z (to preserve consecutive distinctness)\\nsince f2(i) == f3(i) == ... fk(i), (all cases with ending other than 1 are the same)\\nfz(i) = f1(i-1) + (k-2)f2(i-1) = f2(i)\\n\\nnow, for f1(i)\\nx can be 1 iff its previous element is not 1\\nthat is,\\nf1(i) = f2(i-1) + f3(i-1) + ... + fk(i-1)\\nsince f2(i) == f3(i) == ... fk(i)\\nf1(i) = (k-1)f2(i-1)\\n\\nhence, f2(i) = (k-1)f2(i-2) + (k-2)f2(i-1)\\n'"
      ]
     },
     "execution_count": 1,
     "metadata": {},
     "output_type": "execute_result"
    }
   ],
   "source": [
    "''' Now, we identify 2 cases such as:\n",
    "1. x == 1\n",
    "2. not(x == 1)\n",
    "\n",
    "let fj(i) denote the array with ending j at length i\n",
    "\n",
    "also, consider fz(i) be array ending with any element other than 1\n",
    "for arrays ending with 1, we have f1(i)\n",
    "\n",
    "therefore, by definition, fz(i) = f1(i-1) + f2(i-1) + ... fk(i-1) for all k != z (to preserve consecutive distinctness)\n",
    "since f2(i) == f3(i) == ... fk(i), (all cases with ending other than 1 are the same)\n",
    "fz(i) = f1(i-1) + (k-2)f2(i-1) = f2(i)\n",
    "\n",
    "now, for f1(i)\n",
    "x can be 1 iff its previous element is not 1\n",
    "that is,\n",
    "f1(i) = f2(i-1) + f3(i-1) + ... + fk(i-1)\n",
    "since f2(i) == f3(i) == ... fk(i)\n",
    "f1(i) = (k-1)f2(i-1)\n",
    "\n",
    "hence, f2(i) = (k-1)f2(i-2) + (k-2)f2(i-1)\n",
    "'''"
   ]
  },
  {
   "cell_type": "code",
   "execution_count": 2,
   "metadata": {},
   "outputs": [
    {
     "name": "stdout",
     "output_type": "stream",
     "text": [
      "4 3 2\n",
      "3\n"
     ]
    }
   ],
   "source": [
    "n,k,x = [int(x) for x in input().split()]\n",
    "serx, ser1 = [0]*n, [0]*n\n",
    "# serx -> if not x == 1, ser1 -> if x == 1\n",
    "serx[0], ser1[0] = 1, 1   #length = 1, no combinations\n",
    "serx[1], ser1[1] = 1, 0    #if length = 2, serx = 1 ([1,x]), ser1 = 0 ([1,1] is not possible) \n",
    "for i in range(2, n):\n",
    "    serx[i] = (ser1[i-1] + (k-2)*serx[i-1])%int(1e9+7)\n",
    "    ser1[i] = (serx[i-1]*(k-1))%int(1e9+7)\n",
    "if x == 1:\n",
    "    print(ser1[n-1])\n",
    "else:\n",
    "    print(serx[n-1])"
   ]
  },
  {
   "cell_type": "markdown",
   "metadata": {},
   "source": [
    "## 5. Sam and Substrings"
   ]
  },
  {
   "cell_type": "code",
   "execution_count": 34,
   "metadata": {},
   "outputs": [
    {
     "name": "stdout",
     "output_type": "stream",
     "text": [
      "213676822290\n",
      "546421488\n"
     ]
    }
   ],
   "source": [
    "''' Sam and substrings \n",
    "for string 6789, possible substrings are:\n",
    "6, 7, 8, 9, 67, 78, 89, 678, 789, 6789\n",
    "now observe the frequency of each digit in the various respective positions:\n",
    "Frequency in substrings at positions\n",
    "Digit   Unit    Ten     Hundred     Thousand        Sum\n",
    "6       1       1       1           1           = 6*1*1111\n",
    "7       2       2       2                       = 7*2*111\n",
    "8       3       3                               = 8*3*11\n",
    "9       4                                       = 9*4*1\n",
    "'''\n",
    "\n",
    "''' always start from lower '''\n",
    "''' see usage of mod '''\n",
    "''' use s = s+... instead of s += ... , because the behaviour changes in the presence of mod '''\n",
    "mod = int(1e9+7)\n",
    "num = [int(x) for x in input()]\n",
    "s = 0\n",
    "freq_mul = 1\n",
    "for i in range(len(num)-1, -1, -1):\n",
    "    s = (s+(num[i]*freq_mul*(i+1))) % mod\n",
    "    freq_mul = ((freq_mul*10)+1)%mod\n",
    "print(s)\n"
   ]
  },
  {
   "cell_type": "markdown",
   "metadata": {},
   "source": [
    "## 6. Fibonacci Modified"
   ]
  },
  {
   "cell_type": "code",
   "execution_count": 27,
   "metadata": {},
   "outputs": [
    {
     "name": "stdout",
     "output_type": "stream",
     "text": [
      "0 1 5\n",
      "5\n"
     ]
    }
   ],
   "source": [
    "'''Fibonacci Modified '''\n",
    "a, b, n = [int(x) for x in input().split()]\n",
    "ti = None\n",
    "for i in range(2, n):\n",
    "    b, a = a+(b**2), b\n",
    "print(b)"
   ]
  },
  {
   "cell_type": "markdown",
   "metadata": {},
   "source": [
    "## 7. Maximum Subarray "
   ]
  },
  {
   "cell_type": "code",
   "execution_count": 35,
   "metadata": {},
   "outputs": [
    {
     "name": "stdout",
     "output_type": "stream",
     "text": [
      "1\n",
      "6\n",
      "2 -1 2 3 4 -5\n",
      "10 11\n"
     ]
    }
   ],
   "source": [
    "''' Maximum Subarray sum '''\n",
    "''' \n",
    "We define subsequence as any subset of an array. We define a subarray as a contiguous subsequence in an array.\n",
    "\n",
    "1. For subsequence, it is as easy as filtering out the positive values and taking their sum\n",
    "2. For subarray, we use DP\n",
    "'''\n",
    "\n",
    "for _ in range(int(input())):\n",
    "    n = int(input())\n",
    "    arr = [int(x) for x in input().split()]\n",
    "    subseq, global_subarray, curr_subarray = 0, arr[0], 0\n",
    "    for i in range(n):\n",
    "        curr_subarray = max(arr[i], curr_subarray+arr[i])\n",
    "        global_subarray = max(global_subarray, curr_subarray)\n",
    "    if (k:=max(arr)) < 0:\n",
    "        subseq += k\n",
    "    else:\n",
    "        for i in range(n):\n",
    "            if arr[i] >= 0: #for subseq\n",
    "                subseq += arr[i]\n",
    "    print(global_subarray, subseq)"
   ]
  },
  {
   "cell_type": "markdown",
   "metadata": {},
   "source": [
    "## 8. Stock Maximize\n",
    "\n",
    "#### We traverse in reverse to find the maximum value of the stock, on that day, we sell, on the days before (upto the next bigger value of the stock, if any) we buy stocks"
   ]
  },
  {
   "cell_type": "code",
   "execution_count": 51,
   "metadata": {},
   "outputs": [
    {
     "data": {
      "text/plain": [
       "982"
      ]
     },
     "execution_count": 51,
     "metadata": {},
     "output_type": "execute_result"
    }
   ],
   "source": [
    "''' naive bruteforce '''\n",
    "\n",
    "def calc(n, curr_profit, num_stock):\n",
    "    global arr\n",
    "    if n >= len(arr):\n",
    "        return curr_profit\n",
    "\n",
    "    ''' 3 conditions :\n",
    "        1. buy -> curr_profit -= arr[i], num_stock += 1\n",
    "        2. sell all -> curr_profit += (num_stock*arr[i]), num_stock = 0\n",
    "        3. hold -> curr_profit += 0, num_stock += 0\n",
    "    '''\n",
    "    return max(calc(n+1, curr_profit-arr[n], num_stock+1),  #buy\n",
    "               (calc(n+1, (curr_profit+arr[n]*num_stock), 0) if num_stock else 0), #sell all)\n",
    "               calc(n+1, curr_profit, num_stock))   #hold\n",
    "arr = [1,2,4,100,105,6,200]\n",
    "calc(0, 0, 0)"
   ]
  },
  {
   "cell_type": "code",
   "execution_count": 50,
   "metadata": {},
   "outputs": [
    {
     "name": "stdout",
     "output_type": "stream",
     "text": [
      "3\n",
      "3\n",
      "5 3 2\n",
      "0\n",
      "3\n",
      "1 2 100\n",
      "197\n",
      "4\n",
      "1 3 1 2\n",
      "3\n"
     ]
    }
   ],
   "source": [
    "''' DP solution '''\n",
    "\n",
    "''' So the idea is to traverse backwards, finding local maximas, which are said to be the points\n",
    "where all the stocks yet collected are to be sold. On all other days, if price less than local maxima, we buy stocks\n",
    "\n",
    "Imagine you bought a stock on day . You should sell it only when the price rises to maximum if you want to earn maximum profit. \n",
    "'''\n",
    "def calc2():\n",
    "    global arr\n",
    "    local_maxima = arr[-1]\n",
    "    sold = 0\n",
    "    bought = 0\n",
    "    for i in range(len(arr)-2,-1,-1):\n",
    "        local_maxima = max(local_maxima, arr[i])\n",
    "        sold += local_maxima\n",
    "        bought += arr[i]\n",
    "    return sold - bought\n",
    "for _ in range(int(input())):\n",
    "    n = int(input())\n",
    "    arr = [int(x) for x in input().split()]\n",
    "    print(calc2())"
   ]
  },
  {
   "cell_type": "markdown",
   "metadata": {},
   "source": [
    "# int(1e9+7) is faster than 1000000007\n",
    "# int(1e9+7) and 10 ** 9 +7 are about equal"
   ]
  },
  {
   "cell_type": "markdown",
   "metadata": {},
   "source": [
    "## 9. Lego Blocks\n",
    "\n",
    "#### There are two related problems you need to understand before you solve the full problem.\n",
    "\n",
    "#### First, in how many ways can you cover a 1xn strip using 1x1, 1x2, 1x3, and 1x4 blocks? There is only one row, and there is no condition on a lack of vertical lines splitting the configuration. Let f(n) be the number of ways you can use 1x1 ... 1x4 blocks to partition a 1xn row. So, f(0) = 1, trivially. f(1)= 1, since you can use a 1x1 block. f(2) = 2 since you can use two 1x1 blocks (write that as 1+1) or a 1x2 block (write that as 2). f(3) = 4 since you can use 1+1+1, 1+2, 2+1, or 3. f(4) = 8: 1+1+1+1, 1+1+2, 1+2+1, 1+3, 2+1+1, 2+2, 3+1,4. f(5) = 15.\n",
    "\n",
    "#### You can compute f(n) in many ways. One is with dynamic programming. This means you relate f(n) to remembered values. So, keep track of f(0) through f(n-1), say in an array. Then f(n) = f(n-4)+f(n-3)+f(n-2)+f(n-1) (evaluating f of a negative number as 0) since we can start with a 1x4 block and follow it with any way to partition a 1x(n-4) block, or we can start with a 1x3 block and follow it with any way to partition a 1x(n-3) block, etc. It is very fast to compute any value of f(n) that does not overflow this way, in part because the values increase exponentially so they will overflow quickly.\n",
    "\n",
    "#### If you only allow 1x1 and 1x2 blocks, the count is related to Fibonacci numbers. If r(n) counts the number of ways to use just 1x1 and 1x2 blocks, then r(0)=1, r(1)=1, r(2)=2, r(3)=3, r(4)=5, etc. so r(n) satisfies the same recurrence as the Fibonacci numbers, r(n)=r(n-2)+r(n-1), and r(n) is the n+1st Fibonacci number.\n",
    "\n",
    "#### Second, suppose there are N rows, but we don't have any condition that the row is solid. How many ways are there to partition a Nxw rectangle into 1x1, 1x2, 1x3, and 1x4 horizontal rectangles? Let this count be g(w). We can simply pick an arbitrary partition of the first row, an arbitrary partition of the second row, ... and an arbitrary partition of the last row. Each row can be picked in f(w) ways, using the function f from the first problem. So, the total count is g(w) = f(w)^N.\n",
    "\n",
    "#### Finally, we want to count the tilings of NxW that have no vertical splits, so that if you build them out of 1x1, 1x2, 1x3, and 1x4 Legos they will stay together. Call this count h(W).\n",
    "\n",
    "#### A way to tile an NxW rectangle is either solid or it can be split. The total is counted by g(W) while h(W) counts the ones that are solid. How can we count the ones that can be split? A tiling that can be split has a leftmost splitting line, say at position L, with L at most W-1. That means the tiling is a choice of a non-split way to tile NxL, followed by some way to tile the right side Nx(W-L). So, the count of the split tilings is\n",
    "\n",
    "#### ∑(L=1 to W-1) h(L)∗g(W−L)\n",
    "#### To compute this, we will need to compute earlier values of h as well as f.\n",
    "\n",
    "#### We have the equation g(W)=h(W)+∑(L=1 to W-1)h(L)∗g(W−L), so subtracting the sum from each side, h(W)=g(W)−∑(L=1 to W-1)h(L)∗g(W−L)."
   ]
  },
  {
   "cell_type": "code",
   "execution_count": 71,
   "metadata": {},
   "outputs": [
    {
     "name": "stdout",
     "output_type": "stream",
     "text": [
      "1\n",
      "1000 1000\n",
      "294143550\n"
     ]
    }
   ],
   "source": [
    "def calc_legos(height, width):\n",
    "    mod = int(1e9+7)\n",
    "    \n",
    "    #1. calculate in how many ways a single row of any width: = nways(w-1)+nways(n-2)+nways(n-3)+nways(n-4)\n",
    "    # similar to coin change problem\n",
    "    row_n_ways = [0]*(width+4)\n",
    "    row_n_ways[1] = 1\n",
    "    row_n_ways[2] = 2\n",
    "    row_n_ways[3] = 4\n",
    "    row_n_ways[4] = 8\n",
    "    for i in range(5, width+1):\n",
    "        row_n_ways[i] = (row_n_ways[i-1]+row_n_ways[i-2]+row_n_ways[i-3]+row_n_ways[i-4])%mod\n",
    "    \n",
    "    #2. calculate total ways in which a rectangle can be formed -> height ^ row_n_ways\n",
    "    complete_rect = [0]*(width+1)\n",
    "    for i in range(1,width+1):\n",
    "        complete_rect[i] = (row_n_ways[i] ** height)%mod\n",
    "    \n",
    "    #3. calculate solid rectangles out of total rectangles\n",
    "    solid_rect = [0]*(width+1)\n",
    "    solid_rect[1] = 1\n",
    "    for i in range(2, width+1):\n",
    "        solid_rect[i] = complete_rect[i]\n",
    "        for j in range(1, i):\n",
    "            solid_rect[i] = (solid_rect[i] - solid_rect[j] * complete_rect[i-j])%mod\n",
    "    \n",
    "    return solid_rect[width]\n",
    "\n",
    "for _ in range(int(input())):\n",
    "    print(calc_legos(*[int(x) for x in input().split()]))\n"
   ]
  },
  {
   "cell_type": "markdown",
   "metadata": {},
   "source": [
    "## 10. Knapsack\n",
    "#### Similar to coin - change problem"
   ]
  },
  {
   "cell_type": "code",
   "execution_count": 1,
   "metadata": {},
   "outputs": [
    {
     "name": "stdout",
     "output_type": "stream",
     "text": [
      "2\n",
      "3 12\n",
      "1 6 9\n",
      "12\n",
      "5 9\n",
      "3 4 4 4 8\n",
      "9\n"
     ]
    }
   ],
   "source": [
    "''' check if i - num[value] exists, else check for value - 1 '''\n",
    "def knapsack():\n",
    "    global arr, req_sum\n",
    "    max_pos = 0\n",
    "    #check if req_sum is less than minimum of arr:\n",
    "    if req_sum < min(arr):\n",
    "        return 0\n",
    "    #if a divisor of required_sum exists, then return required_sum itself\n",
    "    for i in arr:\n",
    "        if not req_sum%i:\n",
    "            return req_sum\n",
    "    \n",
    "    pos_cache = [0]*(req_sum+1)   #cache for elements to store if the sum is possible\n",
    "    for i in range(1, req_sum+1):\n",
    "        for val in arr:\n",
    "            #check if val == i or (i>val and cache[i-val] exists)\n",
    "            if i == val or i - val > 0 and pos_cache[i-val] == 1:\n",
    "                cache[i] = 1\n",
    "                max_pos = i\n",
    "    return max_pos\n",
    "\n",
    "for _ in range(int(input())):\n",
    "    n, req_sum = [int(x) for x in input().split()]\n",
    "    arr = [int(x) for x in input().split()]\n",
    "    print(knapsack())"
   ]
  },
  {
   "cell_type": "markdown",
   "metadata": {},
   "source": [
    "## 11. Red John is back\n",
    "#### similar to coin_change problem"
   ]
  },
  {
   "cell_type": "code",
   "execution_count": 9,
   "metadata": {},
   "outputs": [
    {
     "name": "stdout",
     "output_type": "stream",
     "text": [
      "2\n",
      "1\n",
      "0\n",
      "7\n",
      "3\n"
     ]
    }
   ],
   "source": [
    "def primes(n):\n",
    "    sieve ,l = [True] * (n+1),[]\n",
    "    for p in range(2, n+1):\n",
    "        if (sieve[p]):\n",
    "            l.append(p)\n",
    "            for i in range(p, n+1, p):sieve[i] = False\n",
    "    return len(l)\n",
    "\n",
    "nways = [0]*41\n",
    "nways[1] = 1\n",
    "nways[2] = 1\n",
    "nways[3] = 1\n",
    "nways[4] = 2\n",
    "for i in range(5,len(nways)):\n",
    "    nways[i] = nways[i-1] + nways[i-4]\n",
    "    \n",
    "for _ in range(int(input())):\n",
    "    n = int(input())\n",
    "    print(primes(nways[n]))"
   ]
  },
  {
   "cell_type": "markdown",
   "metadata": {},
   "source": [
    "## 12. Bricks Game\n",
    "#### So, the idea is to traverse the array in reverse. In reverse, because we need to find the largest value that needs to be included in the sum.  Similar to the stock maximize problem "
   ]
  },
  {
   "cell_type": "code",
   "execution_count": 4,
   "metadata": {},
   "outputs": [
    {
     "name": "stdout",
     "output_type": "stream",
     "text": [
      "2\n",
      "5\n",
      "999 1 1 1 0\n",
      "1001\n",
      "5\n",
      "0 1 1 1 999\n",
      "999\n"
     ]
    }
   ],
   "source": [
    "for _ in range(int(input())):\n",
    "    suffix_sum = 0\n",
    "    n = int(input())\n",
    "    dp = [0] * n\n",
    "    arr = [int(x) for x in input().split()]\n",
    "    if n >= 1:\n",
    "        suffix_sum += arr[n-1]\n",
    "        dp[n-1] = suffix_sum\n",
    "    if n >= 2:\n",
    "        suffix_sum += arr[n-2]\n",
    "        dp[n-2] = suffix_sum \n",
    "    if n >= 3:\n",
    "        suffix_sum += arr[n-3]\n",
    "        dp[n-3] = suffix_sum\n",
    "    for i in range(n-4,-1,-1):\n",
    "        suffix_sum += arr[i]\n",
    "        dp[i] = max(suffix_sum - dp[i+1], #remove 3 bricks\n",
    "                    suffix_sum - dp[i+2], #remove 2 bricks\n",
    "                    suffix_sum - dp[i+3], #remove 1 brick\n",
    "                   )\n",
    "    print(dp[0])"
   ]
  },
  {
   "cell_type": "markdown",
   "metadata": {},
   "source": [
    "## 13. Mandragora Forest\n",
    "#### brute - force"
   ]
  },
  {
   "cell_type": "code",
   "execution_count": 6,
   "metadata": {},
   "outputs": [
    {
     "name": "stdout",
     "output_type": "stream",
     "text": [
      "1\n",
      "3\n",
      "3 2 2\n",
      "10\n"
     ]
    }
   ],
   "source": [
    "for _ in range(int(input())):\n",
    "    n = int(input())\n",
    "    arr = sorted([int(x) for x in input().split()])\n",
    "    arr_sum = sum(arr)\n",
    "    health = 1\n",
    "    ans = arr_sum    #no eating, only battles\n",
    "    for i in range(n):\n",
    "        arr_sum -= arr[i]\n",
    "        health += 1\n",
    "        new_sum = health*arr_sum\n",
    "        ans = max(ans, new_sum)\n",
    "    print(ans)"
   ]
  },
  {
   "cell_type": "markdown",
   "metadata": {},
   "source": [
    "## 14. Play with words\n",
    "#### dp soultion, using longest palindromic subseq"
   ]
  },
  {
   "cell_type": "code",
   "execution_count": 3,
   "metadata": {},
   "outputs": [
    {
     "name": "stdout",
     "output_type": "stream",
     "text": [
      "eeegeeksforskeeggeeks\n"
     ]
    },
    {
     "data": {
      "text/plain": [
       "50"
      ]
     },
     "execution_count": 3,
     "metadata": {},
     "output_type": "execute_result"
    }
   ],
   "source": [
    "## finding longest palindromic subseq for all lengths\n",
    "def dp_longest_palindromic_subseq(string):\n",
    "    n = len(string)\n",
    "    dp = [[0 for _ in range(len(string))] for _ in range(len(string))]\n",
    "    for i in range(n):\n",
    "        dp[i][i] = 1   #condition 1\n",
    "    \n",
    "    for row in range(n-1, -1, -1):\n",
    "        for col in range(row+1, n):\n",
    "            if string[row] == string[col]:\n",
    "                if row + 1 < col :\n",
    "                    dp[row][col] = 2 + dp[row+1][col-1]\n",
    "                else:\n",
    "                    dp[row][col] = 2\n",
    "            else:\n",
    "                dp[row][col] = max(dp[row+1][col], dp[row][col-1])\n",
    "    \n",
    "    return dp\n",
    "\n",
    "def find_max_product_of_len(string):\n",
    "    dp_matrix = dp_longest_palindromic_subseq(string)\n",
    "    mp = 1\n",
    "    for i in range(len(dp_matrix)-1):\n",
    "        mp = max(mp, dp_matrix[0][i]*dp_matrix[i+1][len(dp_matrix)-1])   #non overlapping\n",
    "    return mp\n",
    "\n",
    "find_max_product_of_len(input())"
   ]
  },
  {
   "cell_type": "markdown",
   "metadata": {},
   "source": [
    "## 15. CodeChef - CHEFWED\n",
    "#### Basically, we minimize the inefficiency by splitting the guests into two parts and assigning one table to the first part. Then, for the second part, we again try to minimize the inefficiency by following the same steps until we have no guests remaining.\n",
    "\n",
    "#### Formally, Start with just one table and add guests from pos to j on this table (where pos would be 1 initially), and add another table for remaining guests (from j+1 to N). Consider all positions for j between pos and N inclusive. For the second part, i.e, from j+1 to N , recurse with i = j+1. Lastly, make sure not to add a table that has 0 guests on it."
   ]
  },
  {
   "cell_type": "code",
   "execution_count": 4,
   "metadata": {},
   "outputs": [
    {
     "name": "stdout",
     "output_type": "stream",
     "text": [
      "1\n",
      "5 2\n",
      "3 5 4 5 1\n",
      "4\n"
     ]
    }
   ],
   "source": [
    "from collections import Counter as cc\n",
    "for _ in range(int(input())):\n",
    "    n, k = [int(x) for x in input().split()]\n",
    "    dp = [int(1e9)] * (n+1)\n",
    "    guests = [int(x) for x in input().split()]\n",
    "    dp[0] = 0\n",
    "    for i in range(n):\n",
    "        fam_type_count = [0] * 101   #keeps count  of each type family member\n",
    "        for j in range(i,n):\n",
    "            fam_type_count[guests[j]] += 1\n",
    "            n_args = 0  #no of arg at a table\n",
    "            for f in range(1,101):\n",
    "                n_args += 0 if fam_type_count[f] == 1 else fam_type_count[f]\n",
    "            dp[j+1] = min(dp[j+1], dp[i] + n_args + k)\n",
    "            \n",
    "    print(dp[n])     "
   ]
  },
  {
   "cell_type": "code",
   "execution_count": 5,
   "metadata": {},
   "outputs": [],
   "source": [
    "from collections import Counter as cc\n",
    "for _ in range(int(input())):\n",
    "    n, k = [int(x) for x in input().split()]\n",
    "    dp = [int(1e9)] * (n+1)\n",
    "    guests = [int(x) for x in input().split()]\n",
    "    dp[n] = 0\n",
    "    for i in range(n-1,-1,-1):\n",
    "        fam_type_counter = cc()\n",
    "        for j in range(i, n):\n",
    "            \n",
    "        "
   ]
  },
  {
   "cell_type": "code",
   "execution_count": 6,
   "metadata": {},
   "outputs": [
    {
     "data": {
      "text/plain": [
       "Counter({1: 1, 2: 1, 3: 1, 4: 6, 5: 2, 6: 2, 7: 2, 8: 2, 9: 2, 0: 1})"
      ]
     },
     "execution_count": 6,
     "metadata": {},
     "output_type": "execute_result"
    }
   ],
   "source": [
    "c"
   ]
  }
 ],
 "metadata": {
  "kernelspec": {
   "display_name": "Python 3",
   "language": "python",
   "name": "python3"
  },
  "language_info": {
   "codemirror_mode": {
    "name": "ipython",
    "version": 3
   },
   "file_extension": ".py",
   "mimetype": "text/x-python",
   "name": "python",
   "nbconvert_exporter": "python",
   "pygments_lexer": "ipython3",
   "version": "3.8.2"
  }
 },
 "nbformat": 4,
 "nbformat_minor": 4
}
