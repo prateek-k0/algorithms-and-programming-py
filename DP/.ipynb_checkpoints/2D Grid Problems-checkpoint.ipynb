{
 "cells": [
  {
   "cell_type": "markdown",
   "metadata": {},
   "source": [
    "# 1. Finding Minimum-Cost Path in a 2-D Matrix\n",
    "\n",
    "### Problem Statement : Given a cost matrix Cost[][] where Cost[i][j] denotes the Cost of visiting cell with coordinates (i,j), find a min-cost path to reach a cell (x,y) from cell (0,0) under the condition that you can only travel one step right or one step down. (We assume that all costs are positive integers)"
   ]
  },
  {
   "cell_type": "markdown",
   "metadata": {},
   "source": [
    "### Solution:\n",
    "#### t is very easy to note that if you reach a position (i,j) in the grid, you must have come from one cell higher, i.e. (i-1,j) or from one cell to your left , i.e. (i,j-1). This means that the cost of visiting cell (i,j) will come from the following recurrence relation:\n",
    "\n",
    "## MinCost(i,j) = min(MinCost(i-1,j),MinCost(i,j-1)) + Cost[i][j]"
   ]
  },
  {
   "cell_type": "markdown",
   "metadata": {},
   "source": [
    "### Base Cases :\n",
    "#### We now compute the values of the base cases: the topmost row and the leftmost column. For the topmost row, a cell can be reached only from the cell on the left of it.\n",
    "\n",
    "## MinCost(0,j) = MinCost(0,j-1) + Cost[0][j]\n",
    "## MinCost(i,0) = MinCost(i-1,0) + Cost[i][0]"
   ]
  },
  {
   "cell_type": "code",
   "execution_count": 3,
   "metadata": {},
   "outputs": [],
   "source": [
    "def solve_grid(x, y):\n",
    "    global cell_cost, grid\n",
    "    grid[0][0] = cell_cost[0][0]\n",
    "    for i in range(1, len(grid)):\n",
    "        grid[i][0] = grid[i-1][0] + cell_cost[i][0]\n",
    "        grid[0][i] = grid[0][i-1] + cell_cost[0][i]\n",
    "    if not grid[x][y]:\n",
    "        for i in range(1,len(grid)):\n",
    "            for j in range(1, len(grid)):\n",
    "                grid[i][j] = min(grid[i-1][j], grid[i][j-1]) + cell_cost[i][j]\n",
    "    return grid[x][y]"
   ]
  },
  {
   "cell_type": "markdown",
   "metadata": {},
   "source": [
    "### Another variant : includes another direction of motion, i.e. one is also allowed to move diagonally lower from cell (i,j) to cell (i+1,j+1). This question can also be solved easily using a slight modification in the recurrence relation. To reach (i,j), we must first reach either (i-1,j), (i,j-1) or (i-1,j-1).\n",
    "\n",
    "## MinCost(i,j) = min(MinCost(i-1,j),MinCost(i,j-1),MinCost(i-1,j-1)) + Cost[i][j]"
   ]
  },
  {
   "cell_type": "markdown",
   "metadata": {},
   "source": [
    "# 2. Finding the number of ways to reach from a starting position to an ending position travelling in specified directions only.\n",
    "\n",
    "### Problem Statement : Given a 2-D matrix with M rows and N columns, find the number of ways to reach cell with coordinates (i,j) from starting cell (0,0) under the condition that you can only travel one step right or one step down."
   ]
  },
  {
   "cell_type": "markdown",
   "metadata": {},
   "source": [
    "### Solution : This problem is very similar to the previous one. To reach a cell (i,j), one must first reach either the cell (i-1,j) or the cell (i,j-1) and then move one step down or to the right respectively to reach cell (i,j). After convincing yourself that this problem indeed satisfies the optimal sub-structure and overlapping subproblems properties, we try to formulate a bottom-up dynamic programming solution.\n",
    "\n",
    "## numWays(i,j) = numWays(i-1,j) + numWays(i,j-1)"
   ]
  },
  {
   "cell_type": "code",
   "execution_count": 5,
   "metadata": {},
   "outputs": [],
   "source": [
    "def solve_grid_2(x, y):\n",
    "    global num_ways, grid\n",
    "    num_ways[0][0] = grid[0][0]\n",
    "    for i in range(1, len(grid)):\n",
    "        num_ways[i][0] = 1\n",
    "        num_ways[0][i] = 1\n",
    "    for i in range(1, len(grid)):\n",
    "        for j in range(1, len(grid)):\n",
    "            num_ways[i][j] = num_ways[i-1][j] + num_ways[i][j-1]\n",
    "    return num_ways[x][y]"
   ]
  },
  {
   "cell_type": "markdown",
   "metadata": {},
   "source": [
    "# 3. Finding the number of ways to reach a particular position in a grid from a starting position (given some cells which are blocked)\n",
    "\n",
    "### Problem Statement : A robot is designed to move on a rectangular grid of M rows and N columns. The robot is initially positioned at (1, 1), i.e., the top-left cell. The robot has to reach the (M, N) grid cell. In a single step, robot can move only to the cells to its immediate east and south directions. That means if the robot is currently at (i, j), it can move to either (i + 1, j) or (i, j + 1) cell, provided the robot does not leave the grid. Now somebody has placed several obstacles in random positions on the grid, through which the robot cannot pass. Given the positions of the blocked cells, your task is to count the number of paths that the robot can take to move from (1, 1) to (M, N)."
   ]
  },
  {
   "cell_type": "markdown",
   "metadata": {},
   "source": [
    "### This is similar to problem 2. We describe the base cases similarly, with just 1 change:\n",
    "### 1.  In the leftmost column, if there exists a blocked cell, the cells below it will be unreachable\n",
    "### 2. in the topmost row, if there exists a blocked cell,  cells to its right cannot be reached\n",
    "### we denote the blocked cells with -1, and unreachable states with 0.\n",
    "\n",
    "### now, for the recursive function, it is similar to the problem above. but instead, if any of the neighbouring blocks is a blocked cell, then we don not add it to the number of ways.\n"
   ]
  },
  {
   "cell_type": "code",
   "execution_count": 4,
   "metadata": {},
   "outputs": [],
   "source": [
    "def robo(x, y):\n",
    "    global nways, grid\n",
    "    nways = [[0] * len(grid)] * len(grid)    #initialize every cell as unreachable \n",
    "    nb = int(input())    #nb = no of blocks\n",
    "    for _ in range(nb):\n",
    "        i, j = [int(z) for x in input().split()]\n",
    "        nways[i][j] = -1\n",
    "    \n",
    "    ## base cases:\n",
    "    for i in range(len(nways)):\n",
    "        if nways[i][0] == -1:\n",
    "            break\n",
    "        nways[i][0] = 1\n",
    "    for i in range(len(nways)):\n",
    "        if nways[0][i] == -1:\n",
    "            break\n",
    "        nways[0][i] = 1\n",
    "    for i in range(1, len(grid)):\n",
    "        for j in range(1, len(grid)):\n",
    "            if (c := nways[i-1][j]) != -1:   #not a block\n",
    "                nways[i][j] += c\n",
    "            if (d := nways[i][j-1]) != -1:   #not a block\n",
    "                nways[i][j] += d\n",
    "    return nways[x][y]"
   ]
  },
  {
   "cell_type": "markdown",
   "metadata": {},
   "source": [
    "## 4. Problem Statement : You are given a 2-D matrix A of n rows and m columns where A[i][j] denotes the calories burnt. Two persons, a boy and a girl, start from two corners of this matrix. The boy starts from cell (1,1) and needs to reach cell (n,m). On the other hand, the girl starts from cell (n,1) and needs to reach (1,m). The boy can move right and down. The girl can move right and up. As they visit a cell, the amount in the cell A[i][j] is added to their total of calories burnt. You have to maximize the sum of total calories burnt by both of them under the condition that they shall meet only in one cell and the cost of this cell shall not be included in either of their total.\n",
    "\n",
    "\n"
   ]
  },
  {
   "cell_type": "markdown",
   "metadata": {},
   "source": [
    "### Consider, they meet at cell (i,j)\n",
    "\n",
    "### Now, lets see how the boy approaches the cell (i,j): (2 ways)\n",
    "### (i-1, j) -> (i,j) and (i, j-1) -> (i,j)\n",
    "### and the boy leaves cell in the following ways:\n",
    "### (i,j) -> (i+1, j)  and (i,j) -> (i, j+1)\n",
    "\n",
    "### combinig these cases, we have - \n",
    "## Boy: \n",
    "### (i-1, j) -> (i,j) -> (i+1, j)\n",
    "### (i-1, j) -> (i,j) -> (i, j+1)\n",
    "### (i, j-1) -> (i,j) -> (i+1, j)\n",
    "### (i, j-1) -> (i,j) -> (i, j+1)\n",
    "\n",
    "## Similarly, For the Girl:\n",
    "### (i,j-1) -> (i,j) -> (i,j+1)\n",
    "### (i,j-1) -> (i,j) -> (i-1,j)\n",
    "### (i+1,j) -> (i,j) -> (i,j+1)\n",
    "### (i+1,j) -> (i,j) -> (i-1,j)\n",
    "# -----------------------------------------------------\n",
    "### Now, for them to meet at only 1 position (i, j), only 2 possibilities:\n",
    "### Boy: (i,j-1)-->(i,j)-->(i,j+1) and Girl: (i+1,j)-->(i,j)-->(i-1,j)\n",
    "### Boy: (i-1,j)-->(i,j)-->(i+1,j) and Girl:  (i,j-1)-->(i,j)-->(i,j+1)\n",
    "### that is, both of them approach and leave exactly perpendicular to each other.\n",
    "# -----------------------------------------------------\n",
    "\n",
    "## Implementation:\n",
    "\n",
    "### for this, we consider 2 matrices for each both the boy and girl :\n",
    "### 1 for starting to the meeting cell, and 1 for ending to meeting cell (which is equivalent to meeting cell to end)"
   ]
  },
  {
   "cell_type": "code",
   "execution_count": 5,
   "metadata": {},
   "outputs": [],
   "source": [
    "def calorie_count(n, m):\n",
    "    global b1, b2, g1, g2, calories   #b1, g1 = starting to meeting cell, b2, g2 = ending to meeting cell\n",
    "    \n",
    "    # initializing boys journey: \n",
    "    #boys journey from start to meeting cell\n",
    "    for i in range(1, n+1):\n",
    "        for j in range(1, m+1):\n",
    "            b1[i][j] = max(b1[i][j-1], b1[i-1][j]) + calories[i][j]\n",
    "            \n",
    "    #boys journey from end to meeting cell\n",
    "    for i in range(n, 0, -1):\n",
    "        for j in range(m, 0, -1): \n",
    "            b2[i][j] = max(b2[i+1][j], b2[i][j+1]) + calories[i][j]\n",
    "            \n",
    "    #girls cell journey from start to meeting cell\n",
    "    for i in range(n, 0, -1):\n",
    "        for j in range(1, m+1):\n",
    "            g1[i][j] = max(g1[i+1][j], g1[i][j-1]) + calories[i][j]\n",
    "            \n",
    "    #girls cell journey from end to meeting cell\n",
    "    for i in range(1, n+1):\n",
    "        for j in range(m, 0, -1):\n",
    "            g2[i][j] = max(g2[i-1][j], g2[i][j+1]) + calories[i][j]\n",
    "    ans = 1e9 \n",
    "    ## finding max:\n",
    "    for i in range(2, n):\n",
    "        for j in range(2, m):\n",
    "            #option 1\n",
    "            op1 = b1[i][j-1] + b2[i][j+1] + g1[i+1][j] + g2[i-1][j]\n",
    "            #option 2\n",
    "            op2 = b1[i-1][j] + b2[i+1][j] + g1[i][j-1] + g2[i][j+1]\n",
    "            \n",
    "            ans = max(ans, max(op1, op2))\n",
    "            \n",
    "    return ans"
   ]
  },
  {
   "cell_type": "markdown",
   "metadata": {},
   "source": [
    "## 5. Edit distance\n",
    "\n",
    "### Edit distance is a way of quantifying how dissimilar two strings are, i.e., how many operations (add, delete or replace character) it would take to transform one string to the other. This is one of the most common variants of edit distance. There are 3 operations which can be applied to either string, namely: insertion, deletion and replacement.\n",
    "\n",
    "![ed](edit_distance.png)\n",
    "\n",
    "# ------------------------------------------------------------\n",
    "## Given two strings str1 and str2 and below operations that can performed on str1. Find minimum number of edits (operations) required to convert ‘str1’ into ‘str2’.\n",
    "\n",
    "## 1. Insert\n",
    "## 2. Remove\n",
    "## 3. Replace\n",
    "#### All of the above operations are of equal cost."
   ]
  },
  {
   "cell_type": "code",
   "execution_count": 6,
   "metadata": {},
   "outputs": [],
   "source": [
    "def edit_distance(s1, s2):\n",
    "    m, n = len(s1), len(s2)\n",
    "    dp = [[0] * (n+1)] * (m+1)\n",
    "    \n",
    "    # source can be transformed into target prefix by inserting all the characters (insertion op)\n",
    "    for i in range(1, n+1):\n",
    "        dp[0][i] = i\n",
    "        \n",
    "    # source can be transformed into empty string by deleting all characters  (deletion op)\n",
    "    for i in range(1, m+1):\n",
    "        dp[i][0] = i\n",
    "        \n",
    "    for i in range(1, m+1):\n",
    "        for j in range(1, n+1):\n",
    "            if s1[i-1] == s2[j-1]:   #characters are equal\n",
    "                dp[i][j] = dp[i-1][j-1]   #store no of ops from previous characters\n",
    "            else:\n",
    "                dp[i][j] = 1 + min(dp[i-1][j-1], dp[i-1][j], dp[i][j-1])  # replacement, deletion, insertion\n",
    "    \n",
    "    return dp[m][n]"
   ]
  },
  {
   "cell_type": "code",
   "execution_count": null,
   "metadata": {},
   "outputs": [],
   "source": [
    "''' Matrix Sum '''\n",
    "n, m = [int(x) for x in input().split()]\n",
    "arr = []\n",
    "dp = [[0 for i in range(m)] for j in range(n)]\n",
    "for _ in range(n):\n",
    "    arr.append([int(x) for x in input().split()])\n",
    "\n",
    "dp[0][0] = arr[0][0]\n",
    "q = int(input())\n",
    "for i in range(1, n):\n",
    "    dp[i][0] = arr[i][0] + dp[i-1][0]\n",
    "    \n",
    "for i in range(1, m):\n",
    "    dp[0][i] = arr[0][i] + dp[0][i-1]\n",
    "\n",
    "for i in range(1, n):\n",
    "    for j in range(1, m):\n",
    "        dp[i][j] = arr[i][j] + dp[i-1][j] + dp[i][j-1] - dp[i-1][j-1]\n",
    "\n",
    "for _ in range(q):\n",
    "    x, y = [int(x) for x in input().split()]\n",
    "    print(dp[x-1][y-1])       "
   ]
  },
  {
   "cell_type": "markdown",
   "metadata": {},
   "source": [
    "## Coin on the table\n",
    "#### brute force, traverse on all the directions"
   ]
  },
  {
   "cell_type": "code",
   "execution_count": 16,
   "metadata": {},
   "outputs": [
    {
     "name": "stdout",
     "output_type": "stream",
     "text": [
      "2 2 1\n",
      "RD\n",
      "*L\n",
      "1\n"
     ]
    }
   ],
   "source": [
    "def maximum(a, l):\n",
    "    global max_val\n",
    "    if a == max_val:\n",
    "        return a\n",
    "    return a+l\n",
    "\n",
    "def min_op_cost(x, y, k):\n",
    "    global dp, n, m, grid, max_val\n",
    "    if (x<0) or (x>=n) or (y<0) or (y>=m):\n",
    "        return max_val\n",
    "    if grid[x][y] == '*':\n",
    "        return 0   #res_found\n",
    "    if k == 0:\n",
    "        return max_val\n",
    "    if not (dp[x][y][k-1] == -1):\n",
    "        return dp[x][y][k-1]\n",
    "    minimum = max_val\n",
    "    minimum = min(minimum, maximum(min_op_cost(x, y+1, k-1), 0 if grid[x][y] == 'R' else 1))\n",
    "    minimum = min(minimum, maximum(min_op_cost(x+1, y, k-1), 0 if grid[x][y] == 'D' else 1))\n",
    "    minimum = min(minimum, maximum(min_op_cost(x, y-1, k-1), 0 if grid[x][y] == 'L' else 1))\n",
    "    minimum = min(minimum, maximum(min_op_cost(x-1, y, k-1), 0 if grid[x][y] == 'U' else 1))\n",
    "    dp[x][y][k-1] = minimum\n",
    "    return minimum\n",
    "    \n",
    "n, m, k = [int(x) for x in input().split()]\n",
    "dp = [[[-1 for _ in range(k)] for _ in range(m)] for _ in range(n)]\n",
    "grid = []\n",
    "for i in range(n):\n",
    "    grid.append(list(input()))\n",
    "max_val = int(1e10)\n",
    "res = min_op_cost(0, 0, k)\n",
    "ans = res if not (res == max_val) else -1\n",
    "print(ans)"
   ]
  },
  {
   "cell_type": "code",
   "execution_count": 13,
   "metadata": {},
   "outputs": [
    {
     "data": {
      "text/plain": [
       "['R', 'D']"
      ]
     },
     "execution_count": 13,
     "metadata": {},
     "output_type": "execute_result"
    }
   ],
   "source": [
    "list(grid[0])"
   ]
  },
  {
   "cell_type": "code",
   "execution_count": null,
   "metadata": {},
   "outputs": [],
   "source": []
  }
 ],
 "metadata": {
  "kernelspec": {
   "display_name": "Python 3",
   "language": "python",
   "name": "python3"
  },
  "language_info": {
   "codemirror_mode": {
    "name": "ipython",
    "version": 3
   },
   "file_extension": ".py",
   "mimetype": "text/x-python",
   "name": "python",
   "nbconvert_exporter": "python",
   "pygments_lexer": "ipython3",
   "version": "3.8.2"
  }
 },
 "nbformat": 4,
 "nbformat_minor": 4
}
