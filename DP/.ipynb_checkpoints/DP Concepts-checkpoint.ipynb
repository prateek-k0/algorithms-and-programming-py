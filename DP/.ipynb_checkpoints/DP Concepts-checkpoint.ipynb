{
 "cells": [
  {
   "cell_type": "markdown",
   "metadata": {},
   "source": [
    "### Dynamic Programming is an algorithmic paradigm that solves a given complex problem by breaking it into subproblems and stores the results of subproblems to avoid computing the same results again. "
   ]
  },
  {
   "cell_type": "markdown",
   "metadata": {},
   "source": [
    "## Overlapping Subproblems\n",
    "\n",
    "#### Like Divide and Conquer, Dynamic Programming combines solutions to sub-problems. Dynamic Programming is mainly used when solutions of same subproblems are needed again and again. In dynamic programming, computed solutions to subproblems are stored in a table so that these don’t have to be recomputed. So Dynamic Programming is not useful when there are no common (overlapping) subproblems because there is no point storing the solutions if they are not needed again. For example, Binary Search doesn’t have common subproblems. If we take an example of following recursive program for Fibonacci Numbers, there are many subproblems which are solved again and again.\n",
    "\n",
    "\n",
    "#### There are following two different ways to store the values so that these values can be reused:\n",
    "#### a) Memoization (Top Down)\n",
    "#### b) Tabulation (Bottom Up)"
   ]
  },
  {
   "cell_type": "markdown",
   "metadata": {},
   "source": [
    "### a) Memorization (Top Down)\n",
    "#### The memoized program for a problem is similar to the recursive version with a small modification that it looks into a lookup table before computing solutions. We initialize a lookup array with all initial values as NIL. Whenever we need the solution to a subproblem, we first look into the lookup table. If the precomputed value is there then we return that value, otherwise, we calculate the value and put the result in the lookup table so that it can be reused later."
   ]
  },
  {
   "cell_type": "code",
   "execution_count": 14,
   "metadata": {},
   "outputs": [
    {
     "name": "stdout",
     "output_type": "stream",
     "text": [
      "40th Fibonacci: 102334155\n"
     ]
    }
   ],
   "source": [
    "''' Memorization '''\n",
    "\n",
    "def fib(n):\n",
    "    global lookup\n",
    "    \n",
    "    if n==0 or n==1:\n",
    "        lookup[n] = n    #base case\n",
    "    \n",
    "    #if not precalculated, than calculate and store\n",
    "    elif not lookup[n]:\n",
    "        lookup[n] = fib(n-1) + fib(n-2)\n",
    "    \n",
    "    return lookup[n]\n",
    "\n",
    "lookup = [None] * 101\n",
    "n = 40\n",
    "print('40th Fibonacci:',fib(n))"
   ]
  },
  {
   "cell_type": "markdown",
   "metadata": {},
   "source": [
    "### b) Tabulation (Bottom - up)\n",
    "#### The tabulated program for a given problem builds a table in bottom up fashion and returns the last entry from table. For example, for the same Fibonacci number, we first calculate fib(0) then fib(1) then fib(2) then fib(3) and so on. So literally, we are building the solutions of subproblems bottom-up."
   ]
  },
  {
   "cell_type": "code",
   "execution_count": 13,
   "metadata": {},
   "outputs": [
    {
     "name": "stdout",
     "output_type": "stream",
     "text": [
      "40th Fibonacci: 102334155\n"
     ]
    }
   ],
   "source": [
    "def fib2(n):\n",
    "    f = [0] * (n+1)\n",
    "    f[1] = 1\n",
    "    for i in range(2, n+1):\n",
    "        f[i] = f[i-1] + f[i-2]\n",
    "    return f[n]\n",
    "\n",
    "n = 40\n",
    "print('40th Fibonacci:',fib2(n))"
   ]
  },
  {
   "cell_type": "markdown",
   "metadata": {},
   "source": [
    "## Optimal Substructure\n",
    "\n",
    "#### A given problem has Optimal Substructure Property if optimal solution of the given problem can be obtained by using optimal solutions of its subproblems.\n",
    "\n",
    "#### For example, the Shortest Path problem has following optimal substructure property:\n",
    "#### If a node x lies in the shortest path from a source node u to destination node v then the shortest path from u to v is combination of shortest path from u to x and shortest path from x to v. The standard All Pair Shortest Path algorithms like Floyd–Warshall and Bellman–Ford are typical examples of Dynamic Programming.\n",
    "\n",
    "#### On the other hand, the Longest Path problem doesn’t have the Optimal Substructure property. Here by Longest Path we mean longest simple path (path without cycle) between two nodes.   Consider the following unweighted graph:\n",
    "\n",
    "![lp](longestpath.gif)\n",
    "\n",
    "#### There are two longest paths from q to t: q→r→t and q→s→t. Unlike shortest paths, these longest paths do not have the optimal substructure property. For example, the longest path q→r→t is not a combination of longest path from q to r and longest path from r to t, because the longest path from q to r is q→s→t→r and the longest path from r to t is r→q→s→t."
   ]
  },
  {
   "cell_type": "markdown",
   "metadata": {},
   "source": [
    "## Steps to solve using DP:\n",
    "#### 1) Identify it as a DP problem\n",
    "#### 2) Decide a state expression with least parameters\n",
    "#### 3) Formulate state relationship\n",
    "#### 4) Do tabulation / add memorization"
   ]
  },
  {
   "cell_type": "markdown",
   "metadata": {},
   "source": [
    "## 1) How to classify a problem as a Dynamic Programming Problem?\n",
    "#### a. Typically, all the problems that require to maximize or minimize certain quantity or counting problems that say to count the arrangements under certain condition or certain probability problems can be solved by using Dynamic Programming.\n",
    "\n",
    "\n",
    "#### b. All dynamic programming problems satisfy the overlapping subproblems property and most of the classic dynamic problems also satisfy the optimal substructure property. Once, we observe these properties in a given problem, be sure that it can be solved using DP.\n"
   ]
  },
  {
   "cell_type": "markdown",
   "metadata": {},
   "source": [
    "## 2) Deciding the state\n",
    "#### DP problems are all about state and their transition. This is the most basic step which must be done very carefully because the state transition depends on the choice of state definition you make\n",
    "####  state can be defined as the set of parameters that can uniquely identify a certain position or standing in the given problem. This set of parameters should be as small as possible to reduce state space.\n",
    "\n",
    "#### For example: In the famous Knapsack problem, we define our state by two parameters index and weight i.e DP[index][weight]. Here DP[index][weight] tells us the maximum profit it can make by taking items from range 0 to index having the capacity of sack to be weight. Therefore, here the parameters index and weight together can uniquely identify a subproblem for the knapsack problem."
   ]
  },
  {
   "cell_type": "markdown",
   "metadata": {},
   "source": [
    "## 3) Formulating a relation among the states\n",
    "#### This part is the hardest part of for solving a DP problem and requires a lot of intuition, observation and practice. Let’s understand it by considering a sample problem\n",
    "\n",
    "#### Given 3 numbers {1, 3, 5}, we need to tell the total number of ways we can form a number 'N' using the sum of the given three numbers.\n",
    "#### on solving, we get that N=7 = (N-1) + (N-3) + (N-5)"
   ]
  },
  {
   "cell_type": "markdown",
   "metadata": {},
   "source": [
    "## 4) Adding memorization or tabulation for efficient solution\n"
   ]
  },
  {
   "cell_type": "code",
   "execution_count": 30,
   "metadata": {},
   "outputs": [
    {
     "data": {
      "text/plain": [
       "12919279993315603250"
      ]
     },
     "execution_count": 30,
     "metadata": {},
     "output_type": "execute_result"
    }
   ],
   "source": [
    "''' The solution to the problem discussed in 3) is given as: '''\n",
    "\n",
    "dp_states = [0]*101\n",
    "\n",
    "def solve_util(n):\n",
    "    global dp_states\n",
    "    if n <= 0:\n",
    "        return 0\n",
    "    elif n == 1:\n",
    "        return 1\n",
    "    else:\n",
    "        return dp_states[n]\n",
    "        \n",
    "def solve(n):\n",
    "    global dp_states\n",
    "    #base cases:\n",
    "    for i in range(2, n+1):\n",
    "        dp_states[i] = solve_util(i-1) + solve_util(i-3) + solve_util(i-5)\n",
    "    return dp_states[n]\n",
    "solve(100)"
   ]
  },
  {
   "cell_type": "code",
   "execution_count": null,
   "metadata": {},
   "outputs": [],
   "source": [
    "'''\n",
    "Q. \n",
    "Imagine you have a collection of N wines placed next to each other on a shelf. \n",
    "For simplicity, let's number the wines from left to right as they are standing\n",
    "on the shelf with integers from 1 to N, respectively. The price of the ith wine is pi. \n",
    "(prices of different wines can be different).\n",
    "\n",
    "Because the wines get better every year, supposing today is the year 1, on year y the \n",
    "price of the ith wine will be y*pi, i.e. y-times the value that current year.\n",
    "\n",
    "You want to sell all the wines you have, but you want to sell exactly one wine per year, \n",
    "starting on this year. One more constraint - on each year you are allowed to sell only \n",
    "either the leftmost or the rightmost wine on the shelf and you are not allowed to reorder\n",
    "the wines on the shelf (i.e. they must stay in the same order as they are in the beginning).\n",
    "\n",
    "You want to find out, what is the maximum profit you can get, if you sell the wines in optimal order?\n",
    "'''"
   ]
  },
  {
   "cell_type": "code",
   "execution_count": 57,
   "metadata": {},
   "outputs": [
    {
     "data": {
      "text/plain": [
       "72"
      ]
     },
     "execution_count": 57,
     "metadata": {},
     "output_type": "execute_result"
    }
   ],
   "source": [
    "def max_cost(beginning, ending):\n",
    "    global n, dp, price\n",
    "    #n = total number of wines in the beginning\n",
    "    #dp = precalculation matrix, given by dp[beginning][ending], ie a 2d representation of states\n",
    "    \n",
    "    if beginning > ending:\n",
    "        return 0\n",
    "    if (k := dp[beginning][ending]) != -1:\n",
    "        return k\n",
    "    \n",
    "    year = n - (beginning-ending+1) + 1\n",
    "    #the current year = n - remaining_bottles + 1\n",
    "    \n",
    "    dp[beginning][ending] = max(max_cost(beginning+1, ending) + year*price[beginning],\n",
    "                                       max_cost(beginning, ending-1) + year*price[ending])\n",
    "    return dp[beginning][ending]\n",
    "n = 4\n",
    "dp = [[-1] * n]*n\n",
    "price = [2,3,5,1,4]\n",
    "max_cost(0,3)"
   ]
  },
  {
   "cell_type": "markdown",
   "metadata": {},
   "source": [
    "## Sometimes, DP can be an exhaustive solution, such as the above problem"
   ]
  }
 ],
 "metadata": {
  "kernelspec": {
   "display_name": "Python 3",
   "language": "python",
   "name": "python3"
  },
  "language_info": {
   "codemirror_mode": {
    "name": "ipython",
    "version": 3
   },
   "file_extension": ".py",
   "mimetype": "text/x-python",
   "name": "python",
   "nbconvert_exporter": "python",
   "pygments_lexer": "ipython3",
   "version": "3.8.2"
  }
 },
 "nbformat": 4,
 "nbformat_minor": 4
}
