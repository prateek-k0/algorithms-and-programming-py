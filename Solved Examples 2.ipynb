{
 "cells": [
  {
   "cell_type": "code",
   "execution_count": null,
   "metadata": {},
   "outputs": [],
   "source": [
    "''' CHFNSWPS '''\n",
    "''' two types of swaps :\n",
    "1. direct swap of a[i], b[i], cost = min(a[i], b[i])\n",
    "2. if a[i], b[i] are large, then swap with minimum as follows:\n",
    "    swap(a[i], min)\n",
    "    swap(min, b[i])\n",
    "    \n",
    "    cost = 2 * min\n",
    "    \n",
    "now, first we figure out how many elements are present that actually need to be swapped\n",
    "that is calculated by counting the differences in number of occurences for each element present \n",
    "in  both of the arrays. The number of elements to be swapped is obtained by this diff//2.\n",
    "\n",
    "now, the number of swaps = (total number of elements to be swapped)//2\n",
    "with this, check the swapping condition for the cost\n",
    "'''\n",
    "\n",
    "from collections import defaultdict\n",
    "      \n",
    "total, ca, cb = defaultdict(int), defaultdict(int), defaultdict(int)\n",
    "for _ in range(int(input())):\n",
    "    n = int(input())\n",
    "    sumx = 0\n",
    "    minimum = int(1e9)\n",
    "    total.clear(), ca.clear(), cb.clear()\n",
    "    #sl = []\n",
    "    a = [int(x) for x in input().split()]\n",
    "    b = [int(x) for x in input().split()]\n",
    "    for i in range(n):\n",
    "        sumx ^= a[i]\n",
    "        sumx ^= b[i]\n",
    "        total[a[i]] += 1\n",
    "        total[b[i]] += 1\n",
    "        ca[a[i]] += 1\n",
    "        cb[b[i]] += 1\n",
    "        minimum = min(minimum, min(a[i], b[i]))\n",
    "\n",
    "    if sumx:\n",
    "        print(-1)\n",
    "    else:\n",
    "        swap_able = []\n",
    "        for i in total:\n",
    "            diff = int(abs(ca[i] - cb[i])/2)\n",
    "            for j in range(diff):\n",
    "                swap_able.append(i)\n",
    "        no_of_swaps = int(len(swap_able)/2)\n",
    "        swap_able.sort()\n",
    "        cost = 0\n",
    "        for i in range(no_of_swaps):\n",
    "            cost += min(2*minimum, swap_able[i])\n",
    "        print(cost)"
   ]
  },
  {
   "cell_type": "code",
   "execution_count": 36,
   "metadata": {},
   "outputs": [
    {
     "name": "stdout",
     "output_type": "stream",
     "text": [
      "1\n",
      "5 1\n",
      "40 30 20 10 50\n",
      "9\n"
     ]
    }
   ],
   "source": [
    "''' DRCHEF '''\n",
    "\n",
    "import bisect\n",
    "import math\n",
    "def calc(x, pos):\n",
    "    global pop\n",
    "    count = 0\n",
    "    for i in range(pos, len(pop)):\n",
    "        if x >= pop[i]:               #if no of cures is greater than current city population, then deliver in 1 day\n",
    "            count += 1\n",
    "        else:                  #if not, then multiply until the entire city is cured\n",
    "            days = math.ceil(math.log2(pop[i]/x))\n",
    "            count += (days+1)\n",
    "        x = 2*pop[i]\n",
    "    return count+pos            \n",
    "            \n",
    "for _ in range(int(input())):\n",
    "    n, x = [int(x) for x in input().split()]\n",
    "    pop = [int(x) for x in input().split()]\n",
    "    pop.sort()\n",
    "    #finding the index where pop[i] <= x <= pop[i+1]\n",
    "    index = bisect.bisect(pop, x)\n",
    "    print(min(calc(x, index), calc(x, max(0, index - 1))))     "
   ]
  },
  {
   "cell_type": "code",
   "execution_count": 8,
   "metadata": {},
   "outputs": [
    {
     "name": "stdout",
     "output_type": "stream",
     "text": [
      "1\n",
      "2\n",
      "1 3\n",
      "5\n",
      "0 0\n",
      "0\n",
      "2 0\n",
      "2\n",
      "0 4\n",
      "3\n",
      "1 1\n",
      "2\n",
      "1 2\n",
      "-1\n"
     ]
    }
   ],
   "source": [
    "''' CLPNT '''\n",
    "\n",
    "import bisect\n",
    "\n",
    "for _ in range(int(input())):\n",
    "    n = int(input())\n",
    "    a = [int(x) for x in input().split()]\n",
    "    a.sort()\n",
    "    for _ in range(int(input())):\n",
    "        s = sum([int(x) for x in input().split()])\n",
    "        idx = bisect.bisect(a, s)\n",
    "        if not idx:\n",
    "            print(0)\n",
    "        elif a[idx-1] == s:\n",
    "            print(-1)\n",
    "        else:\n",
    "            print(idx)"
   ]
  },
  {
   "cell_type": "code",
   "execution_count": 27,
   "metadata": {},
   "outputs": [
    {
     "name": "stdout",
     "output_type": "stream",
     "text": [
      "1\n",
      ")())((()\n",
      "[-1, 3, -1, -1, -1, -1, 8, -1]\n",
      "3\n",
      "1 7 6\n",
      "3\n",
      "8\n",
      "-1\n"
     ]
    }
   ],
   "source": [
    "'''' CLBRKT '''\n",
    "for _ in range(int(input())):\n",
    "    s = input()\n",
    "    stack = []\n",
    "    complete = [-1] * len(s)\n",
    "    for i in range(len(s)):   #finding the corresponding closing bracket position for the opening bracket\n",
    "        if s[i] == '(':\n",
    "            stack.append(i)\n",
    "        elif stack:\n",
    "            complete[stack.pop()] = i+1\n",
    "\n",
    "    #print(complete)\n",
    "    next_opening_bracket = -1    #finding the next opening bracket after each corresponding ti, which has a valid completion\n",
    "    for i in range(len(s)-1, -1, -1):\n",
    "        if s[i] == '(':\n",
    "            next_opening_bracket = complete[i]\n",
    "        else:\n",
    "            complete[i] = next_opening_bracket\n",
    "        \n",
    "    q = int(input())\n",
    "    qi = [int(x) for x in input().split()]\n",
    "    for ti in qi:\n",
    "        v = complete[ti-1]\n",
    "        print(v)"
   ]
  },
  {
   "cell_type": "code",
   "execution_count": 12,
   "metadata": {},
   "outputs": [
    {
     "name": "stdout",
     "output_type": "stream",
     "text": [
      "4\n",
      "3\n",
      "1 2 7\n",
      "NO\n",
      "2\n",
      "1 2\n",
      "YES\n",
      "3\n",
      "6 5 8\n",
      "YES\n",
      "5\n",
      "12 32 45 23 47\n",
      "NO\n"
     ]
    }
   ],
   "source": [
    "''' ORTHODOX '''\n",
    "def bitwise_or(arr):\n",
    "    rs = set()    \n",
    "    sprefix = set([0])\n",
    "    for i in range(len(arr)):\n",
    "        sprefix = {arr[i] | y for y in sprefix} | {arr[i]}\n",
    "        rs |= sprefix\n",
    "    return len(rs) == int((len(arr)*(len(arr)+1)/2))\n",
    "\n",
    "for _ in range(int(input())):\n",
    "    n = int(input())\n",
    "    arr = [int(x) for x in input().split()]\n",
    "    res = 'YES' if bitwise_or(arr) else 'NO'\n",
    "    print(res)"
   ]
  },
  {
   "cell_type": "code",
   "execution_count": 18,
   "metadata": {},
   "outputs": [
    {
     "name": "stdout",
     "output_type": "stream",
     "text": [
      "4\n",
      "6\n",
      "cabbac\n",
      "YES\n",
      "7\n",
      "acabbad\n",
      "NO\n",
      "18\n",
      "fbedfcbdaebaaceeba\n",
      "YES\n",
      "21\n",
      "yourcrushlovesyouback\n",
      "NO\n"
     ]
    }
   ],
   "source": [
    "''' EVENTUAL '''\n",
    "\n",
    "import string\n",
    "ds = {i:j for i, j in zip(string.ascii_lowercase, range(26))}\n",
    "for _ in range(int(input())):\n",
    "    n = int(input())\n",
    "    s = input()\n",
    "    res = 0\n",
    "    for i in range(n):\n",
    "        res ^= ds[s[i]]\n",
    "    pos = 'YES' if not res else 'NO'\n",
    "    print(pos)"
   ]
  },
  {
   "cell_type": "code",
   "execution_count": 29,
   "metadata": {},
   "outputs": [
    {
     "name": "stdout",
     "output_type": "stream",
     "text": [
      "1\n",
      "6\n",
      "1 2\n",
      "2 3\n",
      "1 4\n",
      "5 1\n",
      "6 5\n",
      "6 20 42 20 20 42 "
     ]
    }
   ],
   "source": [
    "''' PATHETIC '''\n",
    "\n",
    "''' there are 2 approaches :\n",
    "1.  calculate number of primes under 100, and find their product (lets call it m), which is of the order 10^36.\n",
    "    now, find 2 numbers p1 and p2 such that p1*p2 = m, p1,p2 <= 2 * 10^18. give value p1 to nodes at even height,\n",
    "    p2 to nodes at odd height.\n",
    "    \n",
    "2.  for each node = 2*l(2*l + 1) (or 2*l(2*l - 1)), l = level of that node \n",
    "'''\n",
    "\n",
    "def bfs():\n",
    "    global adj_list, val, hei\n",
    "    for node, level in val:\n",
    "        hei[node] = level\n",
    "        for nei in adj_list[node]:\n",
    "            if not hei[nei]:\n",
    "                val.append((nei, level+1))\n",
    "            \n",
    "        \n",
    "for _ in range(int(input())):\n",
    "    n = int(input())\n",
    "    adj_list = [[] for j in range(n)]\n",
    "    val = [(0,1)]\n",
    "    hei = [None] * n\n",
    "    for _ in range(n-1):\n",
    "        u, v = [int(x) for x in input().split()]\n",
    "        adj_list[u-1].append(v-1)\n",
    "        adj_list[v-1].append(u-1)\n",
    "    bfs()\n",
    "    for node in hei:\n",
    "        print(2*node*(2*node+1), end = ' ')\n",
    "    "
   ]
  },
  {
   "cell_type": "code",
   "execution_count": 3,
   "metadata": {},
   "outputs": [
    {
     "name": "stdout",
     "output_type": "stream",
     "text": [
      "2\n",
      "4 4 4 6\n",
      "48\n",
      "3 4 4 5\n",
      "30\n"
     ]
    }
   ],
   "source": [
    "''' CHECOC '''\n",
    "''' Follow Checkerboard pattern in a matrix, place higher number in black squares, since black_squares >= white_squares \n",
    "or, odd_numbers >= even_numbers for 1..N\n",
    "now, if x >= y:\n",
    "    y = x\n",
    "    place y in black squares, 0 in white, to satisfy the condition\n",
    "elif x < y:\n",
    "    check if 2*x <= y\n",
    "        if yes, then y = 2x   (because each element cannot exceed x, maximum sum of adjacent elements = 2x iff y <= 2x)\n",
    "        if not, no change in y\n",
    "    put x in black, y-x in white\n",
    "'''\n",
    "\n",
    "for _ in range(int(input())):\n",
    "    n, m, x, y = [int(x) for x in input().split()]\n",
    "    e = n*m\n",
    "    if e == 1:\n",
    "        print(x)    #no adjacent cell, y becomes irrelevant\n",
    "    else:\n",
    "        w = int(e//2)\n",
    "        b = e-w\n",
    "        x = min(x, y)\n",
    "        y = min(2*x, y)\n",
    "        s = b*x + w*(y-x)\n",
    "        print(s)"
   ]
  },
  {
   "cell_type": "code",
   "execution_count": 16,
   "metadata": {},
   "outputs": [],
   "source": [
    "g,p,s = [0,1,2],[0,1,3],[0,1,9]\n",
    "mn = 10\n",
    "mod = 10**9+7\n",
    "for n in range(3,mn):\n",
    "        gg = 1 + g[n-g[g[n-1]]];pp = p[n-1] + gg;ss = (s[n-1] + gg*n*n)%mod;g.append(gg);p.append(pp);s.append(ss)\n",
    "        if pp > 10:break  "
   ]
  },
  {
   "cell_type": "code",
   "execution_count": 1,
   "metadata": {},
   "outputs": [],
   "source": [
    "g = [0,1,2] #golomb seq\n",
    "for i in range(1,int(6e6)):\n",
    "        gg = 1 + g[i-g[g[i-1]]]\n",
    "        g.append(gg)"
   ]
  },
  {
   "cell_type": "code",
   "execution_count": 2,
   "metadata": {},
   "outputs": [
    {
     "name": "stdout",
     "output_type": "stream",
     "text": [
      "1\n",
      "9 20\n",
      "1 2 3 4 5 6 7 8 9\n",
      "1 2\n",
      "2 3\n",
      "3 4\n",
      "5 4\n",
      "6 4\n",
      "6 7\n",
      "8 7\n",
      "8 9\n",
      "60\n"
     ]
    }
   ],
   "source": [
    "''' PRT2 '''\n",
    "'''\n",
    "The idea exploits the fact that leaves can be counted twice, since we add its value once it is visited, and once again when\n",
    "we turn around. Now, to maximize the sum, we need to also maximize the number of times we visit a leaf node (or rather, \n",
    "increase the number of turnaround operations). This can be done by traversing the shortest leaf-leaf path, as many times as \n",
    "possible. With each oscillation, we add the sum of max l elements twice(supposing l is the length of the shortest leaf-leaf\n",
    "path), ie, sum += k%(2*l)\n",
    "\n",
    "now for the remaining number of k, if k == 1, then add the max element,\n",
    "elif k == 2: add max and second-max element, but cannot add max elements twice, since we cannot bounce back from the leaf\n",
    "if k > 2: \n",
    "add max element twice for each multiple of 2 less than k.\n",
    "\n",
    "P.S. for finding the shortest path, we use multi-source bfs, with sources as all the leaf nodes.\n",
    "'''\n",
    "def multi_source_bfs():\n",
    "    #sources are all the leaves \n",
    "    global adj_list, n\n",
    "    q = []\n",
    "    shortest_len = [-1] * n\n",
    "    visited = [False]*n\n",
    "    global_shortest = 1e9\n",
    "    for i in range(n):\n",
    "        if len(adj_list[i]) == 1:  #leaf nodes; only one neighbour\n",
    "            q.append(i)\n",
    "            shortest_len[i] = 0\n",
    "    while len(q):\n",
    "        curr_node = q.pop(0)\n",
    "        visited[curr_node] = True\n",
    "        for i in adj_list[curr_node]:\n",
    "            if not visited[i]:\n",
    "                if shortest_len[i] == -1:   #length from its nearest source\n",
    "                    shortest_len[i] = shortest_len[curr_node]+1\n",
    "                    q.append(i)\n",
    "                else:\n",
    "                    global_shortest = min(global_shortest, shortest_len[i]+shortest_len[curr_node]+2)\n",
    "    return global_shortest         \n",
    "\n",
    "for _ in range(int(input())):\n",
    "    n,k = [int(x) for x in input().split()]\n",
    "    arr = sorted([int(x) for x in input().split()])\n",
    "    adj_list = [[] for j in range(n)]\n",
    "    for _ in range(n-1):\n",
    "        u, v = [int(x) for x in input().split()]\n",
    "        adj_list[u-1].append(v-1)\n",
    "        adj_list[v-1].append(u-1)\n",
    "    shortest_path = multi_source_bfs()\n",
    "    ans = 0 #sum\n",
    "    spsum = 0   #sum of first shortest_path elements\n",
    "    for i in range(shortest_path):\n",
    "        spsum += arr[i]\n",
    "    no_of_traversals = int(k//(2*shortest_path)) \n",
    "    ans += 2*spsum*no_of_traversals\n",
    "    k %= (2*shortest_path)\n",
    "    for i in range(int(k//2)):\n",
    "        ans += 2*arr[i]\n",
    "    if k & 1 :\n",
    "        ans += arr[int(k//2)]\n",
    "    if k == 2 : \n",
    "        ans -= arr[0]    #since no turnaround is possible\n",
    "        ans += arr[1]\n",
    "    print(ans)"
   ]
  },
  {
   "cell_type": "markdown",
   "metadata": {},
   "source": [
    "## Subtree Queries\n",
    "#### https://www.hackerearth.com/problem/algorithm/subtree-queries/description/\n",
    "\n",
    "#### using tree flattening and segment tree"
   ]
  },
  {
   "cell_type": "code",
   "execution_count": 1,
   "metadata": {},
   "outputs": [
    {
     "name": "stdout",
     "output_type": "stream",
     "text": [
      "10 0\n",
      "100 200 300 400 500 600 700 800 900 1000\n",
      "1 2\n",
      "1 5\n",
      "1 7\n",
      "2 3\n",
      "2 4\n",
      "5 6\n",
      "7 8\n",
      "7 9\n",
      "8 10\n"
     ]
    }
   ],
   "source": [
    "import math\n",
    "class subtree_queries() :   \n",
    "    \n",
    "    class _seg_tree():   \n",
    "        def __init__(self, arr, func, fid=0):\n",
    "            self.func = func\n",
    "            self.tree = None\n",
    "            self.arr = list(arr)\n",
    "            self.f_identity = fid\n",
    "            self._build_tree()\n",
    "\n",
    "        def _build_tree(self):          \n",
    "            self.tree = [None]*(len(self.arr) - 1) + self.arr\n",
    "            for i in range(len(self.arr)-2, -1, -1):\n",
    "                self.tree[i] = self.func(self.tree[2*i+1], self.tree[2*i+2])\n",
    "\n",
    "        def update(self, index, value):        \n",
    "            self.arr[index] = value\n",
    "            index += (len(self.arr) - 1)\n",
    "            self.tree[index] = value   \n",
    "            while (index := ((index-1)//2)) >= 0:   \n",
    "                updated_internal_node_val = self.func(self.tree[2*index+1], self.tree[2*index+2])\n",
    "                if updated_internal_node_val != self.tree[index]:\n",
    "                    self.tree[index] = updated_internal_node_val\n",
    "                else: \n",
    "                    break\n",
    "\n",
    "        def query(self, l, r):                 \n",
    "            if l < 0 or r >= len(self.arr):\n",
    "                return None\n",
    "            l += (len(self.arr) - 1)\n",
    "            r += (len(self.arr) - 1)\n",
    "            res = self.f_identity\n",
    "            while r >= l:              \n",
    "                if not (l & 1) :    \n",
    "                    res = self.func(self.tree[l], res)\n",
    "                    l += 1\n",
    "                if (r & 1) == 1 :     \n",
    "                    res = self.func(self.tree[r], res)\n",
    "                    r -= 1        \n",
    "                r = (r-1) // 2\n",
    "                l = (l-1) // 2 \n",
    "            return res\n",
    "    \n",
    "    def __init__(self, n, graph, val, func):\n",
    "        self.length = n\n",
    "        self.func = func\n",
    "        self.lkp = [0] * n    #lookup table for indices of the nodes\n",
    "        self.tour = []       #to store euler tour\n",
    "        self.graph = graph    #adjacency list\n",
    "        self.val = val\n",
    "        self.entry_n_exit = [[None, None] for _ in range(n)]  #entry and exit\n",
    "        self._initiate_tour()\n",
    "        \n",
    "    def _initiate_tour(self):\n",
    "        timer = 0\n",
    "        def dfs(node, parent):\n",
    "            nonlocal self, timer\n",
    "            self.entry_n_exit[node][0] = timer    #entry\n",
    "            self.tour.append(node)\n",
    "            timer += 1\n",
    "            for adjacent_node in self.graph[node]:\n",
    "                if adjacent_node == parent:\n",
    "                    continue\n",
    "                dfs(adjacent_node, node)\n",
    "            self.entry_n_exit[node][1] = timer - 1     #exit\n",
    "        dfs(0,-1)\n",
    "        for i in range(self.length):\n",
    "            self.lkp[self.tour[i]] = i\n",
    "        self._sgt = subtree_queries._seg_tree([val[i] for i in self.tour], self.func)\n",
    "    \n",
    "    def update(self, node, val):\n",
    "        node_index = self.lkp[node]\n",
    "        self._sgt.update(node_index, val)\n",
    "        \n",
    "    def query_subtree(self, node):\n",
    "        l = self.entry_n_exit[node][0]\n",
    "        r = self.entry_n_exit[node][1]\n",
    "        return self._sgt.query(l, r)\n",
    "\n",
    "\n",
    "n, q = [int(x) for x in input().split()]\n",
    "val = [int(x) for x in input().split()]\n",
    "graph = [[] for _ in range(n)]\n",
    "for _ in range(n-1):\n",
    "    u, v = [int(x) for x in input().split()]\n",
    "    graph[u-1].append(v-1)\n",
    "    graph[v-1].append(u-1)\n",
    "\n",
    "sb = subtree_queries(n, graph, val, math.gcd)\n",
    "for _ in range(q):\n",
    "    qt, *b = [int(x) for x in input().split()]\n",
    "    if qt == 1:  #update\n",
    "        sb.update(b[0]-1, b[1])\n",
    "        \n",
    "    else:\n",
    "        print(sb.query_subtree(b[0]-1))\n",
    "\n"
   ]
  },
  {
   "cell_type": "code",
   "execution_count": 5,
   "metadata": {},
   "outputs": [
    {
     "data": {
      "text/plain": [
       "[[0, 9],\n",
       " [1, 3],\n",
       " [2, 2],\n",
       " [3, 3],\n",
       " [4, 5],\n",
       " [5, 5],\n",
       " [6, 9],\n",
       " [7, 8],\n",
       " [9, 9],\n",
       " [8, 8]]"
      ]
     },
     "execution_count": 5,
     "metadata": {},
     "output_type": "execute_result"
    }
   ],
   "source": [
    "sb.entry_n_exit"
   ]
  },
  {
   "cell_type": "markdown",
   "metadata": {},
   "source": [
    "## Longest subarray with difference exactly K between any two distinct values"
   ]
  },
  {
   "cell_type": "code",
   "execution_count": 54,
   "metadata": {},
   "outputs": [
    {
     "name": "stdout",
     "output_type": "stream",
     "text": [
      "3\n",
      "2\n",
      "2\n",
      "1\n",
      "2\n"
     ]
    }
   ],
   "source": [
    "''' Longest subarray with difference exactly K between any two distinct values '''\n",
    "def ls(k = 1):\n",
    "    global arr,s\n",
    "    s = set()\n",
    "    m = 1\n",
    "    for i in range(len(arr)):\n",
    "        s.add(arr[i])\n",
    "        for j in range(i+1, len(arr)):\n",
    "            if (abs(arr[j]-arr[i]) == 0) or (abs(arr[j]-arr[i]) == k):   #equal to prev or 1 greater than prev:\n",
    "                if not (arr[j] in s):\n",
    "                    if len(s) == 2:\n",
    "                        break\n",
    "                    else:\n",
    "                        s.add(arr[j])\n",
    "            else:\n",
    "                break\n",
    "        if len(s) == 2:\n",
    "            m = max(m, j - i)\n",
    "            s.clear()\n",
    "        else:\n",
    "            s.clear()\n",
    "    return m\n",
    "\n",
    "arr = []\n",
    "for _ in range(int(input())):\n",
    "    arr.append(int(input()))\n",
    "print(ls())"
   ]
  },
  {
   "cell_type": "markdown",
   "metadata": {},
   "source": [
    "## DRGNDEN \n",
    "#### using tree flattening "
   ]
  },
  {
   "cell_type": "code",
   "execution_count": 20,
   "metadata": {},
   "outputs": [
    {
     "name": "stdout",
     "output_type": "stream",
     "text": [
      "3 1 4 1 5\n"
     ]
    }
   ],
   "source": [
    "'''Step 1: find the point that is greater than the current one in both directions(predecessor)'''\n",
    "''' similar to Stock - Span problem '''\n",
    "\n",
    "def calculate_pred(i, stack, pred, heights):\n",
    "    while (len(stack)) and (heights[i] > heights[stack[-1]]):\n",
    "        le = stack.pop()\n",
    "    \n",
    "    if not len(stack):\n",
    "        pred[i] = 0   #no predecessor\n",
    "    else:\n",
    "        pred[i] = stack[-1]\n",
    "    stack.append(i)\n",
    "\n",
    "heights = [0] + [int(x) for x in input().split()]\n",
    "n = len(heights) - 1\n",
    "#\n",
    "stack_to_right = []\n",
    "stack_to_left = []\n",
    "preds_left, preds_right = [0]*(n+1), [0]*(n+1)   #preds_right is for travelling to right\n",
    "preds_left[0] = -1\n",
    "preds_right[0] = -1    #dummy nodes, for connecting disconnected trees\n",
    "for i,j in zip(range(1, n+1), range(n,0,-1)):\n",
    "    calculate_pred(i, stack_to_right, preds_right, heights)\n",
    "    calculate_pred(j, stack_to_left, preds_left, heights)"
   ]
  },
  {
   "cell_type": "code",
   "execution_count": null,
   "metadata": {},
   "outputs": [],
   "source": []
  }
 ],
 "metadata": {
  "kernelspec": {
   "display_name": "Python 3",
   "language": "python",
   "name": "python3"
  },
  "language_info": {
   "codemirror_mode": {
    "name": "ipython",
    "version": 3
   },
   "file_extension": ".py",
   "mimetype": "text/x-python",
   "name": "python",
   "nbconvert_exporter": "python",
   "pygments_lexer": "ipython3",
   "version": "3.8.2"
  }
 },
 "nbformat": 4,
 "nbformat_minor": 4
}
