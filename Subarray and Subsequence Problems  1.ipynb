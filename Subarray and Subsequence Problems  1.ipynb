{
 "cells": [
  {
   "cell_type": "markdown",
   "metadata": {},
   "source": [
    "## Longest subarray with difference exactly K between any two distinct values\n",
    "#### Given an array arr[] of length N and an integer K, the task is to find the longest subarray with difference between any two distict values equal to K. Print the length of the longest subarray obtained. Otherwise, if no such subarray is obtained, print -1.\n",
    "\n",
    "### the idea is to use set, and check with each element if the difference is either 0 (same element) or k . The element with difference k will only be added if the length of set is less than 2."
   ]
  },
  {
   "cell_type": "code",
   "execution_count": 7,
   "metadata": {},
   "outputs": [
    {
     "data": {
      "text/plain": [
       "2"
      ]
     },
     "execution_count": 7,
     "metadata": {},
     "output_type": "execute_result"
    }
   ],
   "source": [
    "def longest_subarray(arr, k):\n",
    "    n = len(arr)\n",
    "    s = set()   #to store distinct elements\n",
    "    max_len = 1   # to store max length\n",
    "    for i in range(n-1):\n",
    "        s.add(arr[i])  #add 1st element\n",
    "        for j in range(i+1, n):\n",
    "            if (abs(arr[j] - arr[i]) == 0) or (abs(arr[j] - arr[k]) == k) :#if equal, then then cehck if arr[j] can be added, \n",
    "                  #if difference is k, then also check if arr[j] can be added\n",
    "                    \n",
    "                    if not (arr[j] in s):   #if not already in s, then check if arr[j] can be added\n",
    "                        if len(s) == 2:  #already filled, without arr[j], then break out of the inner loop, move to next i\n",
    "                            break\n",
    "                        else:  #if not filled, add arr[j]\n",
    "                            s.add(arr[j])\n",
    "            else:\n",
    "                break   #no contiguous element with difference 0 or k\n",
    "        \n",
    "        if len(s) == 2: \n",
    "            max_len = max(max_len, j - i)\n",
    "        s.clear()\n",
    "    \n",
    "    return max_len\n",
    "        \n",
    "longest_subarray([2,2,1], 1)"
   ]
  },
  {
   "cell_type": "markdown",
   "metadata": {},
   "source": [
    "## Longest Palindromic Subsequence \n",
    "#### Given a sequence, find the length of the longest palindromic subsequence in it.\n",
    "\n",
    "#### we use the following recurrence relation:\n",
    "\n",
    "#### 1. Every single charachter is a palindrome of length 1\n",
    "#### dp(i, i) = 1,  length from index i to i\n",
    "\n",
    "#### 2. If first and last characters are not same:  \n",
    "#### if (string[i] != string[j]) : dp(i,j) = max(dp(i+1, j), dp(i, j-1))  \n",
    "\n",
    "#### 3. if there are only 2 characters that are same: \n",
    "#### elif i+1 == j and string[i] == string[j] : return 2\n",
    "\n",
    "#### 4. if last 2 characters are same: then there will be 2 palindomes currently : single one and both of them together (s[i] and s[i]s[j])\n",
    "#### elif str[i] == str[j] : dp(i, j) = 2 + d(i +1, j - 1)"
   ]
  },
  {
   "cell_type": "code",
   "execution_count": 4,
   "metadata": {},
   "outputs": [],
   "source": [
    "def brute_force_longest_palindrome_subseq(i, j):\n",
    "    global string\n",
    "    if i == j:\n",
    "        return 1\n",
    "    if string[i] == string[j] and i + 1 ==j:\n",
    "        return 2\n",
    "    if string[i] == string[j] :\n",
    "        return brute_force_longest_palindrome_subseq(i+1, j-1) + 2\n",
    "    return max(brute_force_longest_palindrome_subseq(i+1, j),\n",
    "               brute_force_longest_palindrome_subseq(i, j-1))"
   ]
  },
  {
   "cell_type": "markdown",
   "metadata": {},
   "source": [
    "#### DP Solution : Using bottom up filling of a 2D Array, where each state is defined by 2 variables : i (the staring index), and j (the ending index)"
   ]
  },
  {
   "cell_type": "code",
   "execution_count": 10,
   "metadata": {},
   "outputs": [],
   "source": [
    "def dp_longest_palindromic_subseq():\n",
    "    global string\n",
    "    n = len(string)\n",
    "    dp = [[0 for _ in range(len(string))] for _ in range(len(string))]\n",
    "    for i in range(n):\n",
    "        dp[i][i] = 1   #condition 1\n",
    "    \n",
    "    for row in range(n-1, -1, -1):\n",
    "        for col in range(row+1, n):\n",
    "            if string[row] == string[col]:\n",
    "                if row + 1 < col :\n",
    "                    dp[row][col] = 2 + dp[row+1][col-1]\n",
    "                else:\n",
    "                    dp[row][col] = 2\n",
    "            else:\n",
    "                dp[row][col] = max(dp[row+1][col], dp[row][col-1])\n",
    "    \n",
    "    return dp[0][n-1] "
   ]
  },
  {
   "cell_type": "markdown",
   "metadata": {},
   "source": [
    "## Longest Palindromic Substring : \n",
    "#### Input: Given string :\"forgeeksskeegfor\"\n",
    "#### Output: \"geeksskeeg\"\n",
    "### In contiguous sequence (substring = subarray, different from subseq, which is non - contiguous)"
   ]
  },
  {
   "cell_type": "markdown",
   "metadata": {},
   "source": [
    "#### Maintain a boolean table[n][n] that is filled in bottom up manner.\n",
    "#### The value of table[i][j] is true, if the substring is palindrome, otherwise false.\n",
    "#### To calculate table[i][j], check the value of table[i+1][j-1], if the value is true and str[i] is same as str[j], then we make table[i][j] true.\n",
    "#### Otherwise, the value of table[i][j] is made false."
   ]
  },
  {
   "cell_type": "code",
   "execution_count": 14,
   "metadata": {},
   "outputs": [
    {
     "data": {
      "text/plain": [
       "10"
      ]
     },
     "execution_count": 14,
     "metadata": {},
     "output_type": "execute_result"
    }
   ],
   "source": [
    "def longest_pal_substring(string):\n",
    "    n = len(string)\n",
    "    table = [[False for _ in range(n)] for _ in range(n)]\n",
    "    max_length = 1  #for all chars are palindrome of thmeselves\n",
    "    for i in range(n):\n",
    "        table [i][i] = True\n",
    "    #check for substrings of length 2:\n",
    "    start = 0\n",
    "    for i in range(n-1):\n",
    "        if string[i] == string[i+1]:\n",
    "            table[i][i+1] = True\n",
    "            start = i\n",
    "            max_length = 2\n",
    "    #check for substrings of length greater than 2:\n",
    "    k = 3\n",
    "    while k <= n : \n",
    "        # Fix the starting index \n",
    "        i = 0\n",
    "        while i < (n - k + 1) : \n",
    "              \n",
    "            # Get the ending index of  \n",
    "            # substring from starting  \n",
    "            # index i and length k \n",
    "            j = i + k - 1\n",
    "            \n",
    "            # checking for sub-string from \n",
    "            # ith index to jth index iff  \n",
    "            # string[i + 1] to string[(j-1)] is a  \n",
    "            # palindrome and string[i] and string[j] are equal\n",
    "            if (table[i + 1][j - 1] and \n",
    "                      string[i] == string[j]) : \n",
    "                table[i][j] = True\n",
    "                if (k > max_length) : \n",
    "                    start = i \n",
    "                    max_length = k \n",
    "            i = i + 1\n",
    "        k = k + 1\n",
    "        \n",
    "    return string[start:start+max_length]\n",
    "st = \"forgeeksskeegfor\"\n",
    "longest_pal_substring(st)"
   ]
  },
  {
   "cell_type": "markdown",
   "metadata": {},
   "source": [
    "## Longest Increasing Subsequence Size (N log N) using patience sorting"
   ]
  },
  {
   "cell_type": "markdown",
   "metadata": {},
   "source": [
    "### Three cases: \n",
    "#### 1.  If A[i] is smallest among all end candidates of active lists, we will start new active list of length 1.\n",
    "#### 2.  If A[i] is largest among all end candidates of active lists, we will clone the largest active list, and extend it by A[i].\n",
    "#### 3.  If A[i] is in between, we will find a list with largest end element that is smaller than A[i]. Clone and extend this list by A[i]. We will discard all other lists of same length as that of this modified list.\n",
    "\n",
    "### https://www.geeksforgeeks.org/longest-monotonically-increasing-subsequence-size-n-log-n/"
   ]
  },
  {
   "cell_type": "markdown",
   "metadata": {},
   "source": [
    "### We will use an auxiliary array to keep end elements. The maximum length of this array is that of input. In the worst case the array divided into N lists of size one (note that it does’t lead to worst case complexity). To discard an element, we will trace ceil value of A[i] in auxiliary array (again observe the end elements in your rough work), and replace ceil value with A[i]. We extend a list by adding element to auxiliary array. We also maintain a counter to keep track of auxiliary array length."
   ]
  },
  {
   "cell_type": "code",
   "execution_count": 1,
   "metadata": {},
   "outputs": [],
   "source": [
    "def ceil_index(arr, l, r, key):   #returns smallest element greater than the key in given range:\n",
    "    while r-l > 1:\n",
    "        m = l + (r-1)//2\n",
    "        if arr[m] >= key:\n",
    "            r = m\n",
    "        else:\n",
    "            l = m\n",
    "    return r\n",
    "\n",
    "def lis_length(arr):\n",
    "    size = len(arr)\n",
    "    #add boundry condition wjen arr size is 1\n",
    "    tail_table = [0 for i in range(size+1)]\n",
    "    length = 0\n",
    "    \n",
    "    tail_table[0] = arr[0]\n",
    "    length = 1\n",
    "    \n",
    "    for i in range(1, size):\n",
    "        if arr[i] < tail_table[0]: # new smallest value \n",
    "            tail_table[0] = arr[i]\n",
    "        \n",
    "        elif arr[i] > tail_table[length-1]:\n",
    "             # A[i] wants to extend \n",
    "            # largest subsequence \n",
    "            tail_table[length] = arr[i]\n",
    "            length += 1\n",
    "        \n",
    "        else:\n",
    "             # A[i] wants to be current \n",
    "            # end candidate of an existing \n",
    "            # subsequence. It will replace \n",
    "            # ceil value in tailTable \n",
    "            tail_table[ceil_index(arr, -1, length -1, arr[i])] = arr[i]\n",
    "    \n",
    "    return length           \n",
    "     "
   ]
  },
  {
   "cell_type": "markdown",
   "metadata": {},
   "source": [
    "## Longest Increasing Subsequence Size using DP: (O(n^2))\n",
    "### We use the following recurrence:\n",
    "### Lis(i) = 1 + max( L(j) ) where 0 < j < i and arr[j] < arr[i]; or\n",
    "### Lis(i) = 1, if no such j exists."
   ]
  },
  {
   "cell_type": "code",
   "execution_count": 5,
   "metadata": {},
   "outputs": [
    {
     "name": "stdout",
     "output_type": "stream",
     "text": [
      "4\n"
     ]
    }
   ],
   "source": [
    "def lis(arr):\n",
    "    n = len(arr)\n",
    "    lis = [1]*n\n",
    "    #bottom up computaion :\n",
    "    for i in range(1, n):\n",
    "        for j in range(i):\n",
    "            if arr[j] < arr[i] and lis[i] < lis[j] + 1:\n",
    "                lis[i] = lis[j] + 1\n",
    "    maximum = max(lis)\n",
    "    return maximum\n",
    "arr = [100, 220, 9, 33, 21, 50, 41, 60] \n",
    "print(lis(arr))"
   ]
  },
  {
   "cell_type": "markdown",
   "metadata": {},
   "source": [
    "## Longest Common Subsequence\n",
    "#### Given two sequences, print the longest subsequence present in both of them."
   ]
  },
  {
   "cell_type": "code",
   "execution_count": 1,
   "metadata": {},
   "outputs": [],
   "source": [
    "''' Recursion solution exists as follows '''\n",
    "def lcs(X, Y, m, n):   #X is a seq of length m, Y is a seq of length n\n",
    "    if m == 0 or n == 0: \n",
    "        return 0\n",
    "    elif X[m-1] == Y[n-1]:     #last chars are equal\n",
    "        return 1 + lcs(X, Y, m-1, n-1)\n",
    "    else: \n",
    "        return max(lcs(X, Y, m, n-1), lcs(X, Y, m-1, n))    #max(lcs(X[0...m-1],Y[0...n]), lcs(X[0...m],Y[0...n-1]))"
   ]
  },
  {
   "cell_type": "markdown",
   "metadata": {},
   "source": [
    "### DP solution:   with printing"
   ]
  },
  {
   "cell_type": "code",
   "execution_count": 4,
   "metadata": {},
   "outputs": [],
   "source": [
    "def lcs(X, Y, m, n):\n",
    "    L = [[0 for _ in range(n+1)] for _ in range(m+1)]\n",
    "    \n",
    "    for i in range(m+1):\n",
    "        for j in range(n+1):\n",
    "            if i == 0 or j == 0:\n",
    "                L[i][j] = 0\n",
    "            elif X[i-1] == Y[j-1]:\n",
    "                L[i][j] = L[i-1][j-1] + 1\n",
    "            else:\n",
    "                L[i][j] = max(L[i-1][j], L[i][j-1]) \n",
    "    #max_length = L[m][n]  #return this if printing of subseq is not necessary\n",
    "    index = L[m][n]\n",
    "    lcs_list = [None]*(index+1)\n",
    "    i , j = m , n\n",
    "    while i > 0  and j > 0:\n",
    "        if X[i-1] == Y[j-1]: \n",
    "            lcs_list[index-1] = X[i-1] \n",
    "            i-=1\n",
    "            j-=1\n",
    "            index-=1\n",
    "        elif L[i-1][j] > L[i][j-1]: \n",
    "            i-=1\n",
    "        else: \n",
    "            j-=1\n",
    "    return lcs_list"
   ]
  },
  {
   "cell_type": "code",
   "execution_count": null,
   "metadata": {},
   "outputs": [],
   "source": []
  }
 ],
 "metadata": {
  "kernelspec": {
   "display_name": "Python 3",
   "language": "python",
   "name": "python3"
  },
  "language_info": {
   "codemirror_mode": {
    "name": "ipython",
    "version": 3
   },
   "file_extension": ".py",
   "mimetype": "text/x-python",
   "name": "python",
   "nbconvert_exporter": "python",
   "pygments_lexer": "ipython3",
   "version": "3.8.2"
  }
 },
 "nbformat": 4,
 "nbformat_minor": 4
}
