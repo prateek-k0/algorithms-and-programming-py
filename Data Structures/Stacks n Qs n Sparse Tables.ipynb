{
 "cells": [
  {
   "cell_type": "markdown",
   "metadata": {},
   "source": [
    "## Python's Heapq module (for min/max heaps)"
   ]
  },
  {
   "cell_type": "code",
   "execution_count": 1,
   "metadata": {},
   "outputs": [
    {
     "name": "stdout",
     "output_type": "stream",
     "text": [
      "[0, 3, 2, 5, 9, 4, 10]\n",
      "[-1, 0, 2, 3, 9, 4, 10, 5]\n"
     ]
    }
   ],
   "source": [
    "import heapq\n",
    "import math\n",
    "'''\n",
    "heapify(iterable) : convert iterable into heap\n",
    "heappush(heap, element) : insert element into heap and restructure if necessary\n",
    "heappop(heap) : remove smallest element from the heap and restructure the heap\n",
    "heappushpop(heap, ele) : combines push and pop  (first push, then pop smallest)\n",
    "heapreplace(heap, ele) : (first pop smallest, then push)\n",
    "nlargest(k, iterable, key = function) : return k largest elements from iterable \n",
    "nsmallest(k, iterable, key = function) : return k smallest elements from iterable\n",
    "'''\n",
    "\n",
    "l1 = [4,5,2,3,9,0,10]\n",
    "heapq.heapify(l1)\n",
    "print(l1)\n",
    "heapq.heappush(l1, -1)\n",
    "print(l1)"
   ]
  },
  {
   "cell_type": "markdown",
   "metadata": {},
   "source": [
    "## Stack where Min and Max elements are obtained in O(1)\n",
    "##### using another stack"
   ]
  },
  {
   "cell_type": "code",
   "execution_count": 1,
   "metadata": {},
   "outputs": [
    {
     "name": "stdout",
     "output_type": "stream",
     "text": [
      "-1\t4\n"
     ]
    }
   ],
   "source": [
    "class custom_stack():\n",
    "    def __init__(self):\n",
    "        self.list = []\n",
    "        self.aux_max = []\n",
    "        self.aux_min = []\n",
    "        \n",
    "    def push(self, e):\n",
    "        self.list.append(e)\n",
    "        if not len(self.aux_max):\n",
    "            self.aux_max.append(e)\n",
    "        else: \n",
    "            if self.aux_max[-1] < e:\n",
    "                self.aux_max.append(e)\n",
    "        if not len(self.aux_min):\n",
    "            self.aux_min.append(e)\n",
    "        else: \n",
    "            if self.aux_min[-1] > e:\n",
    "                self.aux_min.append(e)\n",
    "    def get_min(self):\n",
    "        return self.aux_min[-1]\n",
    "    \n",
    "    def get_max(self):\n",
    "        return self.aux_max[-1]\n",
    "    \n",
    "st = custom_stack()\n",
    "st.push(1)\n",
    "st.push(4)\n",
    "st.push(2)\n",
    "st.push(-1)\n",
    "\n",
    "print(st.get_min(), st.get_max(), sep = '\\t')"
   ]
  },
  {
   "cell_type": "markdown",
   "metadata": {},
   "source": [
    "## Stack with minimum in o(1)\n",
    "##### without using another stack"
   ]
  },
  {
   "cell_type": "code",
   "execution_count": 10,
   "metadata": {},
   "outputs": [],
   "source": [
    "class CustomStack():\n",
    "    \n",
    "    def __init__(self, func_dict):\n",
    "        self.stack = []\n",
    "        self.fdict = func_dict\n",
    "        \n",
    "    def push(self, val):\n",
    "        val_dict = {}\n",
    "        val_dict['val'] = val\n",
    "        if self.is_empty():\n",
    "            for i in self.fdict:\n",
    "                val_dict[i] = val\n",
    "        else:\n",
    "            for i in self.fdict:\n",
    "                val_dict[i] = self.fdict[i](val, self.stack[-1][i])\n",
    "        self.stack.append(val_dict)\n",
    "            \n",
    "    \n",
    "    def pop(self):\n",
    "        return self.stack.pop()['val']\n",
    "    \n",
    "    def get_f(self, func):\n",
    "        return self.stack[-1][func]\n",
    "    \n",
    "    def is_empty(self):\n",
    "        return not len(self.stack)\n",
    "    \n",
    "    def __repr__(self):\n",
    "        s = ''\n",
    "        for i in self.stack:\n",
    "            s = str(i['val']) + s\n",
    "            s = '\\n'+s     \n",
    "        s += '\\n\\n'\n",
    "        for i in self.fdict:\n",
    "            s += (i + ' : '+(str(self.stack[-1][i]) + ',  '))\n",
    "        return s\n",
    "    "
   ]
  },
  {
   "cell_type": "code",
   "execution_count": 16,
   "metadata": {},
   "outputs": [
    {
     "data": {
      "text/plain": [
       "\n",
       "3\n",
       "6\n",
       "-1\n",
       "1\n",
       "\n",
       "min : -1,  max : 6,  "
      ]
     },
     "execution_count": 16,
     "metadata": {},
     "output_type": "execute_result"
    }
   ],
   "source": [
    "s = CustomStack({'min':(lambda x, y : x if x < y else y), 'max':(lambda x, y : x if x > y else y)})\n",
    "s.push(1)\n",
    "s.push(-1)\n",
    "s.push(6)\n",
    "s.push(3)\n",
    "#s.is_empty()\n",
    "s"
   ]
  },
  {
   "cell_type": "markdown",
   "metadata": {},
   "source": [
    "## Queue with minimum in o(1) (using 2 stacks)"
   ]
  },
  {
   "cell_type": "code",
   "execution_count": 12,
   "metadata": {},
   "outputs": [],
   "source": [
    "class CustomQueue():\n",
    "    \n",
    "    def __init__(self, fdict):\n",
    "        self.s1 = CustomStack(fdict)         #for adding(rear)\n",
    "        self.s2 = CustomStack(fdict)         #for removing(front)\n",
    "        self.fdict = fdict\n",
    "        \n",
    "    def add(self, val):\n",
    "        self.s1.push(val)\n",
    "    \n",
    "    def remove(self):\n",
    "        if self.s2.is_empty():\n",
    "            while not self.s1.is_empty():\n",
    "                self.s2.push(self.s1.pop())\n",
    "        return self.s2.pop()\n",
    "    \n",
    "    def get_f(self, func):\n",
    "        if self.s1.is_empty() or self.s2.is_empty():\n",
    "            return self.s1.get_f(func) if self.s2.is_empty() else self.s2.get_f(func)\n",
    "        return self.fdict[func](self.s1.get_f(func), self.s2.get_f(func))\n",
    "    \n",
    "    def is_empty(self):\n",
    "        return self.s1.is_empty() and self.s2.is_empty()"
   ]
  },
  {
   "cell_type": "code",
   "execution_count": 19,
   "metadata": {},
   "outputs": [
    {
     "data": {
      "text/plain": [
       "-1"
      ]
     },
     "execution_count": 19,
     "metadata": {},
     "output_type": "execute_result"
    }
   ],
   "source": [
    "cq = CustomQueue({'min':(lambda x, y : x if x < y else y), 'max':(lambda x, y : x if x > y else y)})\n",
    "cq.add(1)\n",
    "cq.add(2)\n",
    "cq.add(6)\n",
    "#cq.add(-1)\n",
    "cq.remove()\n",
    "\n",
    "cq.get_f('min')"
   ]
  },
  {
   "cell_type": "markdown",
   "metadata": {},
   "source": [
    "## Stack using singly linked lists\n",
    "\n",
    "##### overcomes the issue of amortized o(1) time of pushing and popping of an array based stack, which is caused due to resizing"
   ]
  },
  {
   "cell_type": "code",
   "execution_count": 13,
   "metadata": {},
   "outputs": [],
   "source": [
    "class Empty(Exception):\n",
    "    \"\"\" To raise empty container exceptions\"\"\"\n",
    "    pass\n",
    "\n",
    "class linked_stack():\n",
    "    class _node(): #nested class for a node\n",
    "        __slots__ = '_data', '_next' #fixed amount of memory usage for each node\n",
    "        \n",
    "        def __init__(self, data, next):\n",
    "            self._data = data\n",
    "            self._next = next\n",
    "    \n",
    "    def __init__(self):\n",
    "        self._head = None\n",
    "        self._size = 0\n",
    "        \n",
    "    def __len__(self):\n",
    "        return self._size\n",
    "    \n",
    "    def is_empty(self):\n",
    "        return self._size == 0 \n",
    "    \n",
    "    def push(self, data):\n",
    "        self._head = self._node(data, self._head)\n",
    "        self._size += 1\n",
    "    \n",
    "    def top(self):\n",
    "        if self.is_empty():\n",
    "            raise Empty('Stack is empty')\n",
    "        return self._head._data\n",
    "    \n",
    "    def pop(self):\n",
    "        if self.is_empty():\n",
    "            raise Empty('Stack is empty, cannot pop element')\n",
    "        top = self._head._data\n",
    "        self._head = self._head._next\n",
    "        self._size -= 1\n",
    "        return top\n",
    "    \n",
    "    def display(self):\n",
    "        if self.is_empty():\n",
    "            raise Empty('No elements to display')\n",
    "        element = self._head\n",
    "        while element:\n",
    "            print(element._data)\n",
    "            element = element._next\n",
    "        "
   ]
  },
  {
   "cell_type": "markdown",
   "metadata": {},
   "source": [
    "## Queue using SLLs:\n",
    "##### to avoid amortized o(1) for push_front() and pop_rear()"
   ]
  },
  {
   "cell_type": "code",
   "execution_count": 14,
   "metadata": {},
   "outputs": [],
   "source": [
    "class linked_queue():\n",
    "    \n",
    "    class _node():\n",
    "        __slots__ = '_data', '_next' #fixed amount of memory usage for each node\n",
    "        \n",
    "        def __init__(self, data, next):\n",
    "            self._data = data\n",
    "            self._next = next\n",
    "    \n",
    "    def __init__(self):\n",
    "        ''' Create an empty queue '''\n",
    "        self._head = None\n",
    "        self._tail = None\n",
    "        self._size = 0\n",
    "        \n",
    "    def __len__(self):\n",
    "        return self._size\n",
    "    \n",
    "    def is_empty(self):\n",
    "        return self._size == 0\n",
    "\n",
    "    def front(self):\n",
    "        if self.is_empty():\n",
    "            raise Empty('Queue is empty')\n",
    "        return self._head._data\n",
    "    \n",
    "    def enq(self, data):\n",
    "        new_node = self._node(data, None)\n",
    "        if self.is_empty():\n",
    "            self._head = new_node\n",
    "        else:\n",
    "            self._tail._next = new_node\n",
    "        self._tail = new_node\n",
    "        self._size += 1\n",
    "    \n",
    "    def deq(self):\n",
    "        if self.is_empty():\n",
    "            raise Empty('Queue is empty')\n",
    "        front_element = self._head._data\n",
    "        self._head = self._head._next\n",
    "        self._size -= 1\n",
    "        if self.is_empty():\n",
    "            self._tail = None\n",
    "        return front_element\n",
    "    \n",
    "    def display(self):\n",
    "        if self.is_empty():\n",
    "            raise Empty('No elements to display')\n",
    "        element = self._head\n",
    "        while element:\n",
    "            print(element._data)\n",
    "            element = element._next"
   ]
  },
  {
   "cell_type": "markdown",
   "metadata": {},
   "source": [
    "## Circular queue\n",
    "##### especially for round robin scheduling"
   ]
  },
  {
   "cell_type": "code",
   "execution_count": 1,
   "metadata": {},
   "outputs": [],
   "source": [
    "class circular_queue():\n",
    "    class _node:\n",
    "            __slots__ = '_data', '_next' #fixed amount of memory usage for each node\n",
    "        \n",
    "            def __init__(self, data, next):\n",
    "                self._data = data\n",
    "                self._next = next\n",
    "            \n",
    "    def __init__(self):\n",
    "        self._tail = None        #only 1 reference for a circular q \n",
    "        self._size = 0\n",
    "        \n",
    "    def __len__(self):\n",
    "        return self._size\n",
    "    \n",
    "    def is_empty(self):\n",
    "        return self._size == 0\n",
    "\n",
    "    def front(self):\n",
    "        if self.is_empty():\n",
    "            raise Empty('Queue is empty')\n",
    "        return self._tail._next._data\n",
    "    \n",
    "    def enq(self, data):\n",
    "        new_element = self._node(data, None)\n",
    "        if self.is_empty():\n",
    "            new_element._next = new_element\n",
    "        else:\n",
    "            new_element._next = self._tail._next\n",
    "            self._tail._next = new_element\n",
    "        self._tail = new_element\n",
    "        self._size += 1\n",
    "        \n",
    "    def deq(self):\n",
    "        if self.is_empty():\n",
    "            raise Empty('Queue is empty')\n",
    "        oldhead = self._tail._next\n",
    "        if self._size == 1:\n",
    "            self._tail = None\n",
    "        else:\n",
    "            self._tail._next = oldhead._next\n",
    "        self._size -= 1\n",
    "        return oldhead._data\n",
    "            \n",
    "    \n",
    "    def display(self):\n",
    "        ptr = self._tail._next\n",
    "        while ptr is not self._tail:\n",
    "            print(ptr._data)\n",
    "            ptr = ptr._next\n",
    "        print(ptr._data)"
   ]
  },
  {
   "cell_type": "markdown",
   "metadata": {},
   "source": [
    "## Sparse tables\n",
    "##### for O(logn) ranged queries, O(1) for range minimum/maximum queries (for idempotent functions, o(1))"
   ]
  },
  {
   "cell_type": "code",
   "execution_count": 84,
   "metadata": {},
   "outputs": [],
   "source": [
    "''' \n",
    "every positive number can be represented as sum of powers of 2 (8-4-2-1 method).\n",
    "and so can be a range.\n",
    "for example -> f(arr[2,13]) can be represented as: (12 elements)\n",
    "f(arr[2,9]) U f(arr[10,13]), resulting in O(logn) time\n",
    "\n",
    "for overlapping/idempotent functions, such as minimum, maximum, we can have overlapping ranges, such as\n",
    "for example -> f(arr[2,13]) can be represented as: (12 elements)\n",
    "f(arr[2,9]) U f(arr[6,13]), resulting in O(1) time (considering only the highest power of 2 less than r)\n",
    "'''\n",
    "import math\n",
    "\n",
    "class SparseTable():\n",
    "    def __init__(self, arr):\n",
    "        self.arr = arr\n",
    "        self.max_size = len(arr)\n",
    "        self._build()\n",
    "        \n",
    "    def _build(self):                    #O(logn)\n",
    "        col_size = int(math.log2(self.max_size)) + 2\n",
    "        self.matrix = [[None] * col_size for i in range(self.max_size)]\n",
    "        for i in range(self.max_size):\n",
    "            self.matrix[i][0] = self.arr[i]\n",
    "        self.col_size = col_size   \n",
    "        for j in range(1, col_size+1):\n",
    "            i = 0\n",
    "            while i + (1 << j) <= self.max_size:              #matrix[i][j] = sum(arr[i]...arr[i + 2 ** j])\n",
    "                self.matrix[i][j] = self.matrix[i][j-1] + self.matrix[i + (1<<(j-1))][j-1]\n",
    "                i += 1\n",
    "    \n",
    "    def query(self, l, r):\n",
    "        sum = 0\n",
    "        while l <= r:\n",
    "            maxp2 = int(math.log2(r-l+1))\n",
    "            sum += self.matrix[l][maxp2]          #matrix[i][j] = sum(arr[i]...arr[i + 2 ** j])\n",
    "            l += (1 << maxp2)\n",
    "        return sum"
   ]
  },
  {
   "cell_type": "code",
   "execution_count": 85,
   "metadata": {},
   "outputs": [
    {
     "data": {
      "text/plain": [
       "55"
      ]
     },
     "execution_count": 85,
     "metadata": {},
     "output_type": "execute_result"
    }
   ],
   "source": [
    "s = SparseTable(list(range(1,int(1e5))))\n",
    "s.query(0,9)"
   ]
  },
  {
   "cell_type": "markdown",
   "metadata": {},
   "source": [
    "## Sparse Table (for idempotent functions such as minimum/maximum)"
   ]
  },
  {
   "cell_type": "code",
   "execution_count": 88,
   "metadata": {},
   "outputs": [],
   "source": [
    "import math\n",
    "\n",
    "class SparseIdempotent():     #minimum\n",
    "    def __init__(self, arr):\n",
    "        self.arr = arr\n",
    "        self.max_size = len(arr)\n",
    "        self._build()\n",
    "        \n",
    "    def _build(self):                    #O(logn)\n",
    "        col_size = int(math.log2(self.max_size)) + 2\n",
    "        self.matrix = [[None] * col_size for i in range(self.max_size)]\n",
    "        for i in range(self.max_size):\n",
    "            self.matrix[i][0] = self.arr[i]\n",
    "        self.col_size = col_size   \n",
    "        for j in range(1, col_size+1):\n",
    "            i = 0\n",
    "            while i + (1 << j) <= self.max_size:              #matrix[i][j] = min(arr[i]...arr[i + 2 ** j])\n",
    "                self.matrix[i][j] = min(self.matrix[i][j-1], self.matrix[i + (1<<(j-1))][j-1])\n",
    "                i += 1\n",
    "    \n",
    "    def query(self, l, r):\n",
    "        maxp2 = int(math.log2(r-l+1))\n",
    "        return min(self.matrix[l][maxp2], self.matrix[r - (1 << maxp2) + 1][maxp2])"
   ]
  },
  {
   "cell_type": "code",
   "execution_count": 99,
   "metadata": {},
   "outputs": [
    {
     "data": {
      "text/plain": [
       "2"
      ]
     },
     "execution_count": 99,
     "metadata": {},
     "output_type": "execute_result"
    }
   ],
   "source": [
    "s = SparseIdempotent([1,2,3,4,5,6])\n",
    "s.query(1,4)"
   ]
  },
  {
   "cell_type": "markdown",
   "metadata": {},
   "source": [
    "## Disjoint Sparse Table : \n",
    "##### For o(1) querying of both associative and idempotent functions\n",
    "\n",
    "#### https://discuss.codechef.com/t/tutorial-disjoint-sparse-table/17404"
   ]
  },
  {
   "cell_type": "code",
   "execution_count": null,
   "metadata": {},
   "outputs": [],
   "source": [
    " "
   ]
  }
 ],
 "metadata": {
  "kernelspec": {
   "display_name": "Python 3",
   "language": "python",
   "name": "python3"
  },
  "language_info": {
   "codemirror_mode": {
    "name": "ipython",
    "version": 3
   },
   "file_extension": ".py",
   "mimetype": "text/x-python",
   "name": "python",
   "nbconvert_exporter": "python",
   "pygments_lexer": "ipython3",
   "version": "3.9.0"
  }
 },
 "nbformat": 4,
 "nbformat_minor": 4
}
