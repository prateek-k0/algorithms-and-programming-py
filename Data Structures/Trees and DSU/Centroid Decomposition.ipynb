{
 "cells": [
  {
   "cell_type": "code",
   "execution_count": 4,
   "metadata": {},
   "outputs": [
    {
     "name": "stdout",
     "output_type": "stream",
     "text": [
      "10\n",
      "1 2\n",
      "2 3\n",
      "3 4\n",
      "4 5\n",
      "5 6\n",
      "6 7\n",
      "7 8\n",
      "8 9\n",
      "9 10\n"
     ]
    }
   ],
   "source": [
    "from collections import defaultdict as dd\n",
    "n = int(input())\n",
    "graph = dd(list)\n",
    "for _ in range(n-1):\n",
    "    u, v = [int(x) for x in input().split()]\n",
    "    graph[u-1].append(v-1)\n",
    "    graph[v-1].append(u-1)"
   ]
  },
  {
   "cell_type": "code",
   "execution_count": 7,
   "metadata": {},
   "outputs": [],
   "source": [
    "g2 = dd(list,\n",
    "            {0: [1],\n",
    "             1: [0, 2],\n",
    "             2: [1, 3],\n",
    "             3: [2, 4],\n",
    "             4: [3, 5],\n",
    "             5: [4, 6],\n",
    "             6: [5, 7],\n",
    "             7: [6, 8],\n",
    "             8: [7, 9],\n",
    "             9: [8]})"
   ]
  },
  {
   "cell_type": "code",
   "execution_count": 10,
   "metadata": {},
   "outputs": [
    {
     "data": {
      "text/plain": [
       "10"
      ]
     },
     "execution_count": 10,
     "metadata": {},
     "output_type": "execute_result"
    }
   ],
   "source": [
    "subtree_length = [1] * len(graph)\n",
    "def dfs(node, parent):\n",
    "    global subtree_length\n",
    "    for nei in graph[node]:\n",
    "        if not nei == parent:\n",
    "            subtree_length[node] += dfs(nei, node)\n",
    "    return subtree_length[node]\n",
    "dfs(0, -1)"
   ]
  },
  {
   "cell_type": "code",
   "execution_count": 15,
   "metadata": {},
   "outputs": [
    {
     "data": {
      "text/plain": [
       "9"
      ]
     },
     "execution_count": 15,
     "metadata": {},
     "output_type": "execute_result"
    }
   ],
   "source": [
    "def centroid(node, parent, length):\n",
    "    for nei in graph[node]:\n",
    "        if (not nei == parent) and (subtree_length[nei] > length / 2):\n",
    "            return centroid(nei, node, length)\n",
    "    return u\n",
    "centroid(0,-1, subtree_length[0])"
   ]
  },
  {
   "cell_type": "code",
   "execution_count": 13,
   "metadata": {},
   "outputs": [
    {
     "data": {
      "text/plain": [
       "0"
      ]
     },
     "execution_count": 13,
     "metadata": {},
     "output_type": "execute_result"
    }
   ],
   "source": []
  },
  {
   "cell_type": "code",
   "execution_count": null,
   "metadata": {},
   "outputs": [],
   "source": []
  }
 ],
 "metadata": {
  "kernelspec": {
   "display_name": "Python 3",
   "language": "python",
   "name": "python3"
  },
  "language_info": {
   "codemirror_mode": {
    "name": "ipython",
    "version": 3
   },
   "file_extension": ".py",
   "mimetype": "text/x-python",
   "name": "python",
   "nbconvert_exporter": "python",
   "pygments_lexer": "ipython3",
   "version": "3.9.0"
  }
 },
 "nbformat": 4,
 "nbformat_minor": 4
}
