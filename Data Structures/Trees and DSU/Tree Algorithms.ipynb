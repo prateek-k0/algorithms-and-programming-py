{
 "cells": [
  {
   "cell_type": "markdown",
   "metadata": {},
   "source": [
    "## DFS\n",
    "#### for stuff like euler tour, etc\n",
    "#### 2 versions : for a tree and for a graph"
   ]
  },
  {
   "cell_type": "code",
   "execution_count": 30,
   "metadata": {},
   "outputs": [],
   "source": [
    "def tree_dfs(graph):\n",
    "    dfs_ordering = []\n",
    "    def dfs(node, parent):     #we only have to check for parent, and not other visited nodes, because trees are acyclic\n",
    "        nonlocal graph, dfs_ordering\n",
    "        dfs_ordering.append(node)\n",
    "        for neighbour in graph[node]:\n",
    "            if not neighbour == parent:\n",
    "                dfs(neighbour, node)\n",
    "    dfs(0,-1)\n",
    "    return dfs_ordering\n",
    "\n",
    "def graph_dfs(graph):\n",
    "    dfs_ordering = []\n",
    "    visited = [False] * len(graph)\n",
    "    def dfs(node):\n",
    "        nonlocal visited, graph, dfs_ordering\n",
    "        dfs_ordering.append(node)\n",
    "        visited[node] = True\n",
    "        for neighbour in graph[node]:\n",
    "            if not visited[neighbour]:\n",
    "                dfs(neighbour)\n",
    "    dfs(0,-1)\n",
    "    return dfs_ordering"
   ]
  },
  {
   "cell_type": "markdown",
   "metadata": {},
   "source": [
    "## Codechef - RBTREES\n",
    "#### The solution is split in 2 parts:\n",
    "### 1.\n",
    "#### Coloring the nodes:   Now, first, we root the tree at node 0. Now, we have 2 options: the first is that the color of the root is red, and the rest are colored accordingly. The second is that the color of the root is blue. Now, we need to consider both options and find the minimum of them.  For each approach, we apply dfs to the tree to check if the color of the node in the given string is the desired color or not (DFS -> Bottom up Fashion). If the color is not the desired one, then we add the nodes color to its subtree. Hence, we form a \"BALANCE TREE\" for each node, which checks the balance of color in its subtree. For the tree rooted at 0, the balance should always be zero, otherwise, it is impossible to swap nodes for a balanced arrangements.\n",
    "\n",
    "### 2. \n",
    "#### Swapping the nodes: Now let us suppose that in a subtree, there are 2 nodes to be swapped. We find that the cost of swapping them is equal to the distance between those 2 nodes. This can be calculated using a variable to add the distance of each unbalanced node to the root of a subtree, until the node is balanced. (in this case, it is \"ans\")\n",
    "\n",
    "#### Then, we traverse the tree for both cases:(root = blue and root = red) and find the ans. If for both the cases, the tree is unbalanced at the root, then we would print -1, else, the minimum of the 2(oyt og those of which are valid only)."
   ]
  },
  {
   "cell_type": "code",
   "execution_count": null,
   "metadata": {},
   "outputs": [],
   "source": [
    "import sys\n",
    "sys.setrecursionlimit(int(1e5)+1)\n",
    "def solve(beginning_color):\n",
    "    global n\n",
    "    color_balance = [0] * n\n",
    "    ans = 0    #to store distance of unbakanced node, until its balanced out\n",
    "    def dfs(node, parent, color):\n",
    "        global string, graph\n",
    "        nonlocal color_balance, ans\n",
    "        if not color == string[node]:\n",
    "            color_balance[node] += string[node]\n",
    "        for nei in graph[node]:\n",
    "            if not (nei == parent):\n",
    "                dfs(nei, node, color*(-1))\n",
    "                color_balance[node] += color_balance[nei]\n",
    "                ans += abs(color_balance[nei])\n",
    "                \n",
    "    dfs(0,-1,beginning_color)\n",
    "    if color_balance[0]:\n",
    "        return 1e9\n",
    "    return ans\n",
    "    \n",
    "for _ in range(int(input())):\n",
    "    n = int(input())\n",
    "    graph = [[] for _ in range(n)]\n",
    "    for _ in range(n-1):\n",
    "        u, v = [int(x) for x in input().split()]\n",
    "        graph[u-1].append(v-1)\n",
    "        graph[v-1].append(u-1)\n",
    "    string = [1 if x == '1' else -1 for x in list(input())]\n",
    "    a1, a2 = solve(1), solve(-1)   #both the cases\n",
    "    ans = min(a1, a2)\n",
    "    if ans == 1e9:\n",
    "        print(-1)\n",
    "        continue\n",
    "    print(ans)"
   ]
  },
  {
   "cell_type": "markdown",
   "metadata": {},
   "source": [
    "## Codechef - COV2TREE\n",
    "\n",
    "#### Solution : We maintain a stack (node_stack in the following code) for storing the node path of the DFS, ie, at any point in the DFS, during the visit of a node, the stack contains all the ancestors of the node. "
   ]
  },
  {
   "cell_type": "code",
   "execution_count": 1,
   "metadata": {},
   "outputs": [
    {
     "name": "stdout",
     "output_type": "stream",
     "text": [
      "0\n"
     ]
    }
   ],
   "source": [
    "from collections import defaultdict as dd\n",
    "from math import sqrt\n",
    "\n",
    "def prep():\n",
    "    global cache\n",
    "    cache = [dd(int) for _ in range(501)]\n",
    "    for i in range(1, 501):\n",
    "        for j in range(1, 501):\n",
    "            s = sqrt(i*j)\n",
    "            if s == int(s):\n",
    "                cache[i][j] = True\n",
    "                cache[j][i] = True\n",
    "                \n",
    "def check():\n",
    "    global node_stack, cache\n",
    "    lv = node_stack[-1]\n",
    "    count, min_depth = 0, 1e9\n",
    "    for i in range(len(node_stack)-1):\n",
    "        if cache[lv][node_stack[i]] == True:\n",
    "            count += 1 \n",
    "            depth = len(node_stack)-i-1\n",
    "            min_depth = min(min_depth, depth)\n",
    "    return count, min_depth\n",
    "\n",
    "def dfs(node, parent):\n",
    "    global node_stack, ans, min_dist, visited, graph, value\n",
    "    node_stack.append(value[node])    #stack for storing the ancestors\n",
    "    visited[node] = True\n",
    "    if len(node_stack) > 1:\n",
    "        count, min_depth = check()\n",
    "        if count:\n",
    "            ans += count\n",
    "            min_dist = min(min_dist, min_depth)\n",
    "    for nei in graph[node]:\n",
    "        if not visited[nei]:\n",
    "            dfs(nei, node)\n",
    "    _ = node_stack.pop()   #the node and the subtree is completely visited\n",
    "\n",
    "prep()\n",
    "for _ in range(int(input())):\n",
    "    n = int(input())\n",
    "    graph = [[] for _ in range(n)]\n",
    "    node_stack = []\n",
    "    ans = 0\n",
    "    min_dist = 1e9\n",
    "    visited = [False] * len(graph)\n",
    "    value = [int(x) for x in input().split()]\n",
    "    for _ in range(n-1):\n",
    "        u, v = [int(x) for x in input().split()]\n",
    "        graph[u-1].append(v-1)\n",
    "        graph[v-1].append(u-1)\n",
    "    dfs(0,-1)\n",
    "    if ans:\n",
    "        print(ans, min_dist, sep = ' ')\n",
    "    else:\n",
    "        print(0)"
   ]
  },
  {
   "cell_type": "markdown",
   "metadata": {},
   "source": [
    "## BFS \n",
    "### Q. to find the level of each node in a tree"
   ]
  },
  {
   "cell_type": "code",
   "execution_count": 5,
   "metadata": {},
   "outputs": [],
   "source": [
    "def bfs():\n",
    "    global adj_list, val, hei\n",
    "    for node, level in val:\n",
    "        hei[node] = level\n",
    "        for nei in adj_list[node]:\n",
    "            if not hei[nei]:\n",
    "                val.append((nei, level+1))"
   ]
  },
  {
   "cell_type": "markdown",
   "metadata": {},
   "source": [
    "### Q. to find minimum cost of travelling from origin to *, given each cell contains the directions in which cells to go, if those directions are not follwed, the cost is increased by 1. else, the cost remains the same as the current cost\n",
    "### For ex, for row_size = 2, and col_size = 3 and the following grid:\n",
    "#### UDL\n",
    "#### RR*  \n",
    "### The result is 1(we start by going down(cost += 1, since the starting is U (up)),  then gor right (no change in cost), again go right(cost is the same), and reach the destination"
   ]
  },
  {
   "cell_type": "code",
   "execution_count": 18,
   "metadata": {},
   "outputs": [
    {
     "name": "stdout",
     "output_type": "stream",
     "text": [
      "2 3 0\n",
      "UDL\n",
      "RR*\n"
     ]
    },
    {
     "data": {
      "text/plain": [
       "1"
      ]
     },
     "execution_count": 18,
     "metadata": {},
     "output_type": "execute_result"
    }
   ],
   "source": [
    "from collections import deque\n",
    "\n",
    "def bfs(source):\n",
    "    global grid,n,m\n",
    "    visited = [[False]*m for _ in range(n)]\n",
    "    visited[source[0]][source[1]] = True\n",
    "    q = deque()\n",
    "    q.append((source[0],source[1],0))\n",
    "    while len(q):\n",
    "        row, col, cost = q.popleft()\n",
    "        d = {'D':[row+1,col,cost+1],'R':[row,col+1,cost+1],'U':[row-1,col,cost+1],'L':[row,col-1,cost+1]}\n",
    "        d[grid[row][col]][2] = cost \n",
    "        for i in d:\n",
    "            if (0 <= d[i][0] < n) and (0 <= d[i][1] < m) and (not visited[d[i][0]][d[i][1]]):\n",
    "                if grid[d[i][0]][d[i][1]] == '*':\n",
    "                    return d[i][2]\n",
    "                visited[d[i][0]][d[i][1]] = True\n",
    "                q.append(d[i])\n",
    "                \n",
    "n, m= [int(x) for x in input().split()]\n",
    "grid = []\n",
    "for _ in range(n):\n",
    "    grid.append(list(input()))\n",
    "print(bfs((0,0)))"
   ]
  },
  {
   "cell_type": "markdown",
   "metadata": {},
   "source": [
    "## Multi - source BFS\n",
    "#### useful for finding stuff like shortest root - leaf path, shortest / longest leaf - leaf path, etc\n",
    "#### we push into queue all the sources and continue like normal BFS\n",
    "#### one way implement is to use a dummy node that is connected to all the source nodes and implement BFS\n",
    "#### below is the algorithm to find the length of shortest leaf-leaf path, for which the sources are all the leaf nodes.\n",
    "\n",
    "### Q. Find shortest leaf - leaf path"
   ]
  },
  {
   "cell_type": "code",
   "execution_count": 4,
   "metadata": {},
   "outputs": [
    {
     "name": "stdout",
     "output_type": "stream",
     "text": [
      "3\n"
     ]
    }
   ],
   "source": [
    "'''\n",
    "origin -> keeps track of the nearest source (ie, the leaf node in this case) from itself\n",
    "path_len -> keeps track of distance to the nearest source (stored in origin)\n",
    "visited -> yo normal node visit array\n",
    "'''\n",
    "def ms_bfs(sources):\n",
    "    global visited, origin, graph\n",
    "    path_len = [0] * len(graph)\n",
    "    minimum = 1e10\n",
    "    \n",
    "    for i in sources:\n",
    "        visited[i] = True\n",
    "        path_len[i] = 1\n",
    "        origin[i] = i\n",
    "    #actual bfs\n",
    "    for node in sources:\n",
    "        for nei in graph[node]:\n",
    "            if not visited[nei]:\n",
    "                path_len[nei] = path_len[node] + 1\n",
    "                visited[nei] = True\n",
    "                origin[nei] = origin[node]\n",
    "                sources.append(nei)\n",
    "            else:   #already visited, check if it is the minimum path\n",
    "                if not origin[nei] == origin[node]:   #check if nei is the previous node to the current node(nei -> node)\n",
    "                    minimum = min(minimum, path_len[nei]+path_len[node])\n",
    "                    \n",
    "    return minimum\n",
    "\n",
    "graph = [[1, 4, 6], [0, 2, 3], [1], [1], [0, 5], [4], [0, 7, 8], [6, 9], [6], [7]]\n",
    "''''\n",
    "n = int(input())\n",
    "graph = [[] for _ in range(n)]\n",
    "for _ in range(n-1):\n",
    "    u, v = [int(x) for x in input().split()]\n",
    "    graph[u-1].append(v-1)\n",
    "    graph[v-1].append(u-1)\n",
    "'''   \n",
    "sources = []\n",
    "visited = [False] * len(graph) \n",
    "origin = [False] * len(graph) \n",
    "for node in range(len(graph)):\n",
    "    if len(graph[node]) == 1:   #ie, if the node is a leaf node\n",
    "        sources.append(node)\n",
    "print(ms_bfs(sources))"
   ]
  },
  {
   "cell_type": "markdown",
   "metadata": {},
   "source": [
    "## Different approach:"
   ]
  },
  {
   "cell_type": "code",
   "execution_count": 3,
   "metadata": {},
   "outputs": [
    {
     "name": "stdout",
     "output_type": "stream",
     "text": [
      "(3, [2, 3])\n"
     ]
    }
   ],
   "source": [
    "'''\n",
    "seen -> for nodes that are approached, but yet to be visited\n",
    "path_len -> keeps track of distance to the nearest source (stored in origin)\n",
    "visited -> yo normal node visit array\n",
    "'''\n",
    "def ms_bfs2(sources):\n",
    "    global parent, graph\n",
    "    path_len = [0] * len(graph)   \n",
    "    visited = [False] * len(graph) \n",
    "    seen = [False] * len(graph)\n",
    "    for i in sources:\n",
    "        path_len[i] = 1\n",
    "        parent[i] = i\n",
    "    global_min = 1e10\n",
    "    path_source_dest = []\n",
    "    #actual_bfs\n",
    "    for node in sources:\n",
    "        visited[node] = True\n",
    "        for nei in graph[node]:\n",
    "            if not visited[nei]:\n",
    "                if not seen[nei]:\n",
    "                    path_len[nei] = path_len[node] + 1\n",
    "                    parent[nei] = parent[node]\n",
    "                    seen[nei] = True\n",
    "                    sources.append(nei)\n",
    "                else:\n",
    "                    if path_len[nei] + path_len[node] < global_min:\n",
    "                        global_min = path_len[nei] + path_len[node]\n",
    "                        path_source_dest = [parent[nei], parent[node]]\n",
    "    return global_min, path_source_dest\n",
    "\n",
    "graph = [[1, 4, 6], [0, 2, 3], [1], [1], [0, 5], [4], [0, 7, 8], [6, 9], [6], [7]]\n",
    "#graph = [[1],[0]]\n",
    "sources = []\n",
    "parent = [False] * len(graph) \n",
    "for node in range(len(graph)):\n",
    "    if len(graph[node]) == 1:   #ie, if the node is a leaf node\n",
    "        sources.append(node)\n",
    "print(ms_bfs2(sources))"
   ]
  },
  {
   "cell_type": "markdown",
   "metadata": {},
   "source": [
    "### Q. Find the shortest path from A to B in the given grid:\n",
    "#### 000000000\n",
    "#### 0AAA00000\n",
    "#### 0AA000000\n",
    "#### 0AAA00000\n",
    "#### 000000000\n",
    "#### 000000000\n",
    "#### 000000B00\n",
    "#### 00000BBB0\n",
    "#### 00000BBBB"
   ]
  },
  {
   "cell_type": "markdown",
   "metadata": {},
   "source": [
    "### For this, we put all A's as the source and use multi-source BFS, and traverse all directions"
   ]
  },
  {
   "cell_type": "code",
   "execution_count": 13,
   "metadata": {},
   "outputs": [
    {
     "name": "stdout",
     "output_type": "stream",
     "text": [
      "6\n"
     ]
    }
   ],
   "source": [
    "from collections import deque\n",
    "from itertools import product\n",
    "def min_dist():\n",
    "    global grid, m, n\n",
    "    visited = [[False] * n for _ in range(m)]\n",
    "    distance = [[None] * n for _ in range(m)]\n",
    "    q = deque()\n",
    "    for row, col in product(range(m), range(n)):\n",
    "        if grid[row][col] == 'A':\n",
    "            q.append((row, col))\n",
    "            visited[row][col] = True\n",
    "            distance[row][col] = 0\n",
    "    while len(q):\n",
    "        r, c = q.popleft()\n",
    "        for row, col in ((r+1,c), (r-1,c), (r,c+1), (r,c-1)): #all directions\n",
    "            if (0 <= row < m) and (0 <= col < n) and (not visited[row][col]):\n",
    "                distance[row][col] = distance[r][c] + 1\n",
    "                if grid[row][col] == 'B':\n",
    "                    return distance[row][col]\n",
    "                visited[row][col] = True\n",
    "                q.append((row, col))\n",
    "            \n",
    "            \n",
    "grid = [list('000000000'),list('0AAA00000'),list('0AA000000'),list('0AAA00000'),list('000000000'),\n",
    "       list('000000000'),list('000000B00'),list('00000BBB0'),list('00000BBBB')]\n",
    "m,n = 9, 9   #matrix size\n",
    "print(min_dist())"
   ]
  },
  {
   "cell_type": "markdown",
   "metadata": {},
   "source": [
    "## To find minimum related subrgraph nodes containing a given set of nodes in a tree\n",
    "### Like Steiner tree\n",
    "\n",
    "### Sol : We use the terminal nodes (nodes to be necesarrily included in the subgraph) as the source nodes and initiate a multi_source BFS. We also keep track of all the nodes between each terminal node, which are to be included in the graph."
   ]
  },
  {
   "cell_type": "code",
   "execution_count": 13,
   "metadata": {},
   "outputs": [],
   "source": [
    "''' \n",
    "path -> list that contains all the nodes from its nearest origin till the node itself.\n",
    "paint -> contains all the nodes in the graph to be included in the subgraph\n",
    "origin -> keeps track of the nearest source (ie, the leaf node in this case) from itself\n",
    "'''\n",
    "def ms_bfs(sources):\n",
    "    \n",
    "    global graph, origin, visited\n",
    "    visited = [False] * len(graph)\n",
    "    origin = [None] * len(graph)\n",
    "    path = [None] * len(graph)\n",
    "    paint = set()\n",
    "    \n",
    "    for i in sources:\n",
    "        origin[i] = i\n",
    "        path[i] = [i]\n",
    "        visited[i] = True\n",
    "        paint.add(i)\n",
    "        \n",
    "    q = sources\n",
    "    for node in q:\n",
    "        for nei in graph[node]:\n",
    "            if not visited[nei]:\n",
    "                origin[nei] = origin[node]\n",
    "                visited[nei] = True\n",
    "                path[nei] = [nei] + path[node]\n",
    "                q.append(nei)\n",
    "            else:\n",
    "                if not origin[nei] == origin[node]:\n",
    "                    paint = paint.union(path[nei])\n",
    "                    paint = paint.union(path[node])\n",
    "    return paint"
   ]
  },
  {
   "cell_type": "code",
   "execution_count": 14,
   "metadata": {},
   "outputs": [
    {
     "data": {
      "text/plain": [
       "{0, 1, 2, 4, 7, 8, 10, 11, 12}"
      ]
     },
     "execution_count": 14,
     "metadata": {},
     "output_type": "execute_result"
    }
   ],
   "source": [
    "graph = [[1, 2], [0, 4, 5], [0, 3, 6, 7], [2], [1, 8], [1, 9], [2], [2, 11, 12], [4, 10], [5], [8], [7], [7]]\n",
    "sources = [8,11,12,10]\n",
    "ms_bfs(sources)\n",
    "#{0, 1, 2, 4, 7, 8, 10, 11, 12}"
   ]
  },
  {
   "cell_type": "markdown",
   "metadata": {},
   "source": [
    "## Minimum related subgraph -> different approach - using seen and visited(faster)"
   ]
  },
  {
   "cell_type": "code",
   "execution_count": 7,
   "metadata": {},
   "outputs": [],
   "source": [
    "'''\n",
    "seen -> keeps track of which of the nodes are discovered, but not yet visited\n",
    "sources_joined -> a counter for the no. of sources joined in the subgraph, initially, it is equal to no. of sources - 1\n",
    "sources_joined helps with pruning. It cuts down amortized times, but the worst case still remains the same (O(n))\n",
    "this version is faster than the previous version, even without the 'sources_joined' variable.\n",
    "'''\n",
    "from collections import defaultdict as dd\n",
    "def ms_bfs_x(sources):    #o(n)\n",
    "    \n",
    "    global graph, path, visited, seen\n",
    "    visited = [False] * len(graph)\n",
    "    seen = [False] * len(graph)\n",
    "    path = dd(list)\n",
    "    paint = set()\n",
    "    sources_joined = len(sources) - 1     \n",
    "    \n",
    "    for i in sources:\n",
    "        seen[i] = True\n",
    "        path[i].append(i)\n",
    "        paint.add(i)\n",
    "    \n",
    "    q = sources\n",
    "    for node in q:\n",
    "        visited[node] = True\n",
    "        if not sources_joined:  #if all sources are included in the subgraph, then stop\n",
    "            break\n",
    "        for neighbour in graph[node]:\n",
    "            if not visited[neighbour]:\n",
    "                if not seen[neighbour]:    #undiscovered:\n",
    "                    seen[neighbour] = True\n",
    "                    path[neighbour] = path[node] + [neighbour]\n",
    "                    q.append(neighbour)\n",
    "                else:    #discovered by some other source\n",
    "                    paint = paint.union(path[node])   #add nodes in the to-be-painted set\n",
    "                    paint = paint.union(path[neighbour])\n",
    "                    sources_joined -= 1  #decreament sources\n",
    "                    \n",
    "    return paint"
   ]
  },
  {
   "cell_type": "code",
   "execution_count": 8,
   "metadata": {},
   "outputs": [
    {
     "data": {
      "text/plain": [
       "{0, 1, 2, 4, 7, 8, 10, 11, 12}"
      ]
     },
     "execution_count": 8,
     "metadata": {},
     "output_type": "execute_result"
    }
   ],
   "source": [
    "#graph = dd(list)\n",
    "graph = [[1, 2], [0, 4, 5], [0, 3, 6, 7], [2], [1, 8], [1, 9], [2], [2, 11, 12], [4, 10], [5], [8], [7], [7]]\n",
    "sources = [8,11,12,10]\n",
    "ms_bfs_x(sources)"
   ]
  },
  {
   "cell_type": "code",
   "execution_count": null,
   "metadata": {},
   "outputs": [],
   "source": []
  }
 ],
 "metadata": {
  "kernelspec": {
   "display_name": "Python 3",
   "language": "python",
   "name": "python3"
  },
  "language_info": {
   "codemirror_mode": {
    "name": "ipython",
    "version": 3
   },
   "file_extension": ".py",
   "mimetype": "text/x-python",
   "name": "python",
   "nbconvert_exporter": "python",
   "pygments_lexer": "ipython3",
   "version": "3.9.0"
  }
 },
 "nbformat": 4,
 "nbformat_minor": 4
}
