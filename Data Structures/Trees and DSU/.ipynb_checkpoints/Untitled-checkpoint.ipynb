{
 "cells": [
  {
   "cell_type": "code",
   "execution_count": 2,
   "metadata": {},
   "outputs": [],
   "source": [
    "class SegmentTree():   \n",
    "    \n",
    "    def __init__(self, arr, func, fid=0):\n",
    "        self.func = func\n",
    "        self.tree = None\n",
    "        self.f_identity = fid\n",
    "        self.length = len(arr)\n",
    "        self._build_tree(arr)\n",
    "        \n",
    "    def _build_tree(self, arr):            # o(n)\n",
    "        self.tree = [None]*(self.length - 1) + arr\n",
    "        for i in range(self.length-2, -1, -1):\n",
    "            self.tree[i] = self.func(self.tree[2*i+1], self.tree[2*i+2])\n",
    "            \n",
    "    def update(self, index, value):         # o(logn)\n",
    "        index += (self.length - 1)\n",
    "        self.tree[index] = value   #updating the leaf node\n",
    "        while (index := ((index-1)//2)) >= 0:   #updating upper nodes\n",
    "            updated_internal_node_val = self.func(self.tree[2*index+1], self.tree[2*index+2])\n",
    "            if updated_internal_node_val != self.tree[index]:\n",
    "                self.tree[index] = updated_internal_node_val\n",
    "            else: \n",
    "                break\n",
    "\n",
    "    def query(self, l, r):                   # O(logn)\n",
    "        if l < 0 or r >= self.length:\n",
    "            return None\n",
    "        l += (self.length - 1)\n",
    "        r += (self.length - 1)\n",
    "        res = self.f_identity\n",
    "        \n",
    "        while r >= l:   \n",
    "            \n",
    "            if not (l & 1) :     #if l is a right node(even indexed in the tree), then add to the result and increament l\n",
    "                res = self.func(res, self.tree[l])   #changed ordering of the arguments for non commutative combiner functions\n",
    "                l += 1\n",
    "                \n",
    "            if (r & 1) == 1 :      #if r is left child (odd indexed in the tree), then add to the result and decreament r\n",
    "                res = self.func(self.tree[r], res)\n",
    "                r -= 1\n",
    "            \n",
    "            r = (r-1) // 2\n",
    "            l = (l-1) // 2 \n",
    "            \n",
    "        return res\n",
    "       "
   ]
  },
  {
   "cell_type": "code",
   "execution_count": 23,
   "metadata": {},
   "outputs": [],
   "source": [
    "from collections import defaultdict as dd\n",
    "import sys\n",
    "#input = sys.stdin.readline\n",
    "\n",
    "import math\n",
    "class sgtx():\n",
    "    @staticmethod\n",
    "    def ceilp2(a):   #ceil power of 2\n",
    "        return 2 ** math.ceil(math.log2(a))\n",
    "    \n",
    "    def __init__(self, arr, func = lambda x, y : x + y, fid = 0):\n",
    "        self.func = func \n",
    "        self.fid = fid\n",
    "        self.lazy = dd(lambda : [False, self.fid])\n",
    "        self.range = dd(list)\n",
    "        self._build_tree(arr)\n",
    "        \n",
    "    def _build_tree(self, arr):          # O(n)\n",
    "        arr += [self.fid] * (sgtx.ceilp2(len(arr)) - len(arr))\n",
    "        self.tree = [self.fid] * (len(arr)-1) + arr\n",
    "        self.length = len(arr)\n",
    "        for i in range(self.length-1, len(self.tree)):\n",
    "            self.range[i] = [i-self.length+1, i-self.length+1]\n",
    "        for i in range(self.length-2, -1, -1):\n",
    "            self.tree[i] = self.func(self.tree[2*i+1], self.tree[2*i+2])\n",
    "            self.range[i] = [self.range[2*i+1][0], self.range[2*i+2][1]]\n",
    "            \n",
    "    def propagate_up(self, index):       # O(logn)\n",
    "        if self.lazy[index][0]:\n",
    "            self.tree[index] += (self.lazy[index][1]*(self.range[index][1]-self.range[index][0]+1))\n",
    "            while (index := (index-1)//2) >= 0:\n",
    "                self.propagate_down(index)\n",
    "                self.tree[index] = self.func(self.tree[2*index+1], self.tree[2*index+2])\n",
    "    \n",
    "    def propagate_down(self, index):       # O(1)\n",
    "        if not self.is_leaf(index):\n",
    "            left_child, right_child = 2*index+1, 2*index+2\n",
    "            left_val = self.lazy[index][1]*(self.range[left_child][1]-self.range[left_child][0]+1)\n",
    "            right_val = self.lazy[index][1]*(self.range[right_child][1]-self.range[right_child][0]+1)\n",
    "            original_val = self.lazy[index][1]\n",
    "            #self.tree[left_child] = self.func(self.tree[left_child], left_val)\n",
    "            self.tree[left_child] += left_val\n",
    "            self.pass_down(left_child, original_val)\n",
    "            #self.tree[right_child] = self.func(self.tree[right_child], right_val)\n",
    "            self.tree[right_child] += right_val\n",
    "            self.pass_down(right_child, original_val)\n",
    "        self.lazy[index][0], self.lazy[index][1] = False, self.fid\n",
    "        \n",
    "    def pass_down(self, child_node, val):\n",
    "        self.lazy[child_node][0] = True\n",
    "        self.lazy[child_node][1] += val\n",
    "    \n",
    "    def point_update(self, ):\n",
    "        pass\n",
    "    \n",
    "    def range_update(self, l, r, val):    #O(logn ^ 2)\n",
    "        if l < 0 or r >= self.length:\n",
    "            return None\n",
    "        l += (self.length - 1)\n",
    "        r += (self.length - 1)\n",
    "        while r >= l:\n",
    "            if not (l & 1):               # l is the right child to some parent (even indexed in the tree)\n",
    "                self.lazy[l][0] = True\n",
    "                self.lazy[l][1] += val\n",
    "                self.propagate_up(l)      #propagate the update to the top (O(logn))\n",
    "                l += 1\n",
    "            if r & 1 :                    # r is the left child to some parent (odd indexed in the tree)\n",
    "                self.lazy[r][0] = True\n",
    "                self.lazy[r][1] += val\n",
    "                self.propagate_up(r)      #propagate the update to the top (O(logn))\n",
    "                r -= 1\n",
    "            l = (l-1) // 2                # move l and r to their parents\n",
    "            r = (r-1) // 2\n",
    "        \n",
    "    def query(self, l, r):\n",
    "        return self._query_util(l, r, [0,self.length-1], 0)\n",
    "            \n",
    "    def _query_util(self, l, r, el_range, index):            # O(logn)\n",
    "        if l > r:\n",
    "            return self.fid\n",
    "        if el_range[0] == l and el_range[1] == r:\n",
    "            return self.tree[index]\n",
    "        if self.lazy[index][0]:    #push updates downwards\n",
    "            self.propagate_down(index)\n",
    "        mid = (el_range[0]+el_range[1])//2\n",
    "        return self.func(self._query_util(l, min(r, mid),  [el_range[0], mid], index*2+1),\n",
    "                self._query_util(max(l, mid+1), r, [mid+1, el_range[1]], index*2+2))\n",
    "        \n",
    "    def is_leaf(self, index):\n",
    "        return self.range[index][0] == self.range[index][1]\n",
    "    \n",
    "bs = sgtx([1]*16)\n",
    "bs.range_update(4,10,1)\n",
    "bs.range_update(8,13,1)"
   ]
  },
  {
   "cell_type": "code",
   "execution_count": 24,
   "metadata": {},
   "outputs": [
    {
     "data": {
      "text/plain": [
       "15"
      ]
     },
     "execution_count": 24,
     "metadata": {},
     "output_type": "execute_result"
    }
   ],
   "source": [
    "bs.query(7,12)"
   ]
  },
  {
   "cell_type": "markdown",
   "metadata": {},
   "source": [
    "## Assignment modifications, sum queries"
   ]
  },
  {
   "cell_type": "code",
   "execution_count": 15,
   "metadata": {},
   "outputs": [
    {
     "data": {
      "text/plain": [
       "[8, 4, 4, 2, 2, 2, 2, 1, 1, 1, 1, 1, 1, 1, 1]"
      ]
     },
     "execution_count": 15,
     "metadata": {},
     "output_type": "execute_result"
    }
   ],
   "source": [
    "from collections import defaultdict as dd\n",
    "import math\n",
    "import sys\n",
    "#input = sys.stdin.readline\n",
    "\n",
    "class sgtx():\n",
    "    @staticmethod\n",
    "    def ceilp2(a):   #ceil power of 2\n",
    "        return 2 ** math.ceil(math.log2(a))\n",
    "    \n",
    "    def __init__(self, arr, func = lambda x, y : x + y, fid = 0):\n",
    "        self.func = func \n",
    "        self.fid = fid\n",
    "        self.lazy = dd(lambda : [False, self.fid])\n",
    "        self.range = dd(list)\n",
    "        self._build_tree(arr)\n",
    "        \n",
    "    def _build_tree(self, arr):          # O(n)\n",
    "        arr += [self.fid] * (sgtx.ceilp2(len(arr)) - len(arr))\n",
    "        self.tree = [self.fid] * (len(arr)-1) + arr\n",
    "        self.length = len(arr)\n",
    "        for i in range(self.length-1, len(self.tree)):\n",
    "            self.range[i] = [i-self.length+1, i-self.length+1]\n",
    "        for i in range(self.length-2, -1, -1):\n",
    "            self.tree[i] = self.func(self.tree[2*i+1], self.tree[2*i+2])\n",
    "            self.range[i] = [self.range[2*i+1][0], self.range[2*i+2][1]]\n",
    "            \n",
    "    def propagate_up(self, index):           # O(logn)\n",
    "        if self.lazy[index][0]:\n",
    "            self.tree[index] = (self.lazy[index][1]*(self.range[index][1]-self.range[index][0]+1))\n",
    "            while (index := (index-1)//2) >= 0:\n",
    "                if self.lazy[index][0]:\n",
    "                    self.propagate_down(index)\n",
    "                self.tree[index] = self.func(self.tree[2*index+1], self.tree[2*index+2])\n",
    "    \n",
    "    def propagate_down(self, index):       # O(1)\n",
    "        if not self.is_leaf(index):\n",
    "            left_child, right_child = 2*index+1, 2*index+2\n",
    "            val = self.lazy[index][1]*(self.range[left_child][1]-self.range[left_child][0]+1)\n",
    "            original_val = self.lazy[index][1]\n",
    "            self.tree[left_child] = val\n",
    "            self.apply_lazy(left_child, original_val)\n",
    "            self.tree[right_child] = val\n",
    "            self.apply_lazy(right_child, original_val)\n",
    "        self.lazy[index][0], self.lazy[index][1] = False, self.fid\n",
    "        \n",
    "    def apply_lazy(self, child_node, val):\n",
    "        self.lazy[child_node][0] = True\n",
    "        self.lazy[child_node][1] = val\n",
    "    \n",
    "    def range_update(self, l, r, val):    #O(logn ^ 2)\n",
    "        if l < 0 or r >= self.length:\n",
    "            return None\n",
    "        l += (self.length - 1)\n",
    "        r += (self.length - 1)\n",
    "        while r >= l:\n",
    "            if not (l & 1):               # l is the right child to some parent (even indexed in the tree)\n",
    "                self.apply_lazy(l, val)\n",
    "                self.propagate_up(l)      # propagate the update to the top (O(logn))\n",
    "                l += 1\n",
    "            if r & 1 :                    # r is the left child to some parent (odd indexed in the tree)\n",
    "                self.apply_lazy(r, val)\n",
    "                self.propagate_up(r)      #propagate the update to the top (O(logn))\n",
    "                r -= 1\n",
    "            l = (l-1) // 2                # move l and r to their parents\n",
    "            r = (r-1) // 2\n",
    "    \n",
    "    def is_leaf(self, index):\n",
    "        return self.range[index][0] == self.range[index][1]\n",
    "    \n",
    "    def query(self, l, r):\n",
    "        return self._query_util(l, r, [0,self.length-1], 0)\n",
    "            \n",
    "    def _query_util(self, l, r, el_range, index):            # O(logn)\n",
    "        if l > r:\n",
    "            return self.fid\n",
    "        if el_range[0] == l and el_range[1] == r:\n",
    "            return self.tree[index]\n",
    "        if self.lazy[index][0]:    #push updates downwards\n",
    "            self.propagate_down(index)\n",
    "        mid = (el_range[0]+el_range[1])//2\n",
    "        return self.func(self._query_util(l, min(r, mid),  [el_range[0], mid], index*2+1),\n",
    "                self._query_util(max(l, mid+1), r, [mid+1, el_range[1]], index*2+2))\n",
    "    \n",
    "bs = sgtx([1]*8)\n",
    "bs.tree"
   ]
  },
  {
   "cell_type": "code",
   "execution_count": 16,
   "metadata": {},
   "outputs": [
    {
     "data": {
      "text/plain": [
       "[8, 4, 4, 2, 2, 2, 2, 1, 1, 1, 1, 1, 1, 1, 1]"
      ]
     },
     "execution_count": 16,
     "metadata": {},
     "output_type": "execute_result"
    }
   ],
   "source": [
    "bs.range_update(2,5,1)\n",
    "bs.tree\n",
    "#bs.query(4, 6)"
   ]
  },
  {
   "cell_type": "code",
   "execution_count": 17,
   "metadata": {},
   "outputs": [
    {
     "data": {
      "text/plain": [
       "[8, 4, 4, 2, 2, 2, 2, 1, 1, 1, 1, 1, 1, 1, 1]"
      ]
     },
     "execution_count": 17,
     "metadata": {},
     "output_type": "execute_result"
    }
   ],
   "source": [
    "bs.query(3,6)\n",
    "bs.tree"
   ]
  },
  {
   "cell_type": "code",
   "execution_count": 30,
   "metadata": {},
   "outputs": [],
   "source": [
    "class flattened_subtree_queries():\n",
    "    def __init__(self, graph, values, root = 0):\n",
    "        self.n = len(graph)\n",
    "        self.entry = [None] * self.n\n",
    "        self.exit = [None] * self.n\n",
    "        self.values = values\n",
    "        timer = 0\n",
    "        self.flattened_arr = []\n",
    "        def dfs(u, p):\n",
    "            nonlocal graph, timer, self\n",
    "            self.entry[u] = timer\n",
    "            self.flattened_arr.append(self.values[u])\n",
    "            timer += 1\n",
    "            for v in graph[u]:\n",
    "                if not v == p:\n",
    "                    dfs(v, u)\n",
    "            self.exit[u] = timer - 1\n",
    "            \n",
    "        dfs(root, -1)\n",
    "        #print(self.flattened_arr)\n",
    "        self.sgt = sgtx(self.flattened_arr)\n",
    "        \n",
    "    def subtree_update(self, node, value):\n",
    "        self.sgt.range_update(self.entry[node]+1, self.exit[node], value)\n",
    "    \n",
    "    def subtree_query(self, node):\n",
    "        return self.sgt.query(self.entry[node]+1, self.exit[node])\n",
    "        "
   ]
  },
  {
   "cell_type": "code",
   "execution_count": 31,
   "metadata": {},
   "outputs": [
    {
     "name": "stdout",
     "output_type": "stream",
     "text": [
      "3\n",
      "2 0 1\n"
     ]
    }
   ],
   "source": [
    "n = int(input())\n",
    "graph = dd(list)\n",
    "root = None\n",
    "par = [int(x) for x in input().split()]\n",
    "for i in range(n):\n",
    "    if par[i] != 0:\n",
    "        graph[i].append(par[i]-1)\n",
    "        graph[par[i]-1].append(i)\n",
    "    else:\n",
    "        root = i\n",
    "#print(graph, root, sep = '\\n')"
   ]
  },
  {
   "cell_type": "code",
   "execution_count": 32,
   "metadata": {},
   "outputs": [
    {
     "name": "stdout",
     "output_type": "stream",
     "text": [
      "3\n",
      "3 1\n",
      "1\n",
      "2 1\n",
      "3 1\n",
      "0\n"
     ]
    }
   ],
   "source": [
    "fsq = flattened_subtree_queries(graph, [1]*n, root)\n",
    "for _ in range(int(input())):\n",
    "    qt, sup = [int(x) for x in input().split()]\n",
    "    if qt == 1:\n",
    "        fsq.subtree_update(sup-1, 1)\n",
    "    elif qt == 2:\n",
    "        fsq.subtree_update(sup-1, 0)\n",
    "    else:\n",
    "        print(fsq.subtree_query(sup-1))"
   ]
  },
  {
   "cell_type": "code",
   "execution_count": 10,
   "metadata": {},
   "outputs": [],
   "source": [
    "#Map class:\n",
    "\n",
    "class Map(dict):\n",
    "    \"\"\"\n",
    "    Example:\n",
    "    m = Map({'first_name': 'Eduardo'}, last_name='Pool', age=24, sports=['Soccer'])\n",
    "    \"\"\"\n",
    "    def __init__(self, *args, **kwargs):\n",
    "        super(Map, self).__init__(*args, **kwargs)\n",
    "        for arg in args:\n",
    "            if isinstance(arg, dict):\n",
    "                for k, v in arg.items():\n",
    "                    self[k] = v\n",
    "\n",
    "        if kwargs:\n",
    "            for k, v in kwargs.items():\n",
    "                self[k] = v\n",
    "\n",
    "    def __getattr__(self, attr):\n",
    "        return self.get(attr)\n",
    "\n",
    "    def __setattr__(self, key, value):\n",
    "        self.__setitem__(key, value)\n",
    "\n",
    "    def __setitem__(self, key, value):\n",
    "        super(Map, self).__setitem__(key, value)\n",
    "        self.__dict__.update({key: value})\n",
    "\n",
    "    def __delattr__(self, item):\n",
    "        self.__delitem__(item)\n",
    "\n",
    "    def __delitem__(self, key):\n",
    "        super(Map, self).__delitem__(key)\n",
    "        del self.__dict__[key]\n"
   ]
  },
  {
   "cell_type": "code",
   "execution_count": 13,
   "metadata": {},
   "outputs": [
    {
     "data": {
      "text/plain": [
       "-1000000000"
      ]
     },
     "execution_count": 13,
     "metadata": {},
     "output_type": "execute_result"
    }
   ],
   "source": [
    "inf = int(1e9)\n",
    "m = Map({'max_prefix_sum':-inf, 'max_suffix_sum':-inf, 'total_sum':-inf, 'max_subarray_sum':-inf})\n",
    "m.total_sum"
   ]
  }
 ],
 "metadata": {
  "kernelspec": {
   "display_name": "Python 3",
   "language": "python",
   "name": "python3"
  },
  "language_info": {
   "codemirror_mode": {
    "name": "ipython",
    "version": 3
   },
   "file_extension": ".py",
   "mimetype": "text/x-python",
   "name": "python",
   "nbconvert_exporter": "python",
   "pygments_lexer": "ipython3",
   "version": "3.9.1"
  }
 },
 "nbformat": 4,
 "nbformat_minor": 4
}
