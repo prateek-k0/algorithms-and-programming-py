{
 "cells": [
  {
   "cell_type": "markdown",
   "metadata": {},
   "source": [
    "## DSU:\n",
    "##### We are given several elements, each of which is a separate set. A DSU will have an operation to combine any \n",
    "##### two sets, and it will be able to tell in which set a specific element is. \n",
    "##### The classical version also introduces a third operation, it can create a set from a new element."
   ]
  },
  {
   "cell_type": "markdown",
   "metadata": {},
   "source": [
    "\n",
    "\n",
    "### it consists of the following operations : \n",
    "\n",
    "### make_set(v) - creates a new set containing of the element v\n",
    "### union_sets(a,b) - merges 2 sets, with one of the set containing element a, and the other containing b\n",
    "### find_set(v) - returns the parent of the element v (the representative of the set containing v)\n",
    "\n",
    "### each set will be represented by a tree, where the root is the parent of each set\n",
    "\n"
   ]
  },
  {
   "cell_type": "markdown",
   "metadata": {},
   "source": [
    "## Naive implementation:\n"
   ]
  },
  {
   "cell_type": "code",
   "execution_count": 16,
   "metadata": {},
   "outputs": [],
   "source": [
    "def make_set(v):\n",
    "    parent[v] = v\n",
    "\n",
    "def find_set(v):             #o(n), hence inefficient\n",
    "    if v == parent[v]:\n",
    "        return v\n",
    "    else:\n",
    "        return find_set(parent[v])\n",
    "\n",
    "def union_sets(a, b):\n",
    "    a = find_set(a)\n",
    "    b = find_set(b)\n",
    "    if not (a == b):\n",
    "        parent[b] = a"
   ]
  },
  {
   "cell_type": "markdown",
   "metadata": {},
   "source": [
    "## Path Compression:\n",
    "##### for speeding up find_set\n",
    "#### if the elements form a chain like structure, it shall cause o(n) worst case time complexity\n",
    "#### for speeding up, we can attach the children of a node directly to the parent of the set.\n",
    "#### this reduces the timecomplexity to o(logn)\n",
    "![Path-comp](DSU_path_compression.png)"
   ]
  },
  {
   "cell_type": "code",
   "execution_count": 17,
   "metadata": {},
   "outputs": [],
   "source": [
    "def find_set(v):\n",
    "    if not (parent[v] == v):\n",
    "        parent[v] = find_set(parent[v])\n",
    "    return parent[v]    "
   ]
  },
  {
   "cell_type": "markdown",
   "metadata": {},
   "source": [
    "## Union by size / rank\n",
    "##### this determines which tree attaches to the other one.\n",
    "##### 2 ways can be used - size of the tree as rank, and the depth of the tree.\n",
    "##### while using the depth of the tree, we use only the upper-bound, since path-compression shortens the depth by a\n",
    "##### significant amount\n",
    "\n",
    "##### both optimizations are equivalent on terms of time and space complexity"
   ]
  },
  {
   "cell_type": "markdown",
   "metadata": {},
   "source": [
    "### 1. Union by size :"
   ]
  },
  {
   "cell_type": "code",
   "execution_count": 18,
   "metadata": {},
   "outputs": [],
   "source": [
    "def make_set(v):\n",
    "    parent[v] = v\n",
    "    size[v] = 1\n",
    "    \n",
    "def union_sets(a, b):\n",
    "    a = find_set(a) #from path compression\n",
    "    b = find_set(b)\n",
    "    if not(a == b):\n",
    "            if size[a] < size[b]:\n",
    "                a, b = b, a #swap\n",
    "            parent[b] = a\n",
    "            size[a] += size[b]\n",
    "            "
   ]
  },
  {
   "cell_type": "markdown",
   "metadata": {},
   "source": [
    "### 2. Union by rank:\n",
    "##### rank specifies how many sets are connected to a set, for example, if a union operation is performed, rank increases by 1"
   ]
  },
  {
   "cell_type": "code",
   "execution_count": 19,
   "metadata": {},
   "outputs": [],
   "source": [
    "def make_set(v):\n",
    "    parent[v] = v\n",
    "    rank[v] = 0\n",
    "\n",
    "def union_sets(a, b):\n",
    "    a = find_set(a) #from path compression\n",
    "    b = find_set(b)\n",
    "    if not(a == b):\n",
    "        if rank[a] < rank[b]:\n",
    "            a, b = b, a #swap \n",
    "        parent[b] = a\n",
    "        if rank[a] == rank[b]:\n",
    "            rank[a] += 1\n",
    "            "
   ]
  },
  {
   "cell_type": "markdown",
   "metadata": {},
   "source": [
    "## Time complexity:\n",
    "\n",
    "##### If we combine both optimizations - path compression with union by size / rank - we will reach nearly constant time queries\n",
    "##### It turns out, that the final amortized time complexity is O(α(n)), where α(n) is the inverse Ackermann function, \n",
    "##### which grows very slowly. In fact it grows so slowly, \n",
    "##### that it doesn't exceed 4 for all reasonable n (approximately n<10^600)."
   ]
  },
  {
   "cell_type": "markdown",
   "metadata": {},
   "source": [
    "## Support distances up to representive / length to the parent of the set\n",
    "##### Sometimes in specific applications of the DSU you need to maintain the distance between a vertex and the representative of its set (i.e. the path length in the tree from the current node to the root of the tree). These include finding smallest path in the maze, etc."
   ]
  },
  {
   "cell_type": "code",
   "execution_count": 20,
   "metadata": {},
   "outputs": [],
   "source": [
    "def make_set(v):\n",
    "    parent[v] = (v, 0)       #2nd element is the length to the parent of the set\n",
    "    rank[v] = 0\n",
    "    \n",
    "def find_set(v):\n",
    "    if not (v == parent[v][0]):\n",
    "        len = parent[v][1]\n",
    "        parent[v] = find_set(parent[v][0])\n",
    "        parent[v][0] += len\n",
    "    return parent[v]\n",
    "\n",
    "def union_sets(a, b):\n",
    "    a = find_set(a)[0]\n",
    "    b = find_set(b)[0]\n",
    "    if not (a == b):\n",
    "        if rank(a) < rank(b):\n",
    "            a, b = b, a\n",
    "        parent[b] = (a,1)\n",
    "        if rank[a] == rank[b]:\n",
    "            rank[a] += 1"
   ]
  },
  {
   "cell_type": "markdown",
   "metadata": {},
   "source": [
    "## Support the parity of the path length / Checking bipartiteness online\n",
    "#### to answer the question :  is the connected component containing this vertex bipartite?\n",
    "##### To solve this problem, we make a DSU for storing of the components and store the parity of the path up to the representative for each vertex. Thus we can quickly check if adding an edge leads to a violation of the bipartiteness or not: namely if the ends of the edge lie in the same connected component and have the same parity length to the leader, then adding this edge will produce a cycle of odd length, and the component will lose the bipartiteness property.\n",
    "![Bi-Graph](bigraph.png)\n",
    "##### Let's derive a formula, which computes the parity issued to the leader of the set that will get attached to another set. Let x be the parity of the path length from vertex a up to its leader A, and y as the parity of the path length from vertex b up to its leader B, and t the desired parity that we have to assign to B after the merge. The path contains the of the three parts: from B to b, from b to a, which is connected by one edge and therefore has parity 1, and from a to A. Therefore we receive the formula \n",
    " #####  t = x ^ y ^ 1,  where ^ represents XOR\n",
    "##### Thus regardless of how many joins we perform, the parity of the edges is carried from on leader to another."
   ]
  },
  {
   "cell_type": "code",
   "execution_count": 8,
   "metadata": {},
   "outputs": [],
   "source": [
    "def make_set(v):\n",
    "    parent[v] = (v, 0)                   #2nd element is the length to the parent of the set\n",
    "    rank[v] = 0\n",
    "    bipartite[v] = True\n",
    "\n",
    "def find_set(v):\n",
    "    if not (v == parent[v][0]):\n",
    "        parity = parent[v][1]\n",
    "        parent[v] = find_set(parent[v][0])\n",
    "        parent[v][1] ^= parity\n",
    "    return parent[v]\n",
    "\n",
    "def add_edge(a, b):     # add edge from a to b\n",
    "    pa = find_set(a)\n",
    "    a = pa[0]\n",
    "    x = pa[1]\n",
    "    \n",
    "    pb = find_set(b)\n",
    "    b = pb[0]\n",
    "    y = pb[1]\n",
    "    \n",
    "    if a == b:\n",
    "        if x == y:\n",
    "            bipartite[a] = False\n",
    "    else:\n",
    "        if rank[a] < rank[b]:\n",
    "            a, b = b, a\n",
    "        parent[b] = (a, x^y^1)\n",
    "        bipartite[a] &= bipartite[b]\n",
    "        if rank[a] == rank[b]:\n",
    "            rank[a] += 1\n",
    "            \n",
    "def is_bipartite(v):\n",
    "    return bipartite[find_set(v)[0]]"
   ]
  },
  {
   "cell_type": "markdown",
   "metadata": {},
   "source": [
    "## Example : check if the graph contains a cycle:"
   ]
  },
  {
   "cell_type": "code",
   "execution_count": 17,
   "metadata": {},
   "outputs": [
    {
     "data": {
      "text/plain": [
       "False"
      ]
     },
     "execution_count": 17,
     "metadata": {},
     "output_type": "execute_result"
    }
   ],
   "source": [
    "from collections import defaultdict as dd\n",
    "class graph():\n",
    "    class _dsu():\n",
    "        def __init__(self, n):\n",
    "            self.parent = list(range(n))\n",
    "            self.rank = [0] * n\n",
    "              \n",
    "        def find_set(self, node):        #find representative/parent of a node\n",
    "            if not (node == self.parent[node]):\n",
    "                self.parent[node] = self.find_set(self.parent[node])\n",
    "            return self.parent[node]\n",
    "            \n",
    "        def union(self, a, b):\n",
    "            a = self.find_set(a)\n",
    "            b = self.find_set(b)\n",
    "            if not (a == b):\n",
    "                if self.rank[a] < self.rank[b]:\n",
    "                    a, b = b, a\n",
    "                self.parent[b] = a\n",
    "                if self.rank[a] == self.rank[b]:\n",
    "                    self.rank[a] += 1\n",
    "            \n",
    "    def __init__(self, n):\n",
    "        self.g = dd(list)\n",
    "        self.size = n\n",
    "        self.dsu = graph._dsu(n)\n",
    "        \n",
    "    def add_edge(self, u, v):\n",
    "        self.g[u].append(v)   #adjacency list\n",
    "    \n",
    "    def is_cyclic(self):\n",
    "        for i in self.g:\n",
    "            for j in self.g[i]:\n",
    "                x = self.dsu.find_set(i)\n",
    "                y = self.dsu.find_set(j)\n",
    "                if x == y:\n",
    "                    return True\n",
    "                self.dsu.union(x, y)\n",
    "        return False\n",
    "    \n",
    "\n",
    "g = graph(3)\n",
    "g.add_edge(0,1)\n",
    "g.add_edge(1,2)\n",
    "#g.add_edge(2,0)\n",
    "g.is_cyclic()"
   ]
  },
  {
   "cell_type": "markdown",
   "metadata": {},
   "source": [
    "## Example : Lexicographically minimal string\n",
    "[Problem_Link](https://www.hackerearth.com/practice/data-structures/disjoint-data-strutures/basics-of-disjoint-data-structures/practice-problems/algorithm/lexicographically-minimal-string-6edc1406/description/)"
   ]
  },
  {
   "cell_type": "code",
   "execution_count": 27,
   "metadata": {},
   "outputs": [],
   "source": [
    "import string \n",
    "from abc import abstractmethod #abstract base class\n",
    "lkp = {i:j for i,j in zip(string.ascii_lowercase,range(26))}\n",
    "#rlkp = {j:i for i,j in zip(string.ascii_lowercase,range(26))}\n",
    "class DSU():\n",
    "    \n",
    "    def __init__(self, n = 26):\n",
    "        self.parent = {i:i for i in string.ascii_lowercase}\n",
    "    \n",
    "    def find_set(self, node):\n",
    "        if not (node == self.parent[node]):\n",
    "            self.parent[node] = self.find_set(self.parent[node])\n",
    "        return self.parent[node]\n",
    "    \n",
    "    @abstractmethod\n",
    "    def _union(self, a, b):\n",
    "        pass\n",
    "    \n",
    "class minimal_string(DSU):\n",
    "    \n",
    "    def __init__(self, a, b):\n",
    "        super().__init__(self)\n",
    "        self.a = a\n",
    "        self.b = b\n",
    "        self._union(a, b)\n",
    "    \n",
    "    def _union(self, a, b):\n",
    "        global lkp\n",
    "        for i in range(len(a)):\n",
    "            u = self.find_set(a[i])    #find parents for both\n",
    "            v = self.find_set(b[i])\n",
    "            if not (u == v):\n",
    "                if lkp[v] < lkp[u]:\n",
    "                    u, v = v, u\n",
    "                self.parent[v] = u\n",
    "                \n",
    "    def transform(self, c):\n",
    "        c2 = list()\n",
    "        for i in c:\n",
    "            c2.append(self.find_set(i))\n",
    "        return ''.join(c2)"
   ]
  },
  {
   "cell_type": "code",
   "execution_count": 28,
   "metadata": {},
   "outputs": [
    {
     "data": {
      "text/plain": [
       "'aaaaaaappppaaaaaaa'"
      ]
     },
     "execution_count": 28,
     "metadata": {},
     "output_type": "execute_result"
    }
   ],
   "source": [
    "mdsu = minimal_string('xyzpqrabcdf', 'yzaqrsbcdef')\n",
    "mdsu.transform('yyzzxxxqppqabcddce')"
   ]
  },
  {
   "cell_type": "code",
   "execution_count": null,
   "metadata": {},
   "outputs": [],
   "source": []
  }
 ],
 "metadata": {
  "kernelspec": {
   "display_name": "Python 3",
   "language": "python",
   "name": "python3"
  },
  "language_info": {
   "codemirror_mode": {
    "name": "ipython",
    "version": 3
   },
   "file_extension": ".py",
   "mimetype": "text/x-python",
   "name": "python",
   "nbconvert_exporter": "python",
   "pygments_lexer": "ipython3",
   "version": "3.9.1"
  }
 },
 "nbformat": 4,
 "nbformat_minor": 4
}
