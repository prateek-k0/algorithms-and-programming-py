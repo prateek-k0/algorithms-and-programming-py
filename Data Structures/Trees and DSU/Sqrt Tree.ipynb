{
 "cells": [
  {
   "cell_type": "markdown",
   "metadata": {},
   "source": [
    "## Given an array a that contains n elements and the operation ∘ that satisfies associative property: (x∘y)∘z=x∘(y∘z) is true for any x, y, z.\n",
    "\n",
    "### So, such operations as gcd, min, max, +, and, or, xor, etc. satisfy these conditions.\n",
    "### Also we have some queries q(l,r). For each query, we need to compute al∘al+1∘⋯∘ar.\n",
    "### Sqrt Tree can process such queries in O(1) time with O(n⋅loglogn) preprocessing time and O(n⋅loglogn) memory."
   ]
  },
  {
   "cell_type": "code",
   "execution_count": 2,
   "metadata": {},
   "outputs": [
    {
     "data": {
      "text/plain": [
       "14"
      ]
     },
     "execution_count": 2,
     "metadata": {},
     "output_type": "execute_result"
    }
   ],
   "source": [
    "'''\n",
    "highest set bit(hsb):\n",
    "sz = l ^ r\n",
    "hsb = 1 << int(log2(sz))\n",
    "'''"
   ]
  },
  {
   "cell_type": "code",
   "execution_count": 3,
   "metadata": {},
   "outputs": [
    {
     "data": {
      "text/plain": [
       "8"
      ]
     },
     "execution_count": 3,
     "metadata": {},
     "output_type": "execute_result"
    }
   ],
   "source": []
  },
  {
   "cell_type": "code",
   "execution_count": null,
   "metadata": {},
   "outputs": [],
   "source": []
  }
 ],
 "metadata": {
  "kernelspec": {
   "display_name": "Python 3",
   "language": "python",
   "name": "python3"
  },
  "language_info": {
   "codemirror_mode": {
    "name": "ipython",
    "version": 3
   },
   "file_extension": ".py",
   "mimetype": "text/x-python",
   "name": "python",
   "nbconvert_exporter": "python",
   "pygments_lexer": "ipython3",
   "version": "3.8.2"
  }
 },
 "nbformat": 4,
 "nbformat_minor": 4
}
