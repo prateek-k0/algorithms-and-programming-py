{
 "cells": [
  {
   "cell_type": "code",
   "execution_count": null,
   "metadata": {},
   "outputs": [],
   "source": [
    "import asyncio\n",
    "\n",
    "async def ph():\n",
    "    print('Before sleeping ...')\n",
    "    await asyncio.sleep(2)\n",
    "    print('Resuming execution ...')\n",
    "\n",
    "#asyncio.run(ph())\n",
    "#since jupyter already runs an event loop:\n",
    "await ph()"
   ]
  },
  {
   "cell_type": "code",
   "execution_count": null,
   "metadata": {},
   "outputs": [],
   "source": [
    "''' Using sync decorators on coroutines and calling it on a separate thread using threading '''"
   ]
  },
  {
   "cell_type": "code",
   "execution_count": null,
   "metadata": {},
   "outputs": [],
   "source": [
    "''' creating tasks : tasks are wrapped coroutines scheduled for execution in the running loop, like a future '''\n",
    "''' tasks can be created by: asyncio.create_task(coro), for py3.7+\n",
    "    for prior versions, asyncio.ensure_future(coro )'''\n",
    "\n",
    "import asyncio\n",
    "\n",
    "con = False\n",
    "condition = asyncio.Condition()\n",
    "\n",
    "def return_con():\n",
    "    return con\n",
    "\n",
    "async def c1():\n",
    "    global condition\n",
    "    print('Inside c1')\n",
    "    await asyncio.sleep(1)\n",
    "    con = True\n",
    "    async with condition:\n",
    "        condition.notify_all()\n",
    "    print('Leaving c1')\n",
    "    \n",
    "\n",
    "async def c2():\n",
    "    global condition\n",
    "    print('Before Checking')\n",
    "    async with condition:\n",
    "        print('Checking')\n",
    "        await condition.wait_for(return_con)\n",
    "    print('Checked : True')\n",
    "    \n",
    "\n",
    "t2 = asyncio.create_task(c2())\n",
    "t1 = asyncio.create_task(c1())\n",
    "done, pending = await asyncio.wait([t1,t2],timeout = 2)"
   ]
  },
  {
   "cell_type": "code",
   "execution_count": null,
   "metadata": {},
   "outputs": [],
   "source": []
  }
 ],
 "metadata": {
  "kernelspec": {
   "display_name": "Python 3",
   "language": "python",
   "name": "python3"
  },
  "language_info": {
   "codemirror_mode": {
    "name": "ipython",
    "version": 3
   },
   "file_extension": ".py",
   "mimetype": "text/x-python",
   "name": "python",
   "nbconvert_exporter": "python",
   "pygments_lexer": "ipython3",
   "version": "3.8.0"
  }
 },
 "nbformat": 4,
 "nbformat_minor": 2
}
