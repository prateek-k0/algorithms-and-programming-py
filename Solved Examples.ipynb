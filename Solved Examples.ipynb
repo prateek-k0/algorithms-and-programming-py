{
 "cells": [
  {
   "cell_type": "code",
   "execution_count": 1,
   "metadata": {},
   "outputs": [
    {
     "name": "stdout",
     "output_type": "stream",
     "text": [
      "a\n"
     ]
    },
    {
     "ename": "ValueError",
     "evalue": "invalid literal for int() with base 10: 'a'",
     "output_type": "error",
     "traceback": [
      "\u001b[0;31m---------------------------------------------------------------------------\u001b[0m",
      "\u001b[0;31mValueError\u001b[0m                                Traceback (most recent call last)",
      "\u001b[0;32m<ipython-input-1-5b56c384f4ee>\u001b[0m in \u001b[0;36m<module>\u001b[0;34m\u001b[0m\n\u001b[1;32m     12\u001b[0m \u001b[0;34m\u001b[0m\u001b[0m\n\u001b[1;32m     13\u001b[0m     \u001b[0mocc\u001b[0m\u001b[0;34m[\u001b[0m\u001b[0mx\u001b[0m\u001b[0;34m]\u001b[0m\u001b[0;34m.\u001b[0m\u001b[0mappend\u001b[0m\u001b[0;34m(\u001b[0m\u001b[0mi\u001b[0m\u001b[0;34m)\u001b[0m\u001b[0;34m\u001b[0m\u001b[0;34m\u001b[0m\u001b[0m\n\u001b[0;32m---> 14\u001b[0;31m \u001b[0;32mfor\u001b[0m \u001b[0m_\u001b[0m \u001b[0;32min\u001b[0m \u001b[0mrange\u001b[0m\u001b[0;34m(\u001b[0m\u001b[0mint\u001b[0m\u001b[0;34m(\u001b[0m\u001b[0minput\u001b[0m\u001b[0;34m(\u001b[0m\u001b[0;34m)\u001b[0m\u001b[0;34m)\u001b[0m\u001b[0;34m)\u001b[0m\u001b[0;34m:\u001b[0m\u001b[0;34m\u001b[0m\u001b[0;34m\u001b[0m\u001b[0m\n\u001b[0m\u001b[1;32m     15\u001b[0m     \u001b[0mn\u001b[0m \u001b[0;34m=\u001b[0m \u001b[0mint\u001b[0m\u001b[0;34m(\u001b[0m\u001b[0minput\u001b[0m\u001b[0;34m(\u001b[0m\u001b[0;34m)\u001b[0m\u001b[0;34m)\u001b[0m\u001b[0;34m\u001b[0m\u001b[0;34m\u001b[0m\u001b[0m\n\u001b[1;32m     16\u001b[0m     \u001b[0mseq\u001b[0m \u001b[0;34m=\u001b[0m \u001b[0ml\u001b[0m\u001b[0;34m[\u001b[0m\u001b[0;34m:\u001b[0m\u001b[0mn\u001b[0m\u001b[0;34m]\u001b[0m\u001b[0;34m\u001b[0m\u001b[0;34m\u001b[0m\u001b[0m\n",
      "\u001b[0;31mValueError\u001b[0m: invalid literal for int() with base 10: 'a'"
     ]
    }
   ],
   "source": [
    "#Hard Sequence\n",
    "occ = {i:[] for i in range(128)}\n",
    "l = [0]\n",
    "for i in range(1,128):\n",
    "    x = l[-1]\n",
    "    if not len(occ[x]):\n",
    "        l.append(0) \n",
    "    else:\n",
    "        k = occ[x][-1]\n",
    "        diff = i-k\n",
    "        l.append(diff)\n",
    "             \n",
    "    occ[x].append(i)   \n",
    "for _ in range(int(input())):\n",
    "    n = int(input())\n",
    "    seq = l[:n]\n",
    "    print(seq.count(seq[-1]))"
   ]
  },
  {
   "cell_type": "code",
   "execution_count": null,
   "metadata": {},
   "outputs": [],
   "source": [
    "#PROXYC\n",
    "for _ in range(int(input())):\n",
    "    d = int(input())\n",
    "    c = 0\n",
    "    flag = False\n",
    "    sl = list(input())\n",
    "    prev = sl.count('P')\n",
    "    \n",
    "    if prev/d >= 0.75:\n",
    "        print(0)\n",
    "        continue\n",
    "    \n",
    "    for i in range(2,d-2):\n",
    "        if sl[i] == 'A':\n",
    "            if 'P' in sl[i-2:i] and 'P' in sl[i+1:i+3]:\n",
    "                sl[i] = 'P'\n",
    "                c+=1\n",
    "                print()\n",
    "        if (prev+c)/9 >= 0.75:\n",
    "            flag = True\n",
    "            break\n",
    "    if not flag:\n",
    "        print(-1)\n",
    "    else:\n",
    "        print(c)\n",
    "            \n",
    "        #print(sl[i-2:i], sl[i+1:i+3], sep = '  ')\n",
    "    "
   ]
  },
  {
   "cell_type": "code",
   "execution_count": null,
   "metadata": {},
   "outputs": [],
   "source": []
  },
  {
   "cell_type": "code",
   "execution_count": null,
   "metadata": {},
   "outputs": [],
   "source": [
    "''' SNUG_FIT '''\n",
    "for _ in range(int(input())):\n",
    "    n = int(input())\n",
    "    al = sorted([int(x) for x in input().split()], reverse = True)\n",
    "    bl = sorted([int(x) for x in input().split()], reverse = True)\n",
    "    s = sum([al[i] if al[i] <= bl[i] else bl[i] for i in range(n) ])\n",
    "    print(s)\n",
    "\n",
    "\n",
    "\n",
    "#binary search to find the closest element to a given element\n",
    "\n",
    "def getClosest(val1, val2, target):\n",
    "    if (target - val1 >= val2 - target): \n",
    "        return val2\n",
    "    else:\n",
    "        return val1\n",
    "\n",
    "def findclosest(arr, n, target):\n",
    "    if (target <= arr[0]): \n",
    "        return arr[0] \n",
    "    if (target >= arr[n - 1]): \n",
    "        return arr[n - 1] \n",
    "    i = 0; j = n; mid = 0\n",
    "    while (i < j):  \n",
    "        mid = (i + j) // 2\n",
    "        if (arr[mid] == target): \n",
    "            return arr[mid] \n",
    "        if (target < arr[mid]) : \n",
    "            if (mid > 0 and target > arr[mid - 1]): \n",
    "                return getClosest(arr[mid - 1], arr[mid], target) \n",
    "        else : \n",
    "            if (mid < n - 1 and target < arr[mid + 1]): \n",
    "                return getClosest(arr[mid], arr[mid + 1], target) \n",
    "            i = mid + 1       \n",
    "    return arr[mid]\n"
   ]
  },
  {
   "cell_type": "code",
   "execution_count": 34,
   "metadata": {},
   "outputs": [
    {
     "name": "stdout",
     "output_type": "stream",
     "text": [
      "1\n",
      "3 25\n",
      "3 5 10\n",
      "YES 0 0 3 \n"
     ]
    }
   ],
   "source": [
    "def check(nl,p):\n",
    "    for i in nl:\n",
    "        if p%i :\n",
    "            return True\n",
    "    return False\n",
    "\n",
    "for _ in range(int(input())):\n",
    "    n, p = [int(x) for x in input().split()]\n",
    "    nl = [int(x) for x in input().split()]\n",
    "    a = 0\n",
    "    ind = 0\n",
    "    rl = []\n",
    "    if check(nl,p):\n",
    "        if nl[-1] > p:\n",
    "            rl = [0]*(n-1)\n",
    "            rl.append(1)\n",
    "        elif p%nl[-1] == 0:\n",
    "            for i in range(n-2,0,-1):\n",
    "                if p%nl[i] != 0:\n",
    "                    a = int(p/nl[i])+1\n",
    "                    ind = i\n",
    "            rl = [0]*ind\n",
    "            rl.append(a)\n",
    "            for i in range(ind+1,n):\n",
    "                rl.append(0)\n",
    "        else:\n",
    "            rl = [0]*(n-1)\n",
    "            rl.append(int(p/nl[-1])+1)\n",
    "        \n",
    "        print('YES',end = ' ')\n",
    "        for i in rl:\n",
    "            print(i, end = ' ')\n",
    "        print()\n",
    "    else:\n",
    "        print('NO')"
   ]
  },
  {
   "cell_type": "markdown",
   "metadata": {},
   "source": [
    "## Poisonous plants - Hackerrank (Stock pan problem)"
   ]
  },
  {
   "cell_type": "code",
   "execution_count": 5,
   "metadata": {},
   "outputs": [
    {
     "data": {
      "text/plain": [
       "0"
      ]
     },
     "execution_count": 5,
     "metadata": {},
     "output_type": "execute_result"
    }
   ],
   "source": [
    "import math\n",
    "def poisonousPlants(plants):\n",
    "    stack = []\n",
    "    maxDays = -math.inf\n",
    "\n",
    "    for plant in plants:\n",
    "        days = 1\n",
    "\n",
    "        while stack and stack[-1][0] >= plant:\n",
    "            _, d = stack.pop()\n",
    "            days = max(days, d + 1)\n",
    "        \n",
    "        if not stack:\n",
    "            days = 0\n",
    "        \n",
    "        maxDays = max(maxDays, days)\n",
    "        stack.append((plant, days))\n",
    "    \n",
    "    return maxDays\n",
    "\n",
    "poisonousPlants([403,201,57])"
   ]
  },
  {
   "cell_type": "markdown",
   "metadata": {},
   "source": [
    "## Truck Tour Hackerrank (Hackerrank)"
   ]
  },
  {
   "cell_type": "code",
   "execution_count": null,
   "metadata": {},
   "outputs": [],
   "source": [
    "n = int(input())\n",
    "fl = [[int(x) for x in input().split()] for j in range(n)]\n",
    "curr_fuel = 0\n",
    "q = []\n",
    "for i in range(2*n):\n",
    "    gs = fl[i%n]\n",
    "    if gs[0]+curr_fuel >= gs[1]:\n",
    "        curr_fuel += (gs[0]-gs[1])\n",
    "        q.append(i)\n",
    "        if len(q) == n:\n",
    "            break\n",
    "    else:\n",
    "        q = []\n",
    "        curr_fuel = 0\n",
    "print(q[0])\n",
    "    "
   ]
  },
  {
   "cell_type": "markdown",
   "metadata": {},
   "source": [
    "## Queries with Fixed Length (Hackerrank)"
   ]
  },
  {
   "cell_type": "code",
   "execution_count": 43,
   "metadata": {},
   "outputs": [
    {
     "name": "stdout",
     "output_type": "stream",
     "text": [
      "5 5\n",
      "33 11 44 11 55\n",
      "1\n",
      "11\n",
      "2\n",
      "33\n",
      "3\n",
      "44\n",
      "4\n",
      "44\n",
      "5\n",
      "55\n"
     ]
    }
   ],
   "source": [
    "class CustomStack():\n",
    "    \n",
    "    def __init__(self, func_dict):\n",
    "        self.stack = []\n",
    "        self.fdict = func_dict\n",
    "        \n",
    "    def push(self, val):\n",
    "        val_dict = {}\n",
    "        val_dict['val'] = val\n",
    "        if self.is_empty():\n",
    "            for i in self.fdict:\n",
    "                val_dict[i] = val\n",
    "        else:\n",
    "            for i in self.fdict:\n",
    "                val_dict[i] = self.fdict[i](val, self.stack[-1][i])\n",
    "        self.stack.append(val_dict)\n",
    "            \n",
    "    \n",
    "    def pop(self):\n",
    "        return self.stack.pop()['val']\n",
    "    \n",
    "    def get_f(self, func):\n",
    "        return self.stack[-1][func]\n",
    "    \n",
    "    def is_empty(self):\n",
    "        return not len(self.stack)\n",
    "    \n",
    "    def clear(self):\n",
    "        self.stack.clear()\n",
    "    \n",
    "    def __repr__(self):\n",
    "        s = ''\n",
    "        for i in self.stack:\n",
    "            s = str(i['val']) + s\n",
    "            s = '\\n'+s     \n",
    "        s += '\\n\\n'\n",
    "        for i in self.fdict:\n",
    "            s += (i + ' : '+(str(self.stack[-1][i]) + ',  '))\n",
    "        return s\n",
    "    \n",
    "\n",
    "    \n",
    "class CustomQueue():\n",
    "    \n",
    "    def __init__(self, fdict):\n",
    "        self.s1 = CustomStack(fdict)         #for adding(rear)\n",
    "        self.s2 = CustomStack(fdict)         #for removing(front)\n",
    "        self.fdict = fdict\n",
    "        \n",
    "    def add(self, val):\n",
    "        self.s1.push(val)\n",
    "    \n",
    "    def remove(self):\n",
    "        if self.s2.is_empty():\n",
    "            while not self.s1.is_empty():\n",
    "                self.s2.push(self.s1.pop())\n",
    "        return self.s2.pop()\n",
    "    \n",
    "    def get_f(self, func):\n",
    "        if self.s1.is_empty() or self.s2.is_empty():\n",
    "            return self.s1.get_f(func) if self.s2.is_empty() else self.s2.get_f(func)\n",
    "        return self.fdict[func](self.s1.get_f(func), self.s2.get_f(func))\n",
    "    \n",
    "    def is_empty(self):\n",
    "        return self.s1.is_empty() and self.s2.is_empty()\n",
    "    \n",
    "    def clear(self):\n",
    "        self.s1.clear()\n",
    "        self.s2.clear()\n",
    "        \n",
    "        \n",
    "        \n",
    "n, q = [int(x) for x in input().split()]\n",
    "a = [int(x) for x in input().split()]\n",
    "cqmin = CustomQueue({'min' : (lambda x, y : x if x < y else y)})\n",
    "cqmax = CustomQueue({'max' : (lambda x, y : x if x > y else y)})\n",
    "for _ in range(q):\n",
    "    d = int(input())\n",
    "    for i in range(len(a)-d+1):\n",
    "        #print('cqmax : ', cqmax)\n",
    "        if not i:\n",
    "            for j in range(d):\n",
    "                cqmax.add(a[j])\n",
    "        else:\n",
    "            re = cqmax.remove()\n",
    "            cqmax.add(a[i+d-1])\n",
    "            #print(i+d)\n",
    "        cqmin.add(cqmax.get_f('max'))\n",
    "        \n",
    "    print(cqmin.get_f('min'))\n",
    "    cqmin.clear()\n",
    "    cqmax.clear()"
   ]
  },
  {
   "cell_type": "code",
   "execution_count": 33,
   "metadata": {},
   "outputs": [
    {
     "data": {
      "text/plain": [
       "2"
      ]
     },
     "execution_count": 33,
     "metadata": {},
     "output_type": "execute_result"
    }
   ],
   "source": [
    "cq = CustomQueue({'min':(lambda x, y : x if x < y else y), 'max':(lambda x, y : x if x > y else y)})\n",
    "cq.add(1)\n",
    "cq.add(-1)\n",
    "cq.add(2)\n",
    "cq.add(-5)\n",
    "cq.remove()\n",
    "cq.get_f('max')"
   ]
  },
  {
   "cell_type": "code",
   "execution_count": 11,
   "metadata": {},
   "outputs": [],
   "source": [
    "class segment_tree():\n",
    "    \n",
    "    def __init__(self, func, arr, fid=0):\n",
    "        self.func = func\n",
    "        self.tree = None\n",
    "        self.arr = list(arr)\n",
    "        self.f_identity = fid\n",
    "    \n",
    "    def build_tree(self):            \n",
    "        self.tree = [None]*(len(self.arr)) + self.arr\n",
    "        for i in range(len(self.arr)-1, 0, -1):\n",
    "            self.tree[i] = self.func(self.tree[2*i], self.tree[2*i+1])\n",
    "            \n",
    "    def update(self, index, value):         \n",
    "        self.arr[index] = value\n",
    "        index += (len(self.arr))\n",
    "        self.tree[index] = value   \n",
    "        while (index := (index//2)) > 0:   \n",
    "            updated_internal_node_val = self.func(self.tree[2*index], self.tree[2*index+1])\n",
    "            if updated_internal_node_val != self.tree[index]:\n",
    "                self.tree[index] = updated_internal_node_val\n",
    "            else: \n",
    "                break\n",
    "    \n",
    "    def query(self, l, r):\n",
    "        if l < 0 or r > len(self.arr):\n",
    "            return None\n",
    "        l += (len(self.arr))\n",
    "        r += (len(self.arr))\n",
    "        func_res = self.f_identity\n",
    "        while l < r:\n",
    "            if l&1 == 1:   \n",
    "                func_res = self.func(self.tree[l], func_res)\n",
    "                l += 1\n",
    "            if r&1 == 1:   \n",
    "                r -= 1\n",
    "                func_res = self.func(self.tree[r], func_res)\n",
    "            r = r//2\n",
    "            l = l//2\n",
    "                          \n",
    "        return func_res\n"
   ]
  },
  {
   "cell_type": "code",
   "execution_count": 17,
   "metadata": {},
   "outputs": [
    {
     "name": "stdout",
     "output_type": "stream",
     "text": [
      "5 5 \n",
      "33 11 44 11 55\n",
      "1\n",
      "11\n",
      "2\n",
      "33\n",
      "3\n",
      "44\n",
      "4\n",
      "44\n",
      "5\n",
      "55\n"
     ]
    }
   ],
   "source": [
    "n, dq = [int(x) for x in input().split()]\n",
    "seg_tree = segment_tree(lambda x,y : x if x > y else y, [int(x) for x in input().split()],-1)\n",
    "seg_tree.build_tree()\n",
    "min_stack = custom_stack()\n",
    "for i in range(dq):\n",
    "    d = int(input())\n",
    "    for i in range(n-d+1):\n",
    "        min_stack.push(seg_tree.query(i,i+d))\n",
    "    print(min_stack.get_min())\n",
    "    min_stack.release()"
   ]
  },
  {
   "cell_type": "markdown",
   "metadata": {},
   "source": [
    "## CodeChef"
   ]
  },
  {
   "cell_type": "code",
   "execution_count": 13,
   "metadata": {},
   "outputs": [
    {
     "name": "stdout",
     "output_type": "stream",
     "text": [
      "0\n"
     ]
    }
   ],
   "source": [
    "''' EOEO '''\n",
    "\n",
    "import math\n",
    "\n",
    "def dp2(n):          #largest power of 2 that divides the number\n",
    "    return n & (~(n-1))\n",
    "\n",
    "for _ in range(int(input())):\n",
    "    ts = int(input())\n",
    "    if int(math.log2(ts)) == math.log2(ts):   #power of 2\n",
    "        print(0)\n",
    "        continue\n",
    "    if ts & 1 == 1:         #odd\n",
    "        print(ts//2)\n",
    "    if ts & 1 == 0:\n",
    "        p2 = dp2(ts)       #find the largest power of 2 that divides the number\n",
    "        print(ts//(p2*2))     #number of multiples of next power of 2 that is less then the number\n",
    "    "
   ]
  },
  {
   "cell_type": "code",
   "execution_count": 44,
   "metadata": {},
   "outputs": [],
   "source": [
    "#1 << n    # nth power of 2\n",
    "#9 << n    # 9*(nth power of 2)\n",
    "#(n := 32) >> 3   # 2 ^ (5-3)  , 32 = 2^5\n"
   ]
  },
  {
   "cell_type": "code",
   "execution_count": null,
   "metadata": {},
   "outputs": [],
   "source": [
    "''' EVENM '''\n",
    "for _ in range(int(input())):\n",
    "    n = int(input())\n",
    "    row_ptr = 1\n",
    "    mat = []\n",
    "    for i in range(n):\n",
    "        if not i&1:\n",
    "            arr = [j  for j in range(row_ptr, row_ptr+n)]\n",
    "        else:\n",
    "            arr = [j  for j in range(row_ptr+n-1, row_ptr-1, -1)]\n",
    "        row_ptr += n\n",
    "        mat.append(arr)\n",
    "    for i in range(n):\n",
    "        print(*mat[i])"
   ]
  },
  {
   "cell_type": "code",
   "execution_count": 23,
   "metadata": {},
   "outputs": [
    {
     "name": "stdout",
     "output_type": "stream",
     "text": [
      "1\n",
      "13 17 19\n",
      "51 47 83\n",
      "3\n"
     ]
    }
   ],
   "source": [
    "for _ in range(int(input())):\n",
    "    s = [int(x) for x in input().split()]\n",
    "    d = [int(x) for x in input().split()]\n",
    "    add_set, mul_set = set(), set()\n",
    "    add_list, mul_list = [None]*3, [None]*3\n",
    "    ops, all_mul = 3, True\n",
    "    quo_list = [None]*3\n",
    "    op_dict = { 11 : set(), 12 : set(), 21 : set(), 22 : set()}\n",
    "    \n",
    "    for i in range(3):\n",
    "        add_op_res = d[i] - s[i]\n",
    "        add_list[i] = add_op_res\n",
    "        add_set.add('+'+str(add_op_res))\n",
    "    \n",
    "        mul_op_res = d[i]/s[i]\n",
    "        if not int(mul_op_res) == mul_op_res:\n",
    "            all_mul = False\n",
    "        mul_list[i] = mul_op_res\n",
    "        mul_set.add('x'+str(mul_op_res))\n",
    "    \n",
    "    ops = len(mul_set) if (len(mul_set) < len(add_set)) and all_mul else len(add_set)\n",
    "        \n",
    "    for i in range(3):\n",
    "        if d[i] == s[i]:\n",
    "            quo_list[i] = -1\n",
    "        elif abs(d[i]//s[i]) < 2:\n",
    "            quo_list[i] = 0\n",
    "        elif d[i]/s[i] == int(d[i]/s[i]):\n",
    "            quo_list[i] = 1\n",
    "        else: \n",
    "            quo_list[i] = 2\n",
    "    \n",
    "    for i in range(3):\n",
    "        if quo_list[i] == -1:\n",
    "            continue\n",
    "        if not quo_list[i]:\n",
    "            for v in op_dict:\n",
    "                op_dict[v].add('+'+str(add_list[i]))\n",
    "        elif quo_list[i] == 1:\n",
    "            op_dict[11].add('+'+str(add_list[i]))\n",
    "            op_dict[12].add('+'+str(add_list[i]))\n",
    "            op_dict[21].add('x'+str(mul_list[i]))\n",
    "            op_dict[22].add('x'+str(mul_list[i]))\n",
    "        else :\n",
    "            multiplier = int(d[i]//s[i])\n",
    "            a1 = int(d[i]//multiplier) - s[i]\n",
    "            a2 = d[i] - (multiplier*s[i])\n",
    "            op_dict[11].add('+'+str(a1))\n",
    "            op_dict[12].add('+'+str(a2))\n",
    "            op_dict[21].add('+'+str(a1))\n",
    "            op_dict[22].add('+'+str(a2))\n",
    "            for v in op_dict:\n",
    "                op_dict[v].add('x'+str(multiplier))\n",
    "                \n",
    "    for v in op_dict:\n",
    "        if ops > len(op_dict[v]):\n",
    "            ops = len(op_dict[v])\n",
    "    print(ops)  \n"
   ]
  },
  {
   "cell_type": "code",
   "execution_count": 13,
   "metadata": {},
   "outputs": [
    {
     "name": "stdout",
     "output_type": "stream",
     "text": [
      "1\n",
      "7\n",
      "1 3 4 5 6 2 7\n",
      "[2, 3, 4, 5, 6]     []\n",
      "2\n",
      "2 3 4\n",
      "2 5 6\n"
     ]
    }
   ],
   "source": [
    "t=int(input())\n",
    "while t:\n",
    "    t-=1\n",
    "    n = int(input())\n",
    "    a=[0]\n",
    "    a[1:]=list(map(int,input().strip().split(' ')))\n",
    "    pivot=[False]*(n+1)\n",
    "    op=[]\n",
    "    re=[]\n",
    "    flag=0\n",
    "    for i in range(1,n+1):\n",
    "        if pivot[i] or a[i]==i:\n",
    "            continue \n",
    "        else:\n",
    "            seq=[]\n",
    "            seq.append(i)\n",
    "            pivot[i]=True\n",
    "            j=a[i]\n",
    "            while j!=i:\n",
    "                pivot[j]=True\n",
    "                seq.append(j)\n",
    "                j=a[j]\n",
    "        \n",
    "        x=len(seq)\n",
    "        if x==2:\n",
    "            re.append(seq)\n",
    "            continue\n",
    "        if x%2==0:\n",
    "            re.append([seq[0],seq[-1]]) \n",
    "        for i in range(1,x-1,2):\n",
    "                op.append([seq[0],seq[i],seq[i+1]])\n",
    "            '''\n",
    "    if len(op)+len(re)>k:\n",
    "            flag=1 \n",
    "            break \n",
    "        '''\n",
    "    if flag==1 or len(re)%2!=0:\n",
    "        print(-1)\n",
    "    else:\n",
    "        print(len(op)+len(re))\n",
    "        for op in op:\n",
    "            print(*op)\n",
    "        for i in range(0,len(re),2):\n",
    "            print(re[i][0],re[i][1],re[i+1][0])\n",
    "            print(re[i][0],re[i+1][1],re[i+1][0])"
   ]
  },
  {
   "cell_type": "code",
   "execution_count": 6,
   "metadata": {},
   "outputs": [
    {
     "name": "stdout",
     "output_type": "stream",
     "text": [
      "1\n",
      "3 3\n",
      "1 2 4\n",
      "3\n"
     ]
    }
   ],
   "source": [
    "''' MAXMEX'''\n",
    "\n",
    "for _ in range(int(input())):\n",
    "    \n",
    "    l = [0] * (10**5 + 1)\n",
    "    n, m = [int(x) for x in input().split()]\n",
    "    a = [int(x) for x in input().split()]\n",
    "    for i in a:\n",
    "        l[i] += 1\n",
    "    pos = True\n",
    "    for s in range(m-1, 1, -1):\n",
    "        if not l[s]:\n",
    "            pos = False\n",
    "            break\n",
    "    if not pos:\n",
    "        print(-1)\n",
    "    else:\n",
    "        print(n - l[m])\n",
    "        "
   ]
  },
  {
   "cell_type": "code",
   "execution_count": 4,
   "metadata": {},
   "outputs": [
    {
     "data": {
      "text/plain": [
       "100001"
      ]
     },
     "execution_count": 4,
     "metadata": {},
     "output_type": "execute_result"
    }
   ],
   "source": [
    "'''COVDSMPL'''\n",
    "\n",
    "import sys\n",
    "pop = None\n",
    "for _ in range(int(input())):\n",
    "    pop = [[0 for i in range(60)] for j in range(60)]\n",
    "    n, p = [int(x) for x in input().split()]\n",
    "    for r in range(60):\n",
    "        for c in range(60):\n",
    "            print(1, r+1, c+1, r+1, c+1, sep = ' ', end = ' ')\n",
    "            sys.stdout.flush()\n",
    "            x = int(input())\n",
    "            if x == -1 :\n",
    "                sys.exit()\n",
    "            pop[r][c] = x\n",
    "    print(2)\n",
    "    for i in range(60):\n",
    "        print(*pop[i], sep = ' ')\n",
    "    x = int(input())\n",
    "    if x == -1 :\n",
    "        sys.exit()"
   ]
  },
  {
   "cell_type": "code",
   "execution_count": 5,
   "metadata": {},
   "outputs": [
    {
     "name": "stdout",
     "output_type": "stream",
     "text": [
      "1\n",
      "31 7\n",
      "5\n"
     ]
    }
   ],
   "source": [
    "'''CHFMOT18'''\n",
    "\n",
    "for _ in range(int(input())):\n",
    "    s, n = [int(x) for x in input().split()]\n",
    "    c = 0\n",
    "    if s & 1:\n",
    "        c += 1\n",
    "        s -= 1\n",
    "    while s > 0:\n",
    "        c += (s//n)\n",
    "        s = s%n\n",
    "        n = s\n",
    "    print(c)\n",
    "    "
   ]
  },
  {
   "cell_type": "code",
   "execution_count": 15,
   "metadata": {},
   "outputs": [
    {
     "name": "stdout",
     "output_type": "stream",
     "text": [
      "5\n",
      "4\n",
      "1 3 4 2\n",
      "YES\n",
      "1 2 3 4 \n",
      "6\n",
      "1 10 10 10 20 15\n",
      "NO\n",
      "5\n",
      "1 1 2 2 3\n",
      "YES\n",
      "1 2 3 2 1\n",
      "6\n",
      "1 2 2 3 3 4\n",
      "YES\n",
      "1 2 3 4 3 2\n",
      "4\n",
      "4\n",
      "YES\n",
      "4 \n"
     ]
    }
   ],
   "source": [
    "'''INCRDEC'''\n",
    "\n",
    "for _ in range(int(input())):\n",
    "    n = int(input())\n",
    "    arr = [int(x) for x in input().split()]\n",
    "    clkp = [0] * int(3e5)\n",
    "    pos = True\n",
    "    max = 0\n",
    "    asc, dsc = [], []\n",
    "    for i in arr:\n",
    "        clkp[i] += 1\n",
    "        max = i if i > max else max\n",
    "        if clkp[i] > 2:\n",
    "            pos = False\n",
    "            break\n",
    "        \n",
    "    if clkp[max] > 1:\n",
    "        pos = False\n",
    "        \n",
    "    for i in range(1, max+1):\n",
    "        if clkp[i] == 2:\n",
    "            asc.append(i)\n",
    "            dsc.insert(0,i)\n",
    "        if clkp[i] == 1:\n",
    "            asc.append(i)\n",
    "            \n",
    "    if pos:\n",
    "        print('YES')\n",
    "        #asc.sort()\n",
    "        #dsc.sort(reverse = True)\n",
    "        print(*asc, end = ' ')\n",
    "        print(*dsc)\n",
    "    else:\n",
    "        print('NO')"
   ]
  },
  {
   "cell_type": "code",
   "execution_count": null,
   "metadata": {},
   "outputs": [],
   "source": [
    "''' MAXAND18 '''\n",
    "\n",
    "import math\n",
    "import functools\n",
    "\n",
    "def count_ones(num):\n",
    "    global n_ones\n",
    "    s = bin(num)[2:]\n",
    "    for i in range(len(s)-1, -1, -1):\n",
    "        if s[i] == '1':\n",
    "            n_ones[len(s)-i-1] += 1\n",
    "            \n",
    "            \n",
    "for _ in range(int(input())):\n",
    "    n, k = [int(x) for x in input().split()]\n",
    "    arr = [int(x) for x in input().split()]\n",
    "    n_ones = [0]*30          #no of ones in each position  \n",
    "    for i in arr:\n",
    "        count_ones(i)\n",
    "    p2 = [1 << i for i in range(30)]      #powers of 2\n",
    "    max_sum = [(i,n_ones[i]*p2[i]) for i in range(30)]    #maximum sum considering all the ones at any positions\n",
    "    max_sum.sort(key = lambda x : x[1], reverse = True)\n",
    "    max_ele = 0\n",
    "    for i in range(k):\n",
    "        max_ele += p2[max_sum[i][0]]\n",
    "    print(max_ele)\n",
    "    "
   ]
  },
  {
   "cell_type": "code",
   "execution_count": 2,
   "metadata": {},
   "outputs": [
    {
     "name": "stdout",
     "output_type": "stream",
     "text": [
      "1\n",
      "6 \n",
      "1 6 11 6 10 11\n",
      "15\n"
     ]
    }
   ],
   "source": [
    "''' CHEFSTR1 '''\n",
    "for _ in range(int(input())):\n",
    "    n = int(input())\n",
    "    s = [int(x) for x in input().split()]\n",
    "    c = 0\n",
    "    for i in range(1, n):\n",
    "        c += (abs(s[i] - s[i-1]) -1)\n",
    "    print(c)"
   ]
  },
  {
   "cell_type": "code",
   "execution_count": 11,
   "metadata": {},
   "outputs": [
    {
     "name": "stdout",
     "output_type": "stream",
     "text": [
      "2\n",
      "3\n",
      "10 4\n",
      "8 12\n",
      "7 6\n",
      "0 2\n",
      "2\n",
      "5 10\n",
      "3 4\n",
      "2 1\n"
     ]
    }
   ],
   "source": [
    "''' CRDGAME '''\n",
    "def digit_sum(n):\n",
    "    s = 0\n",
    "    while n:\n",
    "        ld = n%10\n",
    "        s += ld\n",
    "        n //= 10\n",
    "    return s\n",
    "\n",
    "for _ in range(int(input())):\n",
    "    c, m = 0, 0\n",
    "    for _ in range(int(input())):\n",
    "        ci, mi = [int(x) for x in input().split()]\n",
    "        cc, mc = digit_sum(ci), digit_sum(mi)\n",
    "        if cc > mc:\n",
    "            c += 1\n",
    "        elif cc < mc:\n",
    "            m += 1\n",
    "        else:\n",
    "            c += 1\n",
    "            m += 1\n",
    "    if c > m:\n",
    "        print(0, c, sep = ' ')\n",
    "    elif c < m:\n",
    "        print(1, m, sep = ' ')\n",
    "    else:\n",
    "        print(2, c, sep = ' ')"
   ]
  },
  {
   "cell_type": "code",
   "execution_count": 15,
   "metadata": {},
   "outputs": [
    {
     "name": "stdout",
     "output_type": "stream",
     "text": [
      "0\n"
     ]
    }
   ],
   "source": [
    "''' ADAKING '''\n",
    "for _ in range (int(input())):\n",
    "    n=int(input())\n",
    "    x=n-1\n",
    "    for i in range (8):\n",
    "        for j in range (8):\n",
    "            if(i==0 and j==0):\n",
    "                print(\"O\", end=\"\")\n",
    "                continue\n",
    "            if(x>0):\n",
    "                x -=1\n",
    "                print(\".\",end=\"\")\n",
    "            else:\n",
    "                print(\"X\",end=\"\") \n",
    "                \n",
    "        print()"
   ]
  },
  {
   "cell_type": "code",
   "execution_count": 16,
   "metadata": {},
   "outputs": [
    {
     "name": "stdout",
     "output_type": "stream",
     "text": [
      "1\n",
      "2\n",
      "1 1\n",
      "1 2\n",
      "4 6\n",
      "2 1\n",
      "9 6\n",
      "9 3\n",
      "4 3\n",
      "2 2\n"
     ]
    }
   ],
   "source": [
    "''' PTMSSNG '''\n",
    "''' xoring a number even number of times leads to 0\n",
    "for odd number of times, it leads to the number itself '''\n",
    "for _ in range(int(input())):\n",
    "    rect = int(input())\n",
    "    xs, ys = 0, 0\n",
    "    for _ in range(4*rect - 1):\n",
    "        x, y = [int(x) for x in input().split()]\n",
    "        xs ^= x\n",
    "        ys ^= y\n",
    "    print(xs, ys, sep = ' ')"
   ]
  },
  {
   "cell_type": "code",
   "execution_count": 1,
   "metadata": {},
   "outputs": [
    {
     "name": "stdout",
     "output_type": "stream",
     "text": [
      "4 3\n",
      "1 2 3 4\n"
     ]
    }
   ],
   "source": [
    "''' HckerEarth's Accenture challenge problem '''\n",
    "\n",
    "class SegmentTree():\n",
    "    \n",
    "    def __init__(self, func, arr, fid=0):\n",
    "        self.func = func\n",
    "        self.tree = None\n",
    "        self.arr = list(arr)\n",
    "        self.f_identity = fid\n",
    "        self._build_tree()\n",
    "    \n",
    "    def _build_tree(self):            # o(n)\n",
    "        self.tree = [None]*(len(self.arr) - 1) + self.arr\n",
    "        for i in range(len(self.arr)-2, -1, -1):\n",
    "            self.tree[i] = self.func(self.tree[2*i+1], self.tree[2*i+2])\n",
    "            \n",
    "    def update(self, index, value):         # o(logn)\n",
    "        self.arr[index] = value\n",
    "        index += (len(self.arr) - 1)\n",
    "        self.tree[index] = value   #updating the leaf node\n",
    "        while (index := ((index-1)//2)) >= 0:   #updating upper nodes\n",
    "            updated_internal_node_val = self.func(self.tree[2*index+1], self.tree[2*index+2])\n",
    "            if updated_internal_node_val != self.tree[index]:\n",
    "                self.tree[index] = updated_internal_node_val\n",
    "            else: \n",
    "                break\n",
    "\n",
    "    def query(self, l, r):                   # O(logn)\n",
    "        if l < 0 or r >= len(self.arr):\n",
    "            return None\n",
    "        l += (len(self.arr) - 1)\n",
    "        r += (len(self.arr) - 1)\n",
    "        res = self.f_identity\n",
    "        while r >= l:   \n",
    "            if not (l & 1) :     \n",
    "                res = self.func(self.tree[l], res)\n",
    "                l += 1\n",
    "            if (r & 1) == 1 :      \n",
    "                res = self.func(self.tree[r], res)\n",
    "                r -= 1\n",
    "            r = (r-1) // 2\n",
    "            l = (l-1) // 2 \n",
    "        return res\n",
    "       \n",
    "class what_the_fuckk_am_i_doin():\n",
    "    def __init__(self, arr):\n",
    "        self.len = len(arr)\n",
    "        self.arr = arr\n",
    "        self.seg_tree_list = [list() for i in range(self.len)]\n",
    "        self._build()\n",
    "        \n",
    "    def _build(self):\n",
    "        for i in range(self.len):\n",
    "            multiplier = 0\n",
    "            for j,k in zip(range(self.len), range(i,self.len)):\n",
    "                self.seg_tree_list[i].append(self.arr[k]*(multiplier := multiplier+1))\n",
    "            self.seg_tree_list[i] = SegmentTree(lambda x, y: x+y, self.seg_tree_list[i])\n",
    "            \n",
    "    def point_update(self, pos, val):\n",
    "        multiplier = pos+1\n",
    "        for index in range(pos):\n",
    "            self.seg_tree_list[index].update(pos-index-1, (multiplier:=multiplier-1)*val)\n",
    "    \n",
    "    def query(self, l, r):\n",
    "        return self.seg_tree_list[l-1].query(0,r-l)\n",
    "        #print(r-l)\n",
    "n, q = [int(x) for x in input().split()]\n",
    "arr = [int(x) for x in input().split()]\n",
    "cf = what_the_fuckk_am_i_doin(arr)\n",
    "#cf.point_update(3, 18)\n",
    "cf.query(2, 6)"
   ]
  },
  {
   "cell_type": "code",
   "execution_count": 15,
   "metadata": {},
   "outputs": [],
   "source": [
    "matrix = [[None for _ in range(8)] for _ in range(8)]\n",
    "arr = [1,2,3,4,5,6,7,8]"
   ]
  },
  {
   "cell_type": "code",
   "execution_count": 16,
   "metadata": {},
   "outputs": [],
   "source": [
    "mul = 1\n",
    "for i in range(8):\n",
    "    for j in range(i, 8):\n",
    "        matrix[i][j] = arr[j]*mul\n",
    "    mul += 1"
   ]
  },
  {
   "cell_type": "code",
   "execution_count": 17,
   "metadata": {},
   "outputs": [
    {
     "data": {
      "text/plain": [
       "[[1, 2, 3, 4, 5, 6, 7, 8],\n",
       " [None, 4, 6, 8, 10, 12, 14, 16],\n",
       " [None, None, 9, 12, 15, 18, 21, 24],\n",
       " [None, None, None, 16, 20, 24, 28, 32],\n",
       " [None, None, None, None, 25, 30, 35, 40],\n",
       " [None, None, None, None, None, 36, 42, 48],\n",
       " [None, None, None, None, None, None, 49, 56],\n",
       " [None, None, None, None, None, None, None, 64]]"
      ]
     },
     "execution_count": 17,
     "metadata": {},
     "output_type": "execute_result"
    }
   ],
   "source": [
    "matrix"
   ]
  },
  {
   "cell_type": "code",
   "execution_count": 25,
   "metadata": {},
   "outputs": [],
   "source": [
    "elements = [[] for i in range(8)]\n",
    "for i in range(8):\n",
    "    for j in range(i+1):\n",
    "        elements[i].append(matrix[j][i])"
   ]
  },
  {
   "cell_type": "code",
   "execution_count": 28,
   "metadata": {},
   "outputs": [
    {
     "name": "stdout",
     "output_type": "stream",
     "text": [
      "[1]\n",
      "[2, 4]\n",
      "[3, 6, 9]\n",
      "[4, 8, 12, 16]\n",
      "[5, 10, 15, 20, 25]\n",
      "[6, 12, 18, 24, 30, 36]\n",
      "[7, 14, 21, 28, 35, 42, 49]\n",
      "[8, 16, 24, 32, 40, 48, 56, 64]\n"
     ]
    }
   ],
   "source": [
    "'''\n",
    "start = l\n",
    "tree [l][l-start], elements[r][r-start] -> lowest layer\n",
    "'''"
   ]
  },
  {
   "cell_type": "code",
   "execution_count": null,
   "metadata": {},
   "outputs": [],
   "source": []
  }
 ],
 "metadata": {
  "kernelspec": {
   "display_name": "Python 3",
   "language": "python",
   "name": "python3"
  },
  "language_info": {
   "codemirror_mode": {
    "name": "ipython",
    "version": 3
   },
   "file_extension": ".py",
   "mimetype": "text/x-python",
   "name": "python",
   "nbconvert_exporter": "python",
   "pygments_lexer": "ipython3",
   "version": "3.8.2"
  }
 },
 "nbformat": 4,
 "nbformat_minor": 2
}
